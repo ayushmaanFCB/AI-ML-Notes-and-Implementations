{
 "cells": [
  {
   "cell_type": "markdown",
   "metadata": {
    "id": "01cMnhKXYe7F"
   },
   "source": [
    "# PROBLEM STATEMENT\n",
    "\n",
    "*Implementation of XG Boosting in Python*\n",
    "\n",
    "1. Import Libraries\n",
    "2. Load the Dataset and Pre-Processing\n",
    "3. Implement Extreme Gradient Descent\n",
    "4. Model Predictions and Accuracy\n",
    "\n",
    "The Dataset is a ***Red-Wine Quality***. First we perform normal gradient boosting, and then perform XG boosting and compare accuracy."
   ]
  },
  {
   "cell_type": "markdown",
   "metadata": {
    "id": "NLxcTMd2c-hp"
   },
   "source": [
    "### Module 1 : Importing Libraries"
   ]
  },
  {
   "cell_type": "code",
   "execution_count": null,
   "metadata": {
    "id": "skcur6qZYks7"
   },
   "outputs": [],
   "source": [
    "import numpy as np\n",
    "import pandas as pd\n",
    "import matplotlib.pyplot as plt\n",
    "\n",
    "from sklearn.tree import DecisionTreeClassifier\n",
    "from sklearn.ensemble import GradientBoostingClassifier\n",
    "import xgboost as xgb\n",
    "\n",
    "from sklearn.model_selection import train_test_split\n",
    "from sklearn.preprocessing import StandardScaler\n",
    "\n",
    "from sklearn.metrics import precision_score, recall_score, f1_score, accuracy_score, roc_curve"
   ]
  },
  {
   "cell_type": "markdown",
   "metadata": {
    "id": "dv4v4VbmbrKC"
   },
   "source": [
    "<hr>\n",
    "\n",
    "### Module 2 : Loading the Dataset, Pre-Processing and Data Preparation"
   ]
  },
  {
   "cell_type": "code",
   "execution_count": null,
   "metadata": {
    "colab": {
     "base_uri": "https://localhost:8080/"
    },
    "executionInfo": {
     "elapsed": 7,
     "status": "ok",
     "timestamp": 1710494924125,
     "user": {
      "displayName": "AYUSHMAAN DAS BTech_AIML",
      "userId": "16690242712608209106"
     },
     "user_tz": -330
    },
    "id": "cx_eaAokba7U",
    "outputId": "5fe20cc7-bda0-475f-d54d-58296f222b14"
   },
   "outputs": [
    {
     "name": "stdout",
     "output_type": "stream",
     "text": [
      "5    681\n",
      "6    638\n",
      "7    199\n",
      "4     53\n",
      "8     18\n",
      "3     10\n",
      "Name: quality, dtype: int64 (1599, 13)\n",
      "(1599, 13)\n"
     ]
    }
   ],
   "source": [
    "df = pd.read_csv(\"./winequality-red.csv\")\n",
    "\n",
    "print(df['quality'].value_counts(), end=\" \")\n",
    "\n",
    "def quality_to_label(quality):\n",
    "    if quality <= 5:\n",
    "        return 0\n",
    "    else:\n",
    "        return 1\n",
    "\n",
    "df['quality_class'] = df['quality'].apply(quality_to_label)\n",
    "\n",
    "df.head(2)\n",
    "\n",
    "print(df.shape)\n",
    "df = df.dropna(axis=0, how='any')\n",
    "print(df.shape)"
   ]
  },
  {
   "cell_type": "markdown",
   "metadata": {
    "id": "1WLe0I7Wb42R"
   },
   "source": [
    "Data Preparation and Scaling"
   ]
  },
  {
   "cell_type": "code",
   "execution_count": null,
   "metadata": {
    "colab": {
     "base_uri": "https://localhost:8080/"
    },
    "executionInfo": {
     "elapsed": 3,
     "status": "ok",
     "timestamp": 1710494924125,
     "user": {
      "displayName": "AYUSHMAAN DAS BTech_AIML",
      "userId": "16690242712608209106"
     },
     "user_tz": -330
    },
    "id": "d0xM6AUabyL9",
    "outputId": "a4993ded-e2d9-4a65-d03f-c76a3adfcdd2"
   },
   "outputs": [
    {
     "name": "stdout",
     "output_type": "stream",
     "text": [
      "(1119, 11)\t(1119,)\n",
      "(480, 11)\t(480,)\n"
     ]
    }
   ],
   "source": [
    "X = df.drop(['quality','quality_class'], axis = 'columns')\n",
    "Y = df['quality_class']\n",
    "\n",
    "X_train, X_test, y_train, y_test = train_test_split(X, Y, test_size=0.3, random_state=42)\n",
    "\n",
    "print(X_train.shape, end=\"\\t\")\n",
    "print(y_train.shape)\n",
    "\n",
    "print(X_test.shape, end=\"\\t\")\n",
    "print(y_test.shape)"
   ]
  },
  {
   "cell_type": "code",
   "execution_count": null,
   "metadata": {
    "id": "P9ttefpSb-P5"
   },
   "outputs": [],
   "source": [
    "ss = StandardScaler()\n",
    "\n",
    "X_train = ss.fit_transform(X_train)\n",
    "X_test = ss.transform(X_test)"
   ]
  },
  {
   "cell_type": "markdown",
   "metadata": {
    "id": "nJ2SiM2OcrC3"
   },
   "source": [
    "<hr>\n",
    "\n",
    "### Module 3 : Simple Gradient Boosting"
   ]
  },
  {
   "cell_type": "code",
   "execution_count": null,
   "metadata": {
    "colab": {
     "base_uri": "https://localhost:8080/"
    },
    "executionInfo": {
     "elapsed": 2043,
     "status": "ok",
     "timestamp": 1710497364216,
     "user": {
      "displayName": "AYUSHMAAN DAS BTech_AIML",
      "userId": "16690242712608209106"
     },
     "user_tz": -330
    },
    "id": "E1kq1g99cJwc",
    "outputId": "9ff61482-da85-4e12-9f1a-62cc2c4af017"
   },
   "outputs": [
    {
     "name": "stdout",
     "output_type": "stream",
     "text": [
      "[1 0 0 0 1 0 0 0 1 1 1 1 1 0 1 1 0 0 1 0]\n"
     ]
    }
   ],
   "source": [
    "gbc = GradientBoostingClassifier(\n",
    "    n_estimators=100,\n",
    "    learning_rate=0.01,\n",
    "    max_depth=10,\n",
    "    random_state = 101\n",
    ")\n",
    "\n",
    "gbc.fit(X_train, y_train)\n",
    "preds_gbc = gbc.predict(X_test)\n",
    "\n",
    "print(preds_gbc[0:20])"
   ]
  },
  {
   "cell_type": "code",
   "execution_count": null,
   "metadata": {
    "colab": {
     "base_uri": "https://localhost:8080/"
    },
    "executionInfo": {
     "elapsed": 3,
     "status": "ok",
     "timestamp": 1710497364216,
     "user": {
      "displayName": "AYUSHMAAN DAS BTech_AIML",
      "userId": "16690242712608209106"
     },
     "user_tz": -330
    },
    "id": "YXU3ZmIogLI3",
    "outputId": "b888b3b0-3d91-471d-c900-113fcf4178c6"
   },
   "outputs": [
    {
     "name": "stdout",
     "output_type": "stream",
     "text": [
      "ACCURACY : 0.7604166666666666 \t PRECISION : 0.7794117647058824 \t RECALL : 0.7940074906367042 \t F1 SCORE : 0.7866419294990724\n"
     ]
    }
   ],
   "source": [
    "accuracy = accuracy_score(y_test, preds_gbc)\n",
    "precision = precision_score(y_test, preds_gbc)\n",
    "recall = recall_score(y_test, preds_gbc)\n",
    "f1score = f1_score(y_test, preds_gbc)\n",
    "fpr_gbc, tpr_gbc, _ = roc_curve(y_test, preds_gbc)\n",
    "\n",
    "print(f\"ACCURACY : {accuracy} \\t PRECISION : {precision} \\t RECALL : {recall} \\t F1 SCORE : {f1score}\")"
   ]
  },
  {
   "cell_type": "markdown",
   "metadata": {
    "id": "ciePUIrrg26q"
   },
   "source": [
    "<hr>\n",
    "\n",
    "### Module 4: Extreme Gradient (XG) Boosting"
   ]
  },
  {
   "cell_type": "code",
   "execution_count": null,
   "metadata": {
    "colab": {
     "base_uri": "https://localhost:8080/"
    },
    "executionInfo": {
     "elapsed": 952,
     "status": "ok",
     "timestamp": 1710497365166,
     "user": {
      "displayName": "AYUSHMAAN DAS BTech_AIML",
      "userId": "16690242712608209106"
     },
     "user_tz": -330
    },
    "id": "d1Tnb5Xggoie",
    "outputId": "8a661b22-08d8-41da-a438-3b732bb58e5b"
   },
   "outputs": [
    {
     "name": "stdout",
     "output_type": "stream",
     "text": [
      "[0 0 0 0 1 0 0 0 1 1 1 0 1 0 1 1 0 0 1 0]\n"
     ]
    }
   ],
   "source": [
    "xg = xgb.XGBClassifier(\n",
    "    n_estimators=100,\n",
    "    learning_rate=1,\n",
    "    max_depth=10,\n",
    "    random_state = 101\n",
    ")\n",
    "\n",
    "xg.fit(X_train, y_train)\n",
    "preds_xg = xg.predict(X_test)\n",
    "\n",
    "print(preds_xg[0:20])"
   ]
  },
  {
   "cell_type": "code",
   "execution_count": null,
   "metadata": {
    "colab": {
     "base_uri": "https://localhost:8080/"
    },
    "executionInfo": {
     "elapsed": 3,
     "status": "ok",
     "timestamp": 1710497365166,
     "user": {
      "displayName": "AYUSHMAAN DAS BTech_AIML",
      "userId": "16690242712608209106"
     },
     "user_tz": -330
    },
    "id": "7z4h2h68hepb",
    "outputId": "4020c9d3-adbf-4ef0-9a49-bc642e93caf1"
   },
   "outputs": [
    {
     "name": "stdout",
     "output_type": "stream",
     "text": [
      "ACCURACY : 0.78125 \t PRECISION : 0.7892857142857143 \t RECALL : 0.8277153558052435 \t F1 SCORE : 0.8080438756855577\n"
     ]
    }
   ],
   "source": [
    "accuracy = accuracy_score(y_test, preds_xg)\n",
    "precision = precision_score(y_test, preds_xg)\n",
    "recall = recall_score(y_test, preds_xg)\n",
    "f1score = f1_score(y_test, preds_xg)\n",
    "fpr_xg, tpr_xg, _ = roc_curve(y_test, preds_xg)\n",
    "\n",
    "print(f\"ACCURACY : {accuracy} \\t PRECISION : {precision} \\t RECALL : {recall} \\t F1 SCORE : {f1score}\")"
   ]
  },
  {
   "cell_type": "markdown",
   "metadata": {
    "id": "5K29S-s-iLW5"
   },
   "source": [
    "<hr>\n",
    "\n",
    "### Module 5 : Comparison of Both the Models"
   ]
  },
  {
   "cell_type": "code",
   "execution_count": null,
   "metadata": {
    "colab": {
     "base_uri": "https://localhost:8080/",
     "height": 527
    },
    "executionInfo": {
     "elapsed": 1397,
     "status": "ok",
     "timestamp": 1710497723913,
     "user": {
      "displayName": "AYUSHMAAN DAS BTech_AIML",
      "userId": "16690242712608209106"
     },
     "user_tz": -330
    },
    "id": "jzpI2GfOhvHw",
    "outputId": "bdefa768-67d8-4b06-a92f-e4c8602453c7"
   },
   "outputs": [
    {
     "name": "stderr",
     "output_type": "stream",
     "text": [
      "<ipython-input-71-a470593037ef>:3: MatplotlibDeprecationWarning: Auto-removal of overlapping axes is deprecated since 3.6 and will be removed two minor releases later; explicitly call ax.remove() as needed.\n",
      "  plt.subplot(1,2,1)\n"
     ]
    },
    {
     "data": {
      "image/png": "[encoded data removed]",
      "text/plain": [
       "<Figure size 640x480 with 2 Axes>"
      ]
     },
     "metadata": {},
     "output_type": "display_data"
    }
   ],
   "source": [
    "_, ax = plt.subplots()\n",
    "\n",
    "plt.subplot(1,2,1)\n",
    "# ax.set_xticklabels(np.arange(0,1,0.1))\n",
    "\n",
    "plt.plot(fpr_gbc, tpr_gbc)\n",
    "plt.ylabel('True Positive Rate')\n",
    "plt.xlabel('False Positive Rate')\n",
    "plt.title('ROC Curve')\n",
    "\n",
    "plt.subplot(1,2,2)\n",
    "\n",
    "plt.plot(fpr_xg, tpr_xg)\n",
    "plt.ylabel('True Positive Rate')\n",
    "plt.xlabel('False Positive Rate')\n",
    "plt.title('ROC Curve')\n",
    "plt.show()"
   ]
  },
  {
   "cell_type": "markdown",
   "metadata": {
    "id": "UnH5MSKIlcn7"
   },
   "source": [
    "<hr><hr>"
   ]
  }
 ],
 "metadata": {
  "accelerator": "GPU",
  "colab": {
   "gpuType": "T4",
   "provenance": []
  },
  "kernelspec": {
   "display_name": "Python 3",
   "name": "python3"
  },
  "language_info": {
   "name": "python"
  }
 },
 "nbformat": 4,
 "nbformat_minor": 0
}
