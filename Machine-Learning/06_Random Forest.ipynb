{
 "cells": [
  {
   "cell_type": "markdown",
   "metadata": {
    "id": "01cMnhKXYe7F"
   },
   "source": [
    "# PROBLEM STATEMENT\n",
    "\n",
    "*Implementation of Random Forest*\n",
    "\n",
    "1. Import Libraries\n",
    "2. Load the Dataset and Pre-Processing\n",
    "3. Implement Random Forest\n",
    "4. Model Predictions and Accuracy\n",
    "\n",
    "The Dataset is a ***Red-Wine Quality***."
   ]
  },
  {
   "cell_type": "markdown",
   "metadata": {
    "id": "NLxcTMd2c-hp"
   },
   "source": [
    "### Module 1 : Importing Libraries"
   ]
  },
  {
   "cell_type": "code",
   "execution_count": null,
   "metadata": {
    "id": "skcur6qZYks7"
   },
   "outputs": [],
   "source": [
    "import numpy as np\n",
    "import pandas as pd\n",
    "import matplotlib.pyplot as plt\n",
    "\n",
    "from sklearn import tree\n",
    "from sklearn.ensemble import RandomForestClassifier\n",
    "\n",
    "from sklearn.tree import export_graphviz\n",
    "from IPython.display import Image\n",
    "import graphviz\n",
    "\n",
    "from sklearn.model_selection import train_test_split\n",
    "from sklearn.preprocessing import StandardScaler\n",
    "\n",
    "from sklearn.metrics import precision_score, recall_score, f1_score, accuracy_score, roc_curve"
   ]
  },
  {
   "cell_type": "markdown",
   "metadata": {
    "id": "dv4v4VbmbrKC"
   },
   "source": [
    "<hr>\n",
    "\n",
    "### Module 2 : Loading the Dataset, Pre-Processing and Data Preparation"
   ]
  },
  {
   "cell_type": "code",
   "execution_count": null,
   "metadata": {
    "colab": {
     "base_uri": "https://localhost:8080/"
    },
    "executionInfo": {
     "elapsed": 6,
     "status": "ok",
     "timestamp": 1712311418046,
     "user": {
      "displayName": "AYUSHMAAN DAS BTech_AIML",
      "userId": "16690242712608209106"
     },
     "user_tz": -330
    },
    "id": "cx_eaAokba7U",
    "outputId": "984256ce-d051-439c-9a86-dc20f7dd37a2"
   },
   "outputs": [
    {
     "name": "stdout",
     "output_type": "stream",
     "text": [
      "quality\n",
      "5    681\n",
      "6    638\n",
      "7    199\n",
      "4     53\n",
      "8     18\n",
      "3     10\n",
      "Name: count, dtype: int64 (1599, 13)\n",
      "(1599, 13)\n"
     ]
    }
   ],
   "source": [
    "df = pd.read_csv(\"./winequality-red.csv\")\n",
    "\n",
    "print(df['quality'].value_counts(), end=\" \")\n",
    "\n",
    "def quality_to_label(quality):\n",
    "    if quality <= 5:\n",
    "        return 0\n",
    "    else:\n",
    "        return 1\n",
    "\n",
    "df['quality_class'] = df['quality'].apply(quality_to_label)\n",
    "\n",
    "df.head(2)\n",
    "\n",
    "print(df.shape)\n",
    "df = df.dropna(axis=0, how='any')\n",
    "print(df.shape)"
   ]
  },
  {
   "cell_type": "markdown",
   "metadata": {
    "id": "1WLe0I7Wb42R"
   },
   "source": [
    "Data Preparation and Scaling"
   ]
  },
  {
   "cell_type": "code",
   "execution_count": null,
   "metadata": {
    "colab": {
     "base_uri": "https://localhost:8080/"
    },
    "executionInfo": {
     "elapsed": 4,
     "status": "ok",
     "timestamp": 1712311421611,
     "user": {
      "displayName": "AYUSHMAAN DAS BTech_AIML",
      "userId": "16690242712608209106"
     },
     "user_tz": -330
    },
    "id": "d0xM6AUabyL9",
    "outputId": "fd854128-490c-4f92-a0c8-5c45e8166206"
   },
   "outputs": [
    {
     "name": "stdout",
     "output_type": "stream",
     "text": [
      "(1119, 11)\t(1119,)\n",
      "(480, 11)\t(480,)\n"
     ]
    }
   ],
   "source": [
    "X = df.drop(['quality','quality_class'], axis = 'columns')\n",
    "Y = df['quality_class']\n",
    "\n",
    "X_train, X_test, y_train, y_test = train_test_split(X, Y, test_size=0.3, random_state=42)\n",
    "\n",
    "print(X_train.shape, end=\"\\t\")\n",
    "print(y_train.shape)\n",
    "\n",
    "print(X_test.shape, end=\"\\t\")\n",
    "print(y_test.shape)"
   ]
  },
  {
   "cell_type": "code",
   "execution_count": null,
   "metadata": {
    "id": "P9ttefpSb-P5"
   },
   "outputs": [],
   "source": [
    "ss = StandardScaler()\n",
    "\n",
    "X_train = ss.fit_transform(X_train)\n",
    "X_test = ss.transform(X_test)"
   ]
  },
  {
   "cell_type": "markdown",
   "metadata": {
    "id": "nJ2SiM2OcrC3"
   },
   "source": [
    "<hr>\n",
    "\n",
    "### Module 3 : Model Building and Training"
   ]
  },
  {
   "cell_type": "code",
   "execution_count": null,
   "metadata": {
    "colab": {
     "base_uri": "https://localhost:8080/",
     "height": 75
    },
    "executionInfo": {
     "elapsed": 623,
     "status": "ok",
     "timestamp": 1712311528178,
     "user": {
      "displayName": "AYUSHMAAN DAS BTech_AIML",
      "userId": "16690242712608209106"
     },
     "user_tz": -330
    },
    "id": "E1kq1g99cJwc",
    "outputId": "4098a82a-b83b-4c7f-a929-ab197f45fe1e"
   },
   "outputs": [
    {
     "data": {
      "text/html": [
       "<style>#sk-container-id-2 {color: black;background-color: white;}#sk-container-id-2 pre{padding: 0;}#sk-container-id-2 div.sk-toggleable {background-color: white;}#sk-container-id-2 label.sk-toggleable__label {cursor: pointer;display: block;width: 100%;margin-bottom: 0;padding: 0.3em;box-sizing: border-box;text-align: center;}#sk-container-id-2 label.sk-toggleable__label-arrow:before {content: \"▸\";float: left;margin-right: 0.25em;color: #696969;}#sk-container-id-2 label.sk-toggleable__label-arrow:hover:before {color: black;}#sk-container-id-2 div.sk-estimator:hover label.sk-toggleable__label-arrow:before {color: black;}#sk-container-id-2 div.sk-toggleable__content {max-height: 0;max-width: 0;overflow: hidden;text-align: left;background-color: #f0f8ff;}#sk-container-id-2 div.sk-toggleable__content pre {margin: 0.2em;color: black;border-radius: 0.25em;background-color: #f0f8ff;}#sk-container-id-2 input.sk-toggleable__control:checked~div.sk-toggleable__content {max-height: 200px;max-width: 100%;overflow: auto;}#sk-container-id-2 input.sk-toggleable__control:checked~label.sk-toggleable__label-arrow:before {content: \"▾\";}#sk-container-id-2 div.sk-estimator input.sk-toggleable__control:checked~label.sk-toggleable__label {background-color: #d4ebff;}#sk-container-id-2 div.sk-label input.sk-toggleable__control:checked~label.sk-toggleable__label {background-color: #d4ebff;}#sk-container-id-2 input.sk-hidden--visually {border: 0;clip: rect(1px 1px 1px 1px);clip: rect(1px, 1px, 1px, 1px);height: 1px;margin: -1px;overflow: hidden;padding: 0;position: absolute;width: 1px;}#sk-container-id-2 div.sk-estimator {font-family: monospace;background-color: #f0f8ff;border: 1px dotted black;border-radius: 0.25em;box-sizing: border-box;margin-bottom: 0.5em;}#sk-container-id-2 div.sk-estimator:hover {background-color: #d4ebff;}#sk-container-id-2 div.sk-parallel-item::after {content: \"\";width: 100%;border-bottom: 1px solid gray;flex-grow: 1;}#sk-container-id-2 div.sk-label:hover label.sk-toggleable__label {background-color: #d4ebff;}#sk-container-id-2 div.sk-serial::before {content: \"\";position: absolute;border-left: 1px solid gray;box-sizing: border-box;top: 0;bottom: 0;left: 50%;z-index: 0;}#sk-container-id-2 div.sk-serial {display: flex;flex-direction: column;align-items: center;background-color: white;padding-right: 0.2em;padding-left: 0.2em;position: relative;}#sk-container-id-2 div.sk-item {position: relative;z-index: 1;}#sk-container-id-2 div.sk-parallel {display: flex;align-items: stretch;justify-content: center;background-color: white;position: relative;}#sk-container-id-2 div.sk-item::before, #sk-container-id-2 div.sk-parallel-item::before {content: \"\";position: absolute;border-left: 1px solid gray;box-sizing: border-box;top: 0;bottom: 0;left: 50%;z-index: -1;}#sk-container-id-2 div.sk-parallel-item {display: flex;flex-direction: column;z-index: 1;position: relative;background-color: white;}#sk-container-id-2 div.sk-parallel-item:first-child::after {align-self: flex-end;width: 50%;}#sk-container-id-2 div.sk-parallel-item:last-child::after {align-self: flex-start;width: 50%;}#sk-container-id-2 div.sk-parallel-item:only-child::after {width: 0;}#sk-container-id-2 div.sk-dashed-wrapped {border: 1px dashed gray;margin: 0 0.4em 0.5em 0.4em;box-sizing: border-box;padding-bottom: 0.4em;background-color: white;}#sk-container-id-2 div.sk-label label {font-family: monospace;font-weight: bold;display: inline-block;line-height: 1.2em;}#sk-container-id-2 div.sk-label-container {text-align: center;}#sk-container-id-2 div.sk-container {/* jupyter's `normalize.less` sets `[hidden] { display: none; }` but bootstrap.min.css set `[hidden] { display: none !important; }` so we also need the `!important` here to be able to override the default hidden behavior on the sphinx rendered scikit-learn.org. See: https://github.com/scikit-learn/scikit-learn/issues/21755 */display: inline-block !important;position: relative;}#sk-container-id-2 div.sk-text-repr-fallback {display: none;}</style><div id=\"sk-container-id-2\" class=\"sk-top-container\"><div class=\"sk-text-repr-fallback\"><pre>RandomForestClassifier()</pre><b>In a Jupyter environment, please rerun this cell to show the HTML representation or trust the notebook. <br />On GitHub, the HTML representation is unable to render, please try loading this page with nbviewer.org.</b></div><div class=\"sk-container\" hidden><div class=\"sk-item\"><div class=\"sk-estimator sk-toggleable\"><input class=\"sk-toggleable__control sk-hidden--visually\" id=\"sk-estimator-id-2\" type=\"checkbox\" checked><label for=\"sk-estimator-id-2\" class=\"sk-toggleable__label sk-toggleable__label-arrow\">RandomForestClassifier</label><div class=\"sk-toggleable__content\"><pre>RandomForestClassifier()</pre></div></div></div></div></div>"
      ],
      "text/plain": [
       "RandomForestClassifier()"
      ]
     },
     "execution_count": 10,
     "metadata": {},
     "output_type": "execute_result"
    }
   ],
   "source": [
    "rf = RandomForestClassifier()\n",
    "rf.fit(X_train, y_train)"
   ]
  },
  {
   "cell_type": "markdown",
   "metadata": {
    "id": "wNTe-HiHqiT6"
   },
   "source": [
    "Visualizing the tree"
   ]
  },
  {
   "cell_type": "code",
   "execution_count": null,
   "metadata": {
    "colab": {
     "base_uri": "https://localhost:8080/",
     "height": 1274
    },
    "executionInfo": {
     "elapsed": 5,
     "status": "ok",
     "timestamp": 1712311544977,
     "user": {
      "displayName": "AYUSHMAAN DAS BTech_AIML",
      "userId": "16690242712608209106"
     },
     "user_tz": -330
    },
    "id": "oSRPqbchqfmt",
    "outputId": "e43abaa2-326f-4677-a2a6-b47ae687e533"
   },
   "outputs": [
    {
     "data": {
      "image/svg+xml": [
       "<?xml version=\"1.0\" encoding=\"UTF-8\" standalone=\"no\"?>\n",
       "<!DOCTYPE svg PUBLIC \"-//W3C//DTD SVG 1.1//EN\"\n",
       " \"http://www.w3.org/Graphics/SVG/1.1/DTD/svg11.dtd\">\n",
       "<!-- Generated by graphviz version 2.43.0 (0)\n",
       " -->\n",
       "<!-- Title: Tree Pages: 1 -->\n",
       "<svg width=\"642pt\" height=\"311pt\"\n",
       " viewBox=\"0.00 0.00 641.50 311.00\" xmlns=\"http://www.w3.org/2000/svg\" xmlns:xlink=\"http://www.w3.org/1999/xlink\">\n",
       "<g id=\"graph0\" class=\"graph\" transform=\"scale(1 1) rotate(0) translate(4 307)\">\n",
       "<title>Tree</title>\n",
       "<polygon fill=\"white\" stroke=\"transparent\" points=\"-4,4 -4,-307 637.5,-307 637.5,4 -4,4\"/>\n",
       "<!-- 0 -->\n",
       "<g id=\"node1\" class=\"node\">\n",
       "<title>0</title>\n",
       "<polygon fill=\"#fafcfe\" stroke=\"black\" points=\"373,-303 226,-303 226,-250 373,-250 373,-303\"/>\n",
       "<text text-anchor=\"middle\" x=\"299.5\" y=\"-287.8\" font-family=\"Helvetica,sans-Serif\" font-size=\"14.00\">sulphates &lt;= &#45;0.429</text>\n",
       "<text text-anchor=\"middle\" x=\"299.5\" y=\"-272.8\" font-family=\"Helvetica,sans-Serif\" font-size=\"14.00\">samples = 100.0%</text>\n",
       "<text text-anchor=\"middle\" x=\"299.5\" y=\"-257.8\" font-family=\"Helvetica,sans-Serif\" font-size=\"14.00\">value = [0.493, 0.507]</text>\n",
       "</g>\n",
       "<!-- 1 -->\n",
       "<g id=\"node2\" class=\"node\">\n",
       "<title>1</title>\n",
       "<polygon fill=\"#eead7e\" stroke=\"black\" points=\"298,-214 135,-214 135,-161 298,-161 298,-214\"/>\n",
       "<text text-anchor=\"middle\" x=\"216.5\" y=\"-198.8\" font-family=\"Helvetica,sans-Serif\" font-size=\"14.00\">volatile acidity &lt;= &#45;1.199</text>\n",
       "<text text-anchor=\"middle\" x=\"216.5\" y=\"-183.8\" font-family=\"Helvetica,sans-Serif\" font-size=\"14.00\">samples = 39.7%</text>\n",
       "<text text-anchor=\"middle\" x=\"216.5\" y=\"-168.8\" font-family=\"Helvetica,sans-Serif\" font-size=\"14.00\">value = [0.741, 0.259]</text>\n",
       "</g>\n",
       "<!-- 0&#45;&gt;1 -->\n",
       "<g id=\"edge1\" class=\"edge\">\n",
       "<title>0&#45;&gt;1</title>\n",
       "<path fill=\"none\" stroke=\"black\" d=\"M275.05,-249.87C266.59,-241.01 257,-230.95 248.06,-221.58\"/>\n",
       "<polygon fill=\"black\" stroke=\"black\" points=\"250.5,-219.07 241.07,-214.25 245.44,-223.9 250.5,-219.07\"/>\n",
       "<text text-anchor=\"middle\" x=\"240.48\" y=\"-235.54\" font-family=\"Helvetica,sans-Serif\" font-size=\"14.00\">True</text>\n",
       "</g>\n",
       "<!-- 146 -->\n",
       "<g id=\"node9\" class=\"node\">\n",
       "<title>146</title>\n",
       "<polygon fill=\"#9bcdf2\" stroke=\"black\" points=\"449.5,-214 317.5,-214 317.5,-161 449.5,-161 449.5,-214\"/>\n",
       "<text text-anchor=\"middle\" x=\"383.5\" y=\"-198.8\" font-family=\"Helvetica,sans-Serif\" font-size=\"14.00\">alcohol &lt;= 0.102</text>\n",
       "<text text-anchor=\"middle\" x=\"383.5\" y=\"-183.8\" font-family=\"Helvetica,sans-Serif\" font-size=\"14.00\">samples = 60.3%</text>\n",
       "<text text-anchor=\"middle\" x=\"383.5\" y=\"-168.8\" font-family=\"Helvetica,sans-Serif\" font-size=\"14.00\">value = [0.33, 0.67]</text>\n",
       "</g>\n",
       "<!-- 0&#45;&gt;146 -->\n",
       "<g id=\"edge8\" class=\"edge\">\n",
       "<title>0&#45;&gt;146</title>\n",
       "<path fill=\"none\" stroke=\"black\" d=\"M324.25,-249.87C332.8,-241.01 342.51,-230.95 351.56,-221.58\"/>\n",
       "<polygon fill=\"black\" stroke=\"black\" points=\"354.21,-223.87 358.64,-214.25 349.17,-219.01 354.21,-223.87\"/>\n",
       "<text text-anchor=\"middle\" x=\"359.08\" y=\"-235.55\" font-family=\"Helvetica,sans-Serif\" font-size=\"14.00\">False</text>\n",
       "</g>\n",
       "<!-- 2 -->\n",
       "<g id=\"node3\" class=\"node\">\n",
       "<title>2</title>\n",
       "<polygon fill=\"#6ab6ec\" stroke=\"black\" points=\"131,-125 0,-125 0,-72 131,-72 131,-125\"/>\n",
       "<text text-anchor=\"middle\" x=\"65.5\" y=\"-109.8\" font-family=\"Helvetica,sans-Serif\" font-size=\"14.00\">citric acid &lt;= 0.587</text>\n",
       "<text text-anchor=\"middle\" x=\"65.5\" y=\"-94.8\" font-family=\"Helvetica,sans-Serif\" font-size=\"14.00\">samples = 1.6%</text>\n",
       "<text text-anchor=\"middle\" x=\"65.5\" y=\"-79.8\" font-family=\"Helvetica,sans-Serif\" font-size=\"14.00\">value = [0.2, 0.8]</text>\n",
       "</g>\n",
       "<!-- 1&#45;&gt;2 -->\n",
       "<g id=\"edge2\" class=\"edge\">\n",
       "<title>1&#45;&gt;2</title>\n",
       "<path fill=\"none\" stroke=\"black\" d=\"M172.01,-160.87C155.34,-151.26 136.23,-140.25 118.85,-130.24\"/>\n",
       "<polygon fill=\"black\" stroke=\"black\" points=\"120.34,-127.06 109.93,-125.1 116.85,-133.12 120.34,-127.06\"/>\n",
       "</g>\n",
       "<!-- 9 -->\n",
       "<g id=\"node6\" class=\"node\">\n",
       "<title>9</title>\n",
       "<polygon fill=\"#eda978\" stroke=\"black\" points=\"284,-125 149,-125 149,-72 284,-72 284,-125\"/>\n",
       "<text text-anchor=\"middle\" x=\"216.5\" y=\"-109.8\" font-family=\"Helvetica,sans-Serif\" font-size=\"14.00\">citric acid &lt;= &#45;1.357</text>\n",
       "<text text-anchor=\"middle\" x=\"216.5\" y=\"-94.8\" font-family=\"Helvetica,sans-Serif\" font-size=\"14.00\">samples = 38.2%</text>\n",
       "<text text-anchor=\"middle\" x=\"216.5\" y=\"-79.8\" font-family=\"Helvetica,sans-Serif\" font-size=\"14.00\">value = [0.76, 0.24]</text>\n",
       "</g>\n",
       "<!-- 1&#45;&gt;9 -->\n",
       "<g id=\"edge5\" class=\"edge\">\n",
       "<title>1&#45;&gt;9</title>\n",
       "<path fill=\"none\" stroke=\"black\" d=\"M216.5,-160.87C216.5,-152.89 216.5,-143.93 216.5,-135.38\"/>\n",
       "<polygon fill=\"black\" stroke=\"black\" points=\"220,-135.25 216.5,-125.25 213,-135.25 220,-135.25\"/>\n",
       "</g>\n",
       "<!-- 3 -->\n",
       "<g id=\"node4\" class=\"node\">\n",
       "<title>3</title>\n",
       "<polygon fill=\"#c0c0c0\" stroke=\"black\" points=\"86.5,-36 32.5,-36 32.5,0 86.5,0 86.5,-36\"/>\n",
       "<text text-anchor=\"middle\" x=\"59.5\" y=\"-14.3\" font-family=\"Helvetica,sans-Serif\" font-size=\"14.00\">(...)</text>\n",
       "</g>\n",
       "<!-- 2&#45;&gt;3 -->\n",
       "<g id=\"edge3\" class=\"edge\">\n",
       "<title>2&#45;&gt;3</title>\n",
       "<path fill=\"none\" stroke=\"black\" d=\"M63.54,-71.8C62.92,-63.71 62.23,-54.76 61.61,-46.55\"/>\n",
       "<polygon fill=\"black\" stroke=\"black\" points=\"65.08,-46.03 60.82,-36.33 58.1,-46.57 65.08,-46.03\"/>\n",
       "</g>\n",
       "<!-- 8 -->\n",
       "<g id=\"node5\" class=\"node\">\n",
       "<title>8</title>\n",
       "<polygon fill=\"#c0c0c0\" stroke=\"black\" points=\"158.5,-36 104.5,-36 104.5,0 158.5,0 158.5,-36\"/>\n",
       "<text text-anchor=\"middle\" x=\"131.5\" y=\"-14.3\" font-family=\"Helvetica,sans-Serif\" font-size=\"14.00\">(...)</text>\n",
       "</g>\n",
       "<!-- 2&#45;&gt;8 -->\n",
       "<g id=\"edge4\" class=\"edge\">\n",
       "<title>2&#45;&gt;8</title>\n",
       "<path fill=\"none\" stroke=\"black\" d=\"M87.11,-71.8C94.59,-62.9 102.97,-52.93 110.41,-44.08\"/>\n",
       "<polygon fill=\"black\" stroke=\"black\" points=\"113.17,-46.24 116.93,-36.33 107.81,-41.73 113.17,-46.24\"/>\n",
       "</g>\n",
       "<!-- 10 -->\n",
       "<g id=\"node7\" class=\"node\">\n",
       "<title>10</title>\n",
       "<polygon fill=\"#c0c0c0\" stroke=\"black\" points=\"236.5,-36 182.5,-36 182.5,0 236.5,0 236.5,-36\"/>\n",
       "<text text-anchor=\"middle\" x=\"209.5\" y=\"-14.3\" font-family=\"Helvetica,sans-Serif\" font-size=\"14.00\">(...)</text>\n",
       "</g>\n",
       "<!-- 9&#45;&gt;10 -->\n",
       "<g id=\"edge6\" class=\"edge\">\n",
       "<title>9&#45;&gt;10</title>\n",
       "<path fill=\"none\" stroke=\"black\" d=\"M214.21,-71.8C213.49,-63.71 212.69,-54.76 211.96,-46.55\"/>\n",
       "<polygon fill=\"black\" stroke=\"black\" points=\"215.42,-45.98 211.05,-36.33 208.45,-46.6 215.42,-45.98\"/>\n",
       "</g>\n",
       "<!-- 19 -->\n",
       "<g id=\"node8\" class=\"node\">\n",
       "<title>19</title>\n",
       "<polygon fill=\"#c0c0c0\" stroke=\"black\" points=\"308.5,-36 254.5,-36 254.5,0 308.5,0 308.5,-36\"/>\n",
       "<text text-anchor=\"middle\" x=\"281.5\" y=\"-14.3\" font-family=\"Helvetica,sans-Serif\" font-size=\"14.00\">(...)</text>\n",
       "</g>\n",
       "<!-- 9&#45;&gt;19 -->\n",
       "<g id=\"edge7\" class=\"edge\">\n",
       "<title>9&#45;&gt;19</title>\n",
       "<path fill=\"none\" stroke=\"black\" d=\"M237.78,-71.8C245.15,-62.9 253.4,-52.93 260.73,-44.08\"/>\n",
       "<polygon fill=\"black\" stroke=\"black\" points=\"263.47,-46.26 267.15,-36.33 258.08,-41.8 263.47,-46.26\"/>\n",
       "</g>\n",
       "<!-- 147 -->\n",
       "<g id=\"node10\" class=\"node\">\n",
       "<title>147</title>\n",
       "<polygon fill=\"#fdf4ee\" stroke=\"black\" points=\"465,-125 302,-125 302,-72 465,-72 465,-125\"/>\n",
       "<text text-anchor=\"middle\" x=\"383.5\" y=\"-109.8\" font-family=\"Helvetica,sans-Serif\" font-size=\"14.00\">volatile acidity &lt;= &#45;0.704</text>\n",
       "<text text-anchor=\"middle\" x=\"383.5\" y=\"-94.8\" font-family=\"Helvetica,sans-Serif\" font-size=\"14.00\">samples = 32.4%</text>\n",
       "<text text-anchor=\"middle\" x=\"383.5\" y=\"-79.8\" font-family=\"Helvetica,sans-Serif\" font-size=\"14.00\">value = [0.522, 0.478]</text>\n",
       "</g>\n",
       "<!-- 146&#45;&gt;147 -->\n",
       "<g id=\"edge9\" class=\"edge\">\n",
       "<title>146&#45;&gt;147</title>\n",
       "<path fill=\"none\" stroke=\"black\" d=\"M383.5,-160.87C383.5,-152.89 383.5,-143.93 383.5,-135.38\"/>\n",
       "<polygon fill=\"black\" stroke=\"black\" points=\"387,-135.25 383.5,-125.25 380,-135.25 387,-135.25\"/>\n",
       "</g>\n",
       "<!-- 284 -->\n",
       "<g id=\"node13\" class=\"node\">\n",
       "<title>284</title>\n",
       "<polygon fill=\"#51a9e8\" stroke=\"black\" points=\"630,-125 483,-125 483,-72 630,-72 630,-125\"/>\n",
       "<text text-anchor=\"middle\" x=\"556.5\" y=\"-109.8\" font-family=\"Helvetica,sans-Serif\" font-size=\"14.00\">citric acid &lt;= 1.406</text>\n",
       "<text text-anchor=\"middle\" x=\"556.5\" y=\"-94.8\" font-family=\"Helvetica,sans-Serif\" font-size=\"14.00\">samples = 27.9%</text>\n",
       "<text text-anchor=\"middle\" x=\"556.5\" y=\"-79.8\" font-family=\"Helvetica,sans-Serif\" font-size=\"14.00\">value = [0.106, 0.894]</text>\n",
       "</g>\n",
       "<!-- 146&#45;&gt;284 -->\n",
       "<g id=\"edge12\" class=\"edge\">\n",
       "<title>146&#45;&gt;284</title>\n",
       "<path fill=\"none\" stroke=\"black\" d=\"M434.47,-160.87C453.92,-151.09 476.26,-139.85 496.48,-129.68\"/>\n",
       "<polygon fill=\"black\" stroke=\"black\" points=\"498.23,-132.72 505.6,-125.1 495.09,-126.47 498.23,-132.72\"/>\n",
       "</g>\n",
       "<!-- 148 -->\n",
       "<g id=\"node11\" class=\"node\">\n",
       "<title>148</title>\n",
       "<polygon fill=\"#c0c0c0\" stroke=\"black\" points=\"395.5,-36 341.5,-36 341.5,0 395.5,0 395.5,-36\"/>\n",
       "<text text-anchor=\"middle\" x=\"368.5\" y=\"-14.3\" font-family=\"Helvetica,sans-Serif\" font-size=\"14.00\">(...)</text>\n",
       "</g>\n",
       "<!-- 147&#45;&gt;148 -->\n",
       "<g id=\"edge10\" class=\"edge\">\n",
       "<title>147&#45;&gt;148</title>\n",
       "<path fill=\"none\" stroke=\"black\" d=\"M378.59,-71.8C377.03,-63.62 375.29,-54.55 373.71,-46.27\"/>\n",
       "<polygon fill=\"black\" stroke=\"black\" points=\"377.13,-45.5 371.81,-36.33 370.25,-46.81 377.13,-45.5\"/>\n",
       "</g>\n",
       "<!-- 181 -->\n",
       "<g id=\"node12\" class=\"node\">\n",
       "<title>181</title>\n",
       "<polygon fill=\"#c0c0c0\" stroke=\"black\" points=\"467.5,-36 413.5,-36 413.5,0 467.5,0 467.5,-36\"/>\n",
       "<text text-anchor=\"middle\" x=\"440.5\" y=\"-14.3\" font-family=\"Helvetica,sans-Serif\" font-size=\"14.00\">(...)</text>\n",
       "</g>\n",
       "<!-- 147&#45;&gt;181 -->\n",
       "<g id=\"edge11\" class=\"edge\">\n",
       "<title>147&#45;&gt;181</title>\n",
       "<path fill=\"none\" stroke=\"black\" d=\"M402.16,-71.8C408.5,-63.08 415.56,-53.34 421.89,-44.63\"/>\n",
       "<polygon fill=\"black\" stroke=\"black\" points=\"424.87,-46.48 427.92,-36.33 419.21,-42.37 424.87,-46.48\"/>\n",
       "</g>\n",
       "<!-- 285 -->\n",
       "<g id=\"node14\" class=\"node\">\n",
       "<title>285</title>\n",
       "<polygon fill=\"#c0c0c0\" stroke=\"black\" points=\"561.5,-36 507.5,-36 507.5,0 561.5,0 561.5,-36\"/>\n",
       "<text text-anchor=\"middle\" x=\"534.5\" y=\"-14.3\" font-family=\"Helvetica,sans-Serif\" font-size=\"14.00\">(...)</text>\n",
       "</g>\n",
       "<!-- 284&#45;&gt;285 -->\n",
       "<g id=\"edge13\" class=\"edge\">\n",
       "<title>284&#45;&gt;285</title>\n",
       "<path fill=\"none\" stroke=\"black\" d=\"M549.3,-71.8C546.98,-63.53 544.41,-54.35 542.07,-46\"/>\n",
       "<polygon fill=\"black\" stroke=\"black\" points=\"545.43,-45.01 539.36,-36.33 538.69,-46.9 545.43,-45.01\"/>\n",
       "</g>\n",
       "<!-- 328 -->\n",
       "<g id=\"node15\" class=\"node\">\n",
       "<title>328</title>\n",
       "<polygon fill=\"#c0c0c0\" stroke=\"black\" points=\"633.5,-36 579.5,-36 579.5,0 633.5,0 633.5,-36\"/>\n",
       "<text text-anchor=\"middle\" x=\"606.5\" y=\"-14.3\" font-family=\"Helvetica,sans-Serif\" font-size=\"14.00\">(...)</text>\n",
       "</g>\n",
       "<!-- 284&#45;&gt;328 -->\n",
       "<g id=\"edge14\" class=\"edge\">\n",
       "<title>284&#45;&gt;328</title>\n",
       "<path fill=\"none\" stroke=\"black\" d=\"M572.87,-71.8C578.37,-63.17 584.5,-53.54 590,-44.9\"/>\n",
       "<polygon fill=\"black\" stroke=\"black\" points=\"593.04,-46.65 595.46,-36.33 587.14,-42.88 593.04,-46.65\"/>\n",
       "</g>\n",
       "</g>\n",
       "</svg>\n"
      ],
      "text/plain": [
       "<graphviz.sources.Source at 0x7e897e215420>"
      ]
     },
     "metadata": {},
     "output_type": "display_data"
    },
    {
     "data": {
      "image/svg+xml": [
       "<?xml version=\"1.0\" encoding=\"UTF-8\" standalone=\"no\"?>\n",
       "<!DOCTYPE svg PUBLIC \"-//W3C//DTD SVG 1.1//EN\"\n",
       " \"http://www.w3.org/Graphics/SVG/1.1/DTD/svg11.dtd\">\n",
       "<!-- Generated by graphviz version 2.43.0 (0)\n",
       " -->\n",
       "<!-- Title: Tree Pages: 1 -->\n",
       "<svg width=\"710pt\" height=\"311pt\"\n",
       " viewBox=\"0.00 0.00 710.00 311.00\" xmlns=\"http://www.w3.org/2000/svg\" xmlns:xlink=\"http://www.w3.org/1999/xlink\">\n",
       "<g id=\"graph0\" class=\"graph\" transform=\"scale(1 1) rotate(0) translate(4 307)\">\n",
       "<title>Tree</title>\n",
       "<polygon fill=\"white\" stroke=\"transparent\" points=\"-4,4 -4,-307 706,-307 706,4 -4,4\"/>\n",
       "<!-- 0 -->\n",
       "<g id=\"node1\" class=\"node\">\n",
       "<title>0</title>\n",
       "<polygon fill=\"#ecf6fd\" stroke=\"black\" points=\"433,-303 286,-303 286,-250 433,-250 433,-303\"/>\n",
       "<text text-anchor=\"middle\" x=\"359.5\" y=\"-287.8\" font-family=\"Helvetica,sans-Serif\" font-size=\"14.00\">alcohol &lt;= 0.102</text>\n",
       "<text text-anchor=\"middle\" x=\"359.5\" y=\"-272.8\" font-family=\"Helvetica,sans-Serif\" font-size=\"14.00\">samples = 100.0%</text>\n",
       "<text text-anchor=\"middle\" x=\"359.5\" y=\"-257.8\" font-family=\"Helvetica,sans-Serif\" font-size=\"14.00\">value = [0.475, 0.525]</text>\n",
       "</g>\n",
       "<!-- 1 -->\n",
       "<g id=\"node2\" class=\"node\">\n",
       "<title>1</title>\n",
       "<polygon fill=\"#f3c7a6\" stroke=\"black\" points=\"355,-214 192,-214 192,-161 355,-161 355,-214\"/>\n",
       "<text text-anchor=\"middle\" x=\"273.5\" y=\"-198.8\" font-family=\"Helvetica,sans-Serif\" font-size=\"14.00\">volatile acidity &lt;= &#45;0.374</text>\n",
       "<text text-anchor=\"middle\" x=\"273.5\" y=\"-183.8\" font-family=\"Helvetica,sans-Serif\" font-size=\"14.00\">samples = 62.0%</text>\n",
       "<text text-anchor=\"middle\" x=\"273.5\" y=\"-168.8\" font-family=\"Helvetica,sans-Serif\" font-size=\"14.00\">value = [0.644, 0.356]</text>\n",
       "</g>\n",
       "<!-- 0&#45;&gt;1 -->\n",
       "<g id=\"edge1\" class=\"edge\">\n",
       "<title>0&#45;&gt;1</title>\n",
       "<path fill=\"none\" stroke=\"black\" d=\"M334.16,-249.87C325.4,-241.01 315.46,-230.95 306.2,-221.58\"/>\n",
       "<polygon fill=\"black\" stroke=\"black\" points=\"308.47,-218.9 298.95,-214.25 303.49,-223.82 308.47,-218.9\"/>\n",
       "<text text-anchor=\"middle\" x=\"298.81\" y=\"-235.55\" font-family=\"Helvetica,sans-Serif\" font-size=\"14.00\">True</text>\n",
       "</g>\n",
       "<!-- 234 -->\n",
       "<g id=\"node9\" class=\"node\">\n",
       "<title>234</title>\n",
       "<polygon fill=\"#69b5eb\" stroke=\"black\" points=\"520,-214 373,-214 373,-161 520,-161 520,-214\"/>\n",
       "<text text-anchor=\"middle\" x=\"446.5\" y=\"-198.8\" font-family=\"Helvetica,sans-Serif\" font-size=\"14.00\">pH &lt;= &#45;2.074</text>\n",
       "<text text-anchor=\"middle\" x=\"446.5\" y=\"-183.8\" font-family=\"Helvetica,sans-Serif\" font-size=\"14.00\">samples = 38.0%</text>\n",
       "<text text-anchor=\"middle\" x=\"446.5\" y=\"-168.8\" font-family=\"Helvetica,sans-Serif\" font-size=\"14.00\">value = [0.197, 0.803]</text>\n",
       "</g>\n",
       "<!-- 0&#45;&gt;234 -->\n",
       "<g id=\"edge8\" class=\"edge\">\n",
       "<title>0&#45;&gt;234</title>\n",
       "<path fill=\"none\" stroke=\"black\" d=\"M385.13,-249.87C393.99,-241.01 404.05,-230.95 413.42,-221.58\"/>\n",
       "<polygon fill=\"black\" stroke=\"black\" points=\"416.15,-223.8 420.75,-214.25 411.2,-218.85 416.15,-223.8\"/>\n",
       "<text text-anchor=\"middle\" x=\"420.75\" y=\"-235.55\" font-family=\"Helvetica,sans-Serif\" font-size=\"14.00\">False</text>\n",
       "</g>\n",
       "<!-- 2 -->\n",
       "<g id=\"node3\" class=\"node\">\n",
       "<title>2</title>\n",
       "<polygon fill=\"#d3e9f9\" stroke=\"black\" points=\"183,-125 0,-125 0,-72 183,-72 183,-125\"/>\n",
       "<text text-anchor=\"middle\" x=\"91.5\" y=\"-109.8\" font-family=\"Helvetica,sans-Serif\" font-size=\"14.00\">total sulfur dioxide &lt;= 1.076</text>\n",
       "<text text-anchor=\"middle\" x=\"91.5\" y=\"-94.8\" font-family=\"Helvetica,sans-Serif\" font-size=\"14.00\">samples = 18.0%</text>\n",
       "<text text-anchor=\"middle\" x=\"91.5\" y=\"-79.8\" font-family=\"Helvetica,sans-Serif\" font-size=\"14.00\">value = [0.437, 0.563]</text>\n",
       "</g>\n",
       "<!-- 1&#45;&gt;2 -->\n",
       "<g id=\"edge2\" class=\"edge\">\n",
       "<title>1&#45;&gt;2</title>\n",
       "<path fill=\"none\" stroke=\"black\" d=\"M219.88,-160.87C199.33,-151.04 175.7,-139.75 154.36,-129.55\"/>\n",
       "<polygon fill=\"black\" stroke=\"black\" points=\"155.58,-126.25 145.05,-125.1 152.57,-132.57 155.58,-126.25\"/>\n",
       "</g>\n",
       "<!-- 81 -->\n",
       "<g id=\"node6\" class=\"node\">\n",
       "<title>81</title>\n",
       "<polygon fill=\"#efb083\" stroke=\"black\" points=\"348,-125 201,-125 201,-72 348,-72 348,-125\"/>\n",
       "<text text-anchor=\"middle\" x=\"274.5\" y=\"-109.8\" font-family=\"Helvetica,sans-Serif\" font-size=\"14.00\">citric acid &lt;= &#45;0.385</text>\n",
       "<text text-anchor=\"middle\" x=\"274.5\" y=\"-94.8\" font-family=\"Helvetica,sans-Serif\" font-size=\"14.00\">samples = 44.0%</text>\n",
       "<text text-anchor=\"middle\" x=\"274.5\" y=\"-79.8\" font-family=\"Helvetica,sans-Serif\" font-size=\"14.00\">value = [0.727, 0.273]</text>\n",
       "</g>\n",
       "<!-- 1&#45;&gt;81 -->\n",
       "<g id=\"edge5\" class=\"edge\">\n",
       "<title>1&#45;&gt;81</title>\n",
       "<path fill=\"none\" stroke=\"black\" d=\"M273.79,-160.87C273.89,-152.89 273.99,-143.93 274.09,-135.38\"/>\n",
       "<polygon fill=\"black\" stroke=\"black\" points=\"277.59,-135.29 274.2,-125.25 270.59,-135.21 277.59,-135.29\"/>\n",
       "</g>\n",
       "<!-- 3 -->\n",
       "<g id=\"node4\" class=\"node\">\n",
       "<title>3</title>\n",
       "<polygon fill=\"#c0c0c0\" stroke=\"black\" points=\"94.5,-36 40.5,-36 40.5,0 94.5,0 94.5,-36\"/>\n",
       "<text text-anchor=\"middle\" x=\"67.5\" y=\"-14.3\" font-family=\"Helvetica,sans-Serif\" font-size=\"14.00\">(...)</text>\n",
       "</g>\n",
       "<!-- 2&#45;&gt;3 -->\n",
       "<g id=\"edge3\" class=\"edge\">\n",
       "<title>2&#45;&gt;3</title>\n",
       "<path fill=\"none\" stroke=\"black\" d=\"M83.64,-71.8C81.11,-63.53 78.31,-54.35 75.75,-46\"/>\n",
       "<polygon fill=\"black\" stroke=\"black\" points=\"79.07,-44.87 72.8,-36.33 72.38,-46.92 79.07,-44.87\"/>\n",
       "</g>\n",
       "<!-- 70 -->\n",
       "<g id=\"node5\" class=\"node\">\n",
       "<title>70</title>\n",
       "<polygon fill=\"#c0c0c0\" stroke=\"black\" points=\"166.5,-36 112.5,-36 112.5,0 166.5,0 166.5,-36\"/>\n",
       "<text text-anchor=\"middle\" x=\"139.5\" y=\"-14.3\" font-family=\"Helvetica,sans-Serif\" font-size=\"14.00\">(...)</text>\n",
       "</g>\n",
       "<!-- 2&#45;&gt;70 -->\n",
       "<g id=\"edge4\" class=\"edge\">\n",
       "<title>2&#45;&gt;70</title>\n",
       "<path fill=\"none\" stroke=\"black\" d=\"M107.22,-71.8C112.49,-63.17 118.38,-53.54 123.66,-44.9\"/>\n",
       "<polygon fill=\"black\" stroke=\"black\" points=\"126.67,-46.69 128.9,-36.33 120.7,-43.04 126.67,-46.69\"/>\n",
       "</g>\n",
       "<!-- 82 -->\n",
       "<g id=\"node7\" class=\"node\">\n",
       "<title>82</title>\n",
       "<polygon fill=\"#c0c0c0\" stroke=\"black\" points=\"254.5,-36 200.5,-36 200.5,0 254.5,0 254.5,-36\"/>\n",
       "<text text-anchor=\"middle\" x=\"227.5\" y=\"-14.3\" font-family=\"Helvetica,sans-Serif\" font-size=\"14.00\">(...)</text>\n",
       "</g>\n",
       "<!-- 81&#45;&gt;82 -->\n",
       "<g id=\"edge6\" class=\"edge\">\n",
       "<title>81&#45;&gt;82</title>\n",
       "<path fill=\"none\" stroke=\"black\" d=\"M259.11,-71.8C254,-63.26 248.3,-53.75 243.17,-45.17\"/>\n",
       "<polygon fill=\"black\" stroke=\"black\" points=\"246.02,-43.11 237.88,-36.33 240.01,-46.71 246.02,-43.11\"/>\n",
       "</g>\n",
       "<!-- 169 -->\n",
       "<g id=\"node8\" class=\"node\">\n",
       "<title>169</title>\n",
       "<polygon fill=\"#c0c0c0\" stroke=\"black\" points=\"326.5,-36 272.5,-36 272.5,0 326.5,0 326.5,-36\"/>\n",
       "<text text-anchor=\"middle\" x=\"299.5\" y=\"-14.3\" font-family=\"Helvetica,sans-Serif\" font-size=\"14.00\">(...)</text>\n",
       "</g>\n",
       "<!-- 81&#45;&gt;169 -->\n",
       "<g id=\"edge7\" class=\"edge\">\n",
       "<title>81&#45;&gt;169</title>\n",
       "<path fill=\"none\" stroke=\"black\" d=\"M282.69,-71.8C285.32,-63.53 288.24,-54.35 290.9,-46\"/>\n",
       "<polygon fill=\"black\" stroke=\"black\" points=\"294.28,-46.92 293.98,-36.33 287.61,-44.8 294.28,-46.92\"/>\n",
       "</g>\n",
       "<!-- 235 -->\n",
       "<g id=\"node10\" class=\"node\">\n",
       "<title>235</title>\n",
       "<polygon fill=\"#eca06a\" stroke=\"black\" points=\"525,-125 366,-125 366,-72 525,-72 525,-125\"/>\n",
       "<text text-anchor=\"middle\" x=\"445.5\" y=\"-109.8\" font-family=\"Helvetica,sans-Serif\" font-size=\"14.00\">residual sugar &lt;= 0.001</text>\n",
       "<text text-anchor=\"middle\" x=\"445.5\" y=\"-94.8\" font-family=\"Helvetica,sans-Serif\" font-size=\"14.00\">samples = 0.5%</text>\n",
       "<text text-anchor=\"middle\" x=\"445.5\" y=\"-79.8\" font-family=\"Helvetica,sans-Serif\" font-size=\"14.00\">value = [0.8, 0.2]</text>\n",
       "</g>\n",
       "<!-- 234&#45;&gt;235 -->\n",
       "<g id=\"edge9\" class=\"edge\">\n",
       "<title>234&#45;&gt;235</title>\n",
       "<path fill=\"none\" stroke=\"black\" d=\"M446.21,-160.87C446.11,-152.89 446.01,-143.93 445.91,-135.38\"/>\n",
       "<polygon fill=\"black\" stroke=\"black\" points=\"449.41,-135.21 445.8,-125.25 442.41,-135.29 449.41,-135.21\"/>\n",
       "</g>\n",
       "<!-- 238 -->\n",
       "<g id=\"node13\" class=\"node\">\n",
       "<title>238</title>\n",
       "<polygon fill=\"#67b4eb\" stroke=\"black\" points=\"702,-125 543,-125 543,-72 702,-72 702,-125\"/>\n",
       "<text text-anchor=\"middle\" x=\"622.5\" y=\"-109.8\" font-family=\"Helvetica,sans-Serif\" font-size=\"14.00\">residual sugar &lt;= 2.594</text>\n",
       "<text text-anchor=\"middle\" x=\"622.5\" y=\"-94.8\" font-family=\"Helvetica,sans-Serif\" font-size=\"14.00\">samples = 37.5%</text>\n",
       "<text text-anchor=\"middle\" x=\"622.5\" y=\"-79.8\" font-family=\"Helvetica,sans-Serif\" font-size=\"14.00\">value = [0.189, 0.811]</text>\n",
       "</g>\n",
       "<!-- 234&#45;&gt;238 -->\n",
       "<g id=\"edge12\" class=\"edge\">\n",
       "<title>234&#45;&gt;238</title>\n",
       "<path fill=\"none\" stroke=\"black\" d=\"M498.35,-160.87C518.23,-151.04 541.08,-139.75 561.71,-129.55\"/>\n",
       "<polygon fill=\"black\" stroke=\"black\" points=\"563.3,-132.67 570.71,-125.1 560.2,-126.39 563.3,-132.67\"/>\n",
       "</g>\n",
       "<!-- 236 -->\n",
       "<g id=\"node11\" class=\"node\">\n",
       "<title>236</title>\n",
       "<polygon fill=\"#c0c0c0\" stroke=\"black\" points=\"429.5,-36 375.5,-36 375.5,0 429.5,0 429.5,-36\"/>\n",
       "<text text-anchor=\"middle\" x=\"402.5\" y=\"-14.3\" font-family=\"Helvetica,sans-Serif\" font-size=\"14.00\">(...)</text>\n",
       "</g>\n",
       "<!-- 235&#45;&gt;236 -->\n",
       "<g id=\"edge10\" class=\"edge\">\n",
       "<title>235&#45;&gt;236</title>\n",
       "<path fill=\"none\" stroke=\"black\" d=\"M431.42,-71.8C426.74,-63.26 421.53,-53.75 416.84,-45.17\"/>\n",
       "<polygon fill=\"black\" stroke=\"black\" points=\"419.87,-43.42 411.99,-36.33 413.73,-46.78 419.87,-43.42\"/>\n",
       "</g>\n",
       "<!-- 237 -->\n",
       "<g id=\"node12\" class=\"node\">\n",
       "<title>237</title>\n",
       "<polygon fill=\"#c0c0c0\" stroke=\"black\" points=\"501.5,-36 447.5,-36 447.5,0 501.5,0 501.5,-36\"/>\n",
       "<text text-anchor=\"middle\" x=\"474.5\" y=\"-14.3\" font-family=\"Helvetica,sans-Serif\" font-size=\"14.00\">(...)</text>\n",
       "</g>\n",
       "<!-- 235&#45;&gt;237 -->\n",
       "<g id=\"edge11\" class=\"edge\">\n",
       "<title>235&#45;&gt;237</title>\n",
       "<path fill=\"none\" stroke=\"black\" d=\"M455,-71.8C458.08,-63.44 461.51,-54.15 464.63,-45.72\"/>\n",
       "<polygon fill=\"black\" stroke=\"black\" points=\"467.92,-46.92 468.1,-36.33 461.35,-44.5 467.92,-46.92\"/>\n",
       "</g>\n",
       "<!-- 239 -->\n",
       "<g id=\"node14\" class=\"node\">\n",
       "<title>239</title>\n",
       "<polygon fill=\"#c0c0c0\" stroke=\"black\" points=\"613.5,-36 559.5,-36 559.5,0 613.5,0 613.5,-36\"/>\n",
       "<text text-anchor=\"middle\" x=\"586.5\" y=\"-14.3\" font-family=\"Helvetica,sans-Serif\" font-size=\"14.00\">(...)</text>\n",
       "</g>\n",
       "<!-- 238&#45;&gt;239 -->\n",
       "<g id=\"edge13\" class=\"edge\">\n",
       "<title>238&#45;&gt;239</title>\n",
       "<path fill=\"none\" stroke=\"black\" d=\"M610.71,-71.8C606.84,-63.35 602.53,-53.95 598.63,-45.45\"/>\n",
       "<polygon fill=\"black\" stroke=\"black\" points=\"601.8,-43.96 594.45,-36.33 595.43,-46.88 601.8,-43.96\"/>\n",
       "</g>\n",
       "<!-- 332 -->\n",
       "<g id=\"node15\" class=\"node\">\n",
       "<title>332</title>\n",
       "<polygon fill=\"#c0c0c0\" stroke=\"black\" points=\"685.5,-36 631.5,-36 631.5,0 685.5,0 685.5,-36\"/>\n",
       "<text text-anchor=\"middle\" x=\"658.5\" y=\"-14.3\" font-family=\"Helvetica,sans-Serif\" font-size=\"14.00\">(...)</text>\n",
       "</g>\n",
       "<!-- 238&#45;&gt;332 -->\n",
       "<g id=\"edge14\" class=\"edge\">\n",
       "<title>238&#45;&gt;332</title>\n",
       "<path fill=\"none\" stroke=\"black\" d=\"M634.29,-71.8C638.16,-63.35 642.47,-53.95 646.37,-45.45\"/>\n",
       "<polygon fill=\"black\" stroke=\"black\" points=\"649.57,-46.88 650.55,-36.33 643.2,-43.96 649.57,-46.88\"/>\n",
       "</g>\n",
       "</g>\n",
       "</svg>\n"
      ],
      "text/plain": [
       "<graphviz.sources.Source at 0x7e897e2164a0>"
      ]
     },
     "metadata": {},
     "output_type": "display_data"
    },
    {
     "data": {
      "image/svg+xml": [
       "<?xml version=\"1.0\" encoding=\"UTF-8\" standalone=\"no\"?>\n",
       "<!DOCTYPE svg PUBLIC \"-//W3C//DTD SVG 1.1//EN\"\n",
       " \"http://www.w3.org/Graphics/SVG/1.1/DTD/svg11.dtd\">\n",
       "<!-- Generated by graphviz version 2.43.0 (0)\n",
       " -->\n",
       "<!-- Title: Tree Pages: 1 -->\n",
       "<svg width=\"646pt\" height=\"311pt\"\n",
       " viewBox=\"0.00 0.00 645.50 311.00\" xmlns=\"http://www.w3.org/2000/svg\" xmlns:xlink=\"http://www.w3.org/1999/xlink\">\n",
       "<g id=\"graph0\" class=\"graph\" transform=\"scale(1 1) rotate(0) translate(4 307)\">\n",
       "<title>Tree</title>\n",
       "<polygon fill=\"white\" stroke=\"transparent\" points=\"-4,4 -4,-307 641.5,-307 641.5,4 -4,4\"/>\n",
       "<!-- 0 -->\n",
       "<g id=\"node1\" class=\"node\">\n",
       "<title>0</title>\n",
       "<polygon fill=\"#e7f3fc\" stroke=\"black\" points=\"384,-303 237,-303 237,-250 384,-250 384,-303\"/>\n",
       "<text text-anchor=\"middle\" x=\"310.5\" y=\"-287.8\" font-family=\"Helvetica,sans-Serif\" font-size=\"14.00\">alcohol &lt;= &#45;0.536</text>\n",
       "<text text-anchor=\"middle\" x=\"310.5\" y=\"-272.8\" font-family=\"Helvetica,sans-Serif\" font-size=\"14.00\">samples = 100.0%</text>\n",
       "<text text-anchor=\"middle\" x=\"310.5\" y=\"-257.8\" font-family=\"Helvetica,sans-Serif\" font-size=\"14.00\">value = [0.467, 0.533]</text>\n",
       "</g>\n",
       "<!-- 1 -->\n",
       "<g id=\"node2\" class=\"node\">\n",
       "<title>1</title>\n",
       "<polygon fill=\"#eeab7c\" stroke=\"black\" points=\"302,-214 155,-214 155,-161 302,-161 302,-214\"/>\n",
       "<text text-anchor=\"middle\" x=\"228.5\" y=\"-198.8\" font-family=\"Helvetica,sans-Serif\" font-size=\"14.00\">sulphates &lt;= &#45;0.487</text>\n",
       "<text text-anchor=\"middle\" x=\"228.5\" y=\"-183.8\" font-family=\"Helvetica,sans-Serif\" font-size=\"14.00\">samples = 41.4%</text>\n",
       "<text text-anchor=\"middle\" x=\"228.5\" y=\"-168.8\" font-family=\"Helvetica,sans-Serif\" font-size=\"14.00\">value = [0.748, 0.252]</text>\n",
       "</g>\n",
       "<!-- 0&#45;&gt;1 -->\n",
       "<g id=\"edge1\" class=\"edge\">\n",
       "<title>0&#45;&gt;1</title>\n",
       "<path fill=\"none\" stroke=\"black\" d=\"M286.34,-249.87C277.99,-241.01 268.51,-230.95 259.68,-221.58\"/>\n",
       "<polygon fill=\"black\" stroke=\"black\" points=\"262.18,-219.13 252.77,-214.25 257.08,-223.93 262.18,-219.13\"/>\n",
       "<text text-anchor=\"middle\" x=\"252.03\" y=\"-235.54\" font-family=\"Helvetica,sans-Serif\" font-size=\"14.00\">True</text>\n",
       "</g>\n",
       "<!-- 148 -->\n",
       "<g id=\"node9\" class=\"node\">\n",
       "<title>148</title>\n",
       "<polygon fill=\"#85c2ef\" stroke=\"black\" points=\"467,-214 320,-214 320,-161 467,-161 467,-214\"/>\n",
       "<text text-anchor=\"middle\" x=\"393.5\" y=\"-198.8\" font-family=\"Helvetica,sans-Serif\" font-size=\"14.00\">density &lt;= &#45;0.719</text>\n",
       "<text text-anchor=\"middle\" x=\"393.5\" y=\"-183.8\" font-family=\"Helvetica,sans-Serif\" font-size=\"14.00\">samples = 58.6%</text>\n",
       "<text text-anchor=\"middle\" x=\"393.5\" y=\"-168.8\" font-family=\"Helvetica,sans-Serif\" font-size=\"14.00\">value = [0.276, 0.724]</text>\n",
       "</g>\n",
       "<!-- 0&#45;&gt;148 -->\n",
       "<g id=\"edge8\" class=\"edge\">\n",
       "<title>0&#45;&gt;148</title>\n",
       "<path fill=\"none\" stroke=\"black\" d=\"M334.95,-249.87C343.41,-241.01 353,-230.95 361.94,-221.58\"/>\n",
       "<polygon fill=\"black\" stroke=\"black\" points=\"364.56,-223.9 368.93,-214.25 359.5,-219.07 364.56,-223.9\"/>\n",
       "<text text-anchor=\"middle\" x=\"369.52\" y=\"-235.54\" font-family=\"Helvetica,sans-Serif\" font-size=\"14.00\">False</text>\n",
       "</g>\n",
       "<!-- 2 -->\n",
       "<g id=\"node3\" class=\"node\">\n",
       "<title>2</title>\n",
       "<polygon fill=\"#ea9b61\" stroke=\"black\" points=\"137,-125 0,-125 0,-72 137,-72 137,-125\"/>\n",
       "<text text-anchor=\"middle\" x=\"68.5\" y=\"-109.8\" font-family=\"Helvetica,sans-Serif\" font-size=\"14.00\">sulphates &lt;= &#45;1.126</text>\n",
       "<text text-anchor=\"middle\" x=\"68.5\" y=\"-94.8\" font-family=\"Helvetica,sans-Serif\" font-size=\"14.00\">samples = 19.2%</text>\n",
       "<text text-anchor=\"middle\" x=\"68.5\" y=\"-79.8\" font-family=\"Helvetica,sans-Serif\" font-size=\"14.00\">value = [0.83, 0.17]</text>\n",
       "</g>\n",
       "<!-- 1&#45;&gt;2 -->\n",
       "<g id=\"edge2\" class=\"edge\">\n",
       "<title>1&#45;&gt;2</title>\n",
       "<path fill=\"none\" stroke=\"black\" d=\"M181.36,-160.87C163.54,-151.18 143.08,-140.05 124.52,-129.96\"/>\n",
       "<polygon fill=\"black\" stroke=\"black\" points=\"126.04,-126.8 115.58,-125.1 122.69,-132.95 126.04,-126.8\"/>\n",
       "</g>\n",
       "<!-- 59 -->\n",
       "<g id=\"node6\" class=\"node\">\n",
       "<title>59</title>\n",
       "<polygon fill=\"#f1bd98\" stroke=\"black\" points=\"302,-125 155,-125 155,-72 302,-72 302,-125\"/>\n",
       "<text text-anchor=\"middle\" x=\"228.5\" y=\"-109.8\" font-family=\"Helvetica,sans-Serif\" font-size=\"14.00\">fixed acidity &lt;= 1.045</text>\n",
       "<text text-anchor=\"middle\" x=\"228.5\" y=\"-94.8\" font-family=\"Helvetica,sans-Serif\" font-size=\"14.00\">samples = 22.2%</text>\n",
       "<text text-anchor=\"middle\" x=\"228.5\" y=\"-79.8\" font-family=\"Helvetica,sans-Serif\" font-size=\"14.00\">value = [0.676, 0.324]</text>\n",
       "</g>\n",
       "<!-- 1&#45;&gt;59 -->\n",
       "<g id=\"edge5\" class=\"edge\">\n",
       "<title>1&#45;&gt;59</title>\n",
       "<path fill=\"none\" stroke=\"black\" d=\"M228.5,-160.87C228.5,-152.89 228.5,-143.93 228.5,-135.38\"/>\n",
       "<polygon fill=\"black\" stroke=\"black\" points=\"232,-135.25 228.5,-125.25 225,-135.25 232,-135.25\"/>\n",
       "</g>\n",
       "<!-- 3 -->\n",
       "<g id=\"node4\" class=\"node\">\n",
       "<title>3</title>\n",
       "<polygon fill=\"#c0c0c0\" stroke=\"black\" points=\"88.5,-36 34.5,-36 34.5,0 88.5,0 88.5,-36\"/>\n",
       "<text text-anchor=\"middle\" x=\"61.5\" y=\"-14.3\" font-family=\"Helvetica,sans-Serif\" font-size=\"14.00\">(...)</text>\n",
       "</g>\n",
       "<!-- 2&#45;&gt;3 -->\n",
       "<g id=\"edge3\" class=\"edge\">\n",
       "<title>2&#45;&gt;3</title>\n",
       "<path fill=\"none\" stroke=\"black\" d=\"M66.21,-71.8C65.49,-63.71 64.69,-54.76 63.96,-46.55\"/>\n",
       "<polygon fill=\"black\" stroke=\"black\" points=\"67.42,-45.98 63.05,-36.33 60.45,-46.6 67.42,-45.98\"/>\n",
       "</g>\n",
       "<!-- 6 -->\n",
       "<g id=\"node5\" class=\"node\">\n",
       "<title>6</title>\n",
       "<polygon fill=\"#c0c0c0\" stroke=\"black\" points=\"160.5,-36 106.5,-36 106.5,0 160.5,0 160.5,-36\"/>\n",
       "<text text-anchor=\"middle\" x=\"133.5\" y=\"-14.3\" font-family=\"Helvetica,sans-Serif\" font-size=\"14.00\">(...)</text>\n",
       "</g>\n",
       "<!-- 2&#45;&gt;6 -->\n",
       "<g id=\"edge4\" class=\"edge\">\n",
       "<title>2&#45;&gt;6</title>\n",
       "<path fill=\"none\" stroke=\"black\" d=\"M89.78,-71.8C97.15,-62.9 105.4,-52.93 112.73,-44.08\"/>\n",
       "<polygon fill=\"black\" stroke=\"black\" points=\"115.47,-46.26 119.15,-36.33 110.08,-41.8 115.47,-46.26\"/>\n",
       "</g>\n",
       "<!-- 60 -->\n",
       "<g id=\"node7\" class=\"node\">\n",
       "<title>60</title>\n",
       "<polygon fill=\"#c0c0c0\" stroke=\"black\" points=\"243.5,-36 189.5,-36 189.5,0 243.5,0 243.5,-36\"/>\n",
       "<text text-anchor=\"middle\" x=\"216.5\" y=\"-14.3\" font-family=\"Helvetica,sans-Serif\" font-size=\"14.00\">(...)</text>\n",
       "</g>\n",
       "<!-- 59&#45;&gt;60 -->\n",
       "<g id=\"edge6\" class=\"edge\">\n",
       "<title>59&#45;&gt;60</title>\n",
       "<path fill=\"none\" stroke=\"black\" d=\"M224.57,-71.8C223.32,-63.62 221.93,-54.55 220.67,-46.27\"/>\n",
       "<polygon fill=\"black\" stroke=\"black\" points=\"224.12,-45.69 219.15,-36.33 217.2,-46.74 224.12,-45.69\"/>\n",
       "</g>\n",
       "<!-- 139 -->\n",
       "<g id=\"node8\" class=\"node\">\n",
       "<title>139</title>\n",
       "<polygon fill=\"#c0c0c0\" stroke=\"black\" points=\"315.5,-36 261.5,-36 261.5,0 315.5,0 315.5,-36\"/>\n",
       "<text text-anchor=\"middle\" x=\"288.5\" y=\"-14.3\" font-family=\"Helvetica,sans-Serif\" font-size=\"14.00\">(...)</text>\n",
       "</g>\n",
       "<!-- 59&#45;&gt;139 -->\n",
       "<g id=\"edge7\" class=\"edge\">\n",
       "<title>59&#45;&gt;139</title>\n",
       "<path fill=\"none\" stroke=\"black\" d=\"M248.15,-71.8C254.88,-62.99 262.41,-53.14 269.12,-44.36\"/>\n",
       "<polygon fill=\"black\" stroke=\"black\" points=\"271.96,-46.4 275.25,-36.33 266.4,-42.15 271.96,-46.4\"/>\n",
       "</g>\n",
       "<!-- 149 -->\n",
       "<g id=\"node10\" class=\"node\">\n",
       "<title>149</title>\n",
       "<polygon fill=\"#56ace9\" stroke=\"black\" points=\"467,-125 320,-125 320,-72 467,-72 467,-125\"/>\n",
       "<text text-anchor=\"middle\" x=\"393.5\" y=\"-109.8\" font-family=\"Helvetica,sans-Serif\" font-size=\"14.00\">pH &lt;= 0.947</text>\n",
       "<text text-anchor=\"middle\" x=\"393.5\" y=\"-94.8\" font-family=\"Helvetica,sans-Serif\" font-size=\"14.00\">samples = 18.3%</text>\n",
       "<text text-anchor=\"middle\" x=\"393.5\" y=\"-79.8\" font-family=\"Helvetica,sans-Serif\" font-size=\"14.00\">value = [0.129, 0.871]</text>\n",
       "</g>\n",
       "<!-- 148&#45;&gt;149 -->\n",
       "<g id=\"edge9\" class=\"edge\">\n",
       "<title>148&#45;&gt;149</title>\n",
       "<path fill=\"none\" stroke=\"black\" d=\"M393.5,-160.87C393.5,-152.89 393.5,-143.93 393.5,-135.38\"/>\n",
       "<polygon fill=\"black\" stroke=\"black\" points=\"397,-135.25 393.5,-125.25 390,-135.25 397,-135.25\"/>\n",
       "</g>\n",
       "<!-- 200 -->\n",
       "<g id=\"node13\" class=\"node\">\n",
       "<title>200</title>\n",
       "<polygon fill=\"#9fcff2\" stroke=\"black\" points=\"630,-125 485,-125 485,-72 630,-72 630,-125\"/>\n",
       "<text text-anchor=\"middle\" x=\"557.5\" y=\"-109.8\" font-family=\"Helvetica,sans-Serif\" font-size=\"14.00\">fixed acidity &lt;= 0.199</text>\n",
       "<text text-anchor=\"middle\" x=\"557.5\" y=\"-94.8\" font-family=\"Helvetica,sans-Serif\" font-size=\"14.00\">samples = 40.3%</text>\n",
       "<text text-anchor=\"middle\" x=\"557.5\" y=\"-79.8\" font-family=\"Helvetica,sans-Serif\" font-size=\"14.00\">value = [0.34, 0.66]</text>\n",
       "</g>\n",
       "<!-- 148&#45;&gt;200 -->\n",
       "<g id=\"edge12\" class=\"edge\">\n",
       "<title>148&#45;&gt;200</title>\n",
       "<path fill=\"none\" stroke=\"black\" d=\"M441.82,-160.87C460.17,-151.13 481.25,-139.95 500.34,-129.82\"/>\n",
       "<polygon fill=\"black\" stroke=\"black\" points=\"502.05,-132.88 509.24,-125.1 498.77,-126.69 502.05,-132.88\"/>\n",
       "</g>\n",
       "<!-- 150 -->\n",
       "<g id=\"node11\" class=\"node\">\n",
       "<title>150</title>\n",
       "<polygon fill=\"#c0c0c0\" stroke=\"black\" points=\"403.5,-36 349.5,-36 349.5,0 403.5,0 403.5,-36\"/>\n",
       "<text text-anchor=\"middle\" x=\"376.5\" y=\"-14.3\" font-family=\"Helvetica,sans-Serif\" font-size=\"14.00\">(...)</text>\n",
       "</g>\n",
       "<!-- 149&#45;&gt;150 -->\n",
       "<g id=\"edge10\" class=\"edge\">\n",
       "<title>149&#45;&gt;150</title>\n",
       "<path fill=\"none\" stroke=\"black\" d=\"M387.93,-71.8C386.16,-63.62 384.2,-54.55 382.41,-46.27\"/>\n",
       "<polygon fill=\"black\" stroke=\"black\" points=\"385.79,-45.36 380.25,-36.33 378.95,-46.84 385.79,-45.36\"/>\n",
       "</g>\n",
       "<!-- 175 -->\n",
       "<g id=\"node12\" class=\"node\">\n",
       "<title>175</title>\n",
       "<polygon fill=\"#c0c0c0\" stroke=\"black\" points=\"475.5,-36 421.5,-36 421.5,0 475.5,0 475.5,-36\"/>\n",
       "<text text-anchor=\"middle\" x=\"448.5\" y=\"-14.3\" font-family=\"Helvetica,sans-Serif\" font-size=\"14.00\">(...)</text>\n",
       "</g>\n",
       "<!-- 149&#45;&gt;175 -->\n",
       "<g id=\"edge11\" class=\"edge\">\n",
       "<title>149&#45;&gt;175</title>\n",
       "<path fill=\"none\" stroke=\"black\" d=\"M411.51,-71.8C417.62,-63.08 424.44,-53.34 430.54,-44.63\"/>\n",
       "<polygon fill=\"black\" stroke=\"black\" points=\"433.49,-46.53 436.36,-36.33 427.75,-42.51 433.49,-46.53\"/>\n",
       "</g>\n",
       "<!-- 201 -->\n",
       "<g id=\"node14\" class=\"node\">\n",
       "<title>201</title>\n",
       "<polygon fill=\"#c0c0c0\" stroke=\"black\" points=\"565.5,-36 511.5,-36 511.5,0 565.5,0 565.5,-36\"/>\n",
       "<text text-anchor=\"middle\" x=\"538.5\" y=\"-14.3\" font-family=\"Helvetica,sans-Serif\" font-size=\"14.00\">(...)</text>\n",
       "</g>\n",
       "<!-- 200&#45;&gt;201 -->\n",
       "<g id=\"edge13\" class=\"edge\">\n",
       "<title>200&#45;&gt;201</title>\n",
       "<path fill=\"none\" stroke=\"black\" d=\"M551.28,-71.8C549.3,-63.62 547.11,-54.55 545.1,-46.27\"/>\n",
       "<polygon fill=\"black\" stroke=\"black\" points=\"548.45,-45.23 542.69,-36.33 541.65,-46.87 548.45,-45.23\"/>\n",
       "</g>\n",
       "<!-- 282 -->\n",
       "<g id=\"node15\" class=\"node\">\n",
       "<title>282</title>\n",
       "<polygon fill=\"#c0c0c0\" stroke=\"black\" points=\"637.5,-36 583.5,-36 583.5,0 637.5,0 637.5,-36\"/>\n",
       "<text text-anchor=\"middle\" x=\"610.5\" y=\"-14.3\" font-family=\"Helvetica,sans-Serif\" font-size=\"14.00\">(...)</text>\n",
       "</g>\n",
       "<!-- 200&#45;&gt;282 -->\n",
       "<g id=\"edge14\" class=\"edge\">\n",
       "<title>200&#45;&gt;282</title>\n",
       "<path fill=\"none\" stroke=\"black\" d=\"M574.85,-71.8C580.74,-63.08 587.31,-53.34 593.2,-44.63\"/>\n",
       "<polygon fill=\"black\" stroke=\"black\" points=\"596.1,-46.58 598.8,-36.33 590.3,-42.66 596.1,-46.58\"/>\n",
       "</g>\n",
       "</g>\n",
       "</svg>\n"
      ],
      "text/plain": [
       "<graphviz.sources.Source at 0x7e897e215420>"
      ]
     },
     "metadata": {},
     "output_type": "display_data"
    }
   ],
   "source": [
    "for i in range(3):\n",
    "    tree = rf.estimators_[i]\n",
    "    dot_data = export_graphviz(tree,\n",
    "                               feature_names=X.columns,\n",
    "                               filled=True,\n",
    "                               max_depth=2,\n",
    "                               impurity=False,\n",
    "                               proportion=True)\n",
    "    graph = graphviz.Source(dot_data)\n",
    "    display(graph)"
   ]
  },
  {
   "cell_type": "markdown",
   "metadata": {
    "id": "5K29S-s-iLW5"
   },
   "source": [
    "<hr>\n",
    "\n",
    "### Module 4 : Predictions and Model Accuracy"
   ]
  },
  {
   "cell_type": "code",
   "execution_count": null,
   "metadata": {
    "colab": {
     "base_uri": "https://localhost:8080/"
    },
    "executionInfo": {
     "elapsed": 2,
     "status": "ok",
     "timestamp": 1712311556292,
     "user": {
      "displayName": "AYUSHMAAN DAS BTech_AIML",
      "userId": "16690242712608209106"
     },
     "user_tz": -330
    },
    "id": "NSY4FQL7rFcq",
    "outputId": "ccd53f60-6eec-4ae4-ec03-5bdfa4893af7"
   },
   "outputs": [
    {
     "data": {
      "text/plain": [
       "array([0, 0, 0, 0, 1, 0, 0, 0, 1, 1, 1, 0, 1, 0, 0, 1, 0, 1, 1, 0])"
      ]
     },
     "execution_count": 13,
     "metadata": {},
     "output_type": "execute_result"
    }
   ],
   "source": [
    "preds = rf.predict(X_test)\n",
    "\n",
    "preds [0:20]"
   ]
  },
  {
   "cell_type": "code",
   "execution_count": null,
   "metadata": {
    "colab": {
     "base_uri": "https://localhost:8080/"
    },
    "executionInfo": {
     "elapsed": 2,
     "status": "ok",
     "timestamp": 1712311558338,
     "user": {
      "displayName": "AYUSHMAAN DAS BTech_AIML",
      "userId": "16690242712608209106"
     },
     "user_tz": -330
    },
    "id": "IhiiHh4drEyn",
    "outputId": "8483271c-6c3f-4d5c-aa09-2b894b0afc07"
   },
   "outputs": [
    {
     "name": "stdout",
     "output_type": "stream",
     "text": [
      "ACCURACY : 0.8020833333333334 \t PRECISION : 0.8138686131386861 \t RECALL : 0.8352059925093633 \t F1 SCORE : 0.8243992606284658\n"
     ]
    }
   ],
   "source": [
    "accuracy = accuracy_score(y_test, preds)\n",
    "precision = precision_score(y_test, preds)\n",
    "recall = recall_score(y_test, preds)\n",
    "f1score = f1_score(y_test, preds)\n",
    "fpr, tpr, _ = roc_curve(y_test, preds)\n",
    "\n",
    "print(f\"ACCURACY : {accuracy} \\t PRECISION : {precision} \\t RECALL : {recall} \\t F1 SCORE : {f1score}\")"
   ]
  },
  {
   "cell_type": "code",
   "execution_count": null,
   "metadata": {
    "colab": {
     "base_uri": "https://localhost:8080/",
     "height": 472
    },
    "executionInfo": {
     "elapsed": 823,
     "status": "ok",
     "timestamp": 1712311559160,
     "user": {
      "displayName": "AYUSHMAAN DAS BTech_AIML",
      "userId": "16690242712608209106"
     },
     "user_tz": -330
    },
    "id": "jzpI2GfOhvHw",
    "outputId": "914a6445-0d10-4329-8f45-ec70a6077335"
   },
   "outputs": [
    {
     "data": {
      "image/png": "[encoded data removed]",
      "text/plain": [
       "<Figure size 640x480 with 1 Axes>"
      ]
     },
     "metadata": {},
     "output_type": "display_data"
    }
   ],
   "source": [
    "plt.plot(fpr, tpr)\n",
    "plt.ylabel('True Positive Rate')\n",
    "plt.xlabel('False Positive Rate')\n",
    "plt.title('ROC Curve')\n",
    "plt.show()"
   ]
  },
  {
   "cell_type": "markdown",
   "metadata": {
    "id": "UnH5MSKIlcn7"
   },
   "source": [
    "<hr><hr>"
   ]
  }
 ],
 "metadata": {
  "accelerator": "GPU",
  "colab": {
   "gpuType": "T4",
   "provenance": [
    {
     "file_id": "1w7F-nJElLgLGkgj9mx5_ZlW5-H0qjNDZ",
     "timestamp": 1712311120718
    },
    {
     "file_id": "1ewZ6a_-0p1b2Yj4J7AfPE0ysRh9EQRpz",
     "timestamp": 1712310229423
    }
   ]
  },
  "kernelspec": {
   "display_name": "Python 3",
   "name": "python3"
  },
  "language_info": {
   "name": "python"
  }
 },
 "nbformat": 4,
 "nbformat_minor": 0
}
