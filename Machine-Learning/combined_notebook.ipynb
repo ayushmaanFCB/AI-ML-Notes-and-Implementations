{
 "cells": [
  {
   "cell_type": "markdown",
   "metadata": {},
   "source": [
    "# DECISION TREES"
   ]
  },
  {
   "cell_type": "code",
   "execution_count": 3,
   "metadata": {},
   "outputs": [
    {
     "name": "stdout",
     "output_type": "stream",
     "text": [
      "[1 0 2 1 1 0 1 2 1 1]\n",
      "Accuracy: 1.0\n"
     ]
    }
   ],
   "source": [
    "from sklearn.datasets import load_iris\n",
    "from sklearn.model_selection import train_test_split\n",
    "from sklearn.tree import DecisionTreeClassifier\n",
    "from sklearn.metrics import accuracy_score\n",
    "\n",
    "iris = load_iris()\n",
    "X = iris.data\n",
    "y = iris.target\n",
    "\n",
    "X_train, X_test, y_train, y_test = train_test_split(X, y, test_size=0.2, random_state=42)\n",
    "\n",
    "clf = DecisionTreeClassifier(criterion='gini')\n",
    "\n",
    "clf.fit(X_train, y_train)\n",
    "\n",
    "y_pred = clf.predict(X_test)\n",
    "print(y_pred[0:10])\n",
    "\n",
    "accuracy = accuracy_score(y_test, y_pred)\n",
    "print(\"Accuracy:\", accuracy)"
   ]
  },
  {
   "cell_type": "markdown",
   "metadata": {},
   "source": [
    "<hr>\n",
    "\n",
    "# RANDOM FOREST"
   ]
  },
  {
   "cell_type": "code",
   "execution_count": 4,
   "metadata": {},
   "outputs": [
    {
     "name": "stdout",
     "output_type": "stream",
     "text": [
      "[1 0 2 1 1 0 1 2 1 1]\n",
      "Accuracy: 1.0\n"
     ]
    }
   ],
   "source": [
    "from sklearn.datasets import load_iris\n",
    "from sklearn.model_selection import train_test_split\n",
    "from sklearn.ensemble import RandomForestClassifier\n",
    "from sklearn.metrics import accuracy_score\n",
    "\n",
    "iris = load_iris()\n",
    "X = iris.data\n",
    "y = iris.target\n",
    "\n",
    "X_train, X_test, y_train, y_test = train_test_split(\n",
    "    X, y, test_size=0.2, random_state=42)\n",
    "\n",
    "clf = RandomForestClassifier(n_estimators=100, random_state=42)\n",
    "\n",
    "clf.fit(X_train, y_train)\n",
    "\n",
    "y_pred = clf.predict(X_test)\n",
    "print(y_pred[0:10])\n",
    "\n",
    "accuracy = accuracy_score(y_test, y_pred)\n",
    "print(\"Accuracy:\", accuracy)"
   ]
  },
  {
   "cell_type": "markdown",
   "metadata": {},
   "source": [
    "<hr>\n",
    "\n",
    "# BAGGING and BOOSTING"
   ]
  },
  {
   "cell_type": "code",
   "execution_count": 7,
   "metadata": {},
   "outputs": [
    {
     "name": "stdout",
     "output_type": "stream",
     "text": [
      "[0 0 0 1 1 2 1 1 2 0]\n"
     ]
    },
    {
     "name": "stderr",
     "output_type": "stream",
     "text": [
      "C:\\Users\\Asus vivobook\\AppData\\Roaming\\Python\\Python310\\site-packages\\sklearn\\ensemble\\_base.py:166: FutureWarning: `base_estimator` was renamed to `estimator` in version 1.2 and will be removed in 1.4.\n",
      "  warnings.warn(\n"
     ]
    }
   ],
   "source": [
    "from sklearn.datasets import load_iris\n",
    "from sklearn.model_selection import train_test_split\n",
    "from sklearn.metrics import accuracy_score\n",
    "\n",
    "from sklearn.ensemble import BaggingClassifier, AdaBoostClassifier, GradientBoostingClassifier\n",
    "from sklearn.tree import DecisionTreeClassifier\n",
    "\n",
    "iris = load_iris()\n",
    "X = iris.data\n",
    "y = iris.target\n",
    "\n",
    "xtrain, xtest, ytrain, ytest = train_test_split(\n",
    "    X, y, test_size=0.3, random_state=101)\n",
    "\n",
    "\n",
    "# BAGGING\n",
    "bag = BaggingClassifier(base_estimator=DecisionTreeClassifier(criterion='entropy'),\n",
    "                        n_estimators=10, random_state=101)\n",
    "bag.fit(xtrain, ytrain)\n",
    "preds = bag.predict(xtest)\n",
    "print(preds[0:10])"
   ]
  },
  {
   "cell_type": "code",
   "execution_count": 8,
   "metadata": {},
   "outputs": [
    {
     "name": "stdout",
     "output_type": "stream",
     "text": [
      "[0 0 0 1 1 2 1 1 2 0]\n"
     ]
    },
    {
     "name": "stderr",
     "output_type": "stream",
     "text": [
      "C:\\Users\\Asus vivobook\\AppData\\Roaming\\Python\\Python310\\site-packages\\sklearn\\ensemble\\_base.py:166: FutureWarning: `base_estimator` was renamed to `estimator` in version 1.2 and will be removed in 1.4.\n",
      "  warnings.warn(\n"
     ]
    }
   ],
   "source": [
    "# ADABOOST\n",
    "abo = AdaBoostClassifier(base_estimator=DecisionTreeClassifier(criterion='entropy'),\n",
    "                         n_estimators=10, random_state=101)\n",
    "abo.fit(xtrain, ytrain)\n",
    "preds = abo.predict(xtest)\n",
    "print(preds[0:10])"
   ]
  },
  {
   "cell_type": "code",
   "execution_count": 9,
   "metadata": {},
   "outputs": [
    {
     "name": "stdout",
     "output_type": "stream",
     "text": [
      "[0 0 0 1 1 2 1 1 2 0]\n"
     ]
    }
   ],
   "source": [
    "# GRADIENT BOOST\n",
    "gbo = GradientBoostingClassifier(n_estimators=10, random_state=101)\n",
    "gbo.fit(xtrain, ytrain)\n",
    "preds = gbo.predict(xtest)\n",
    "print(preds[0:10])"
   ]
  },
  {
   "cell_type": "code",
   "execution_count": 11,
   "metadata": {},
   "outputs": [
    {
     "name": "stdout",
     "output_type": "stream",
     "text": [
      "Accuracy: 1.0\n"
     ]
    }
   ],
   "source": [
    "import xgboost as xgb\n",
    "\n",
    "model = xgb.XGBClassifier(objective='multi:softmax', num_class=3, seed=42)\n",
    "\n",
    "model.fit(X_train, y_train)\n",
    "\n",
    "y_pred = model.predict(X_test)\n",
    "\n",
    "accuracy = accuracy_score(y_test, y_pred)\n",
    "print(\"Accuracy:\", accuracy)"
   ]
  },
  {
   "cell_type": "markdown",
   "metadata": {},
   "source": [
    "<hr>\n",
    "\n",
    "# DIMENSIONALITY REDUCTION"
   ]
  },
  {
   "cell_type": "code",
   "execution_count": 12,
   "metadata": {},
   "outputs": [
    {
     "name": "stdout",
     "output_type": "stream",
     "text": [
      "Original data shape: (4, 3)\n",
      "Transformed data shape: (4, 2)\n",
      "Transformed data: [[-7.79422863e+00 -1.66533454e-15]\n",
      " [-2.59807621e+00 -5.55111512e-16]\n",
      " [ 2.59807621e+00  5.55111512e-16]\n",
      " [ 7.79422863e+00  1.66533454e-15]]\n"
     ]
    }
   ],
   "source": [
    "import numpy as np\n",
    "from sklearn.decomposition import PCA\n",
    "\n",
    "data = np.array([[1, 2, 3], [4, 5, 6], [7, 8, 9], [10, 11, 12]])\n",
    "\n",
    "# PRINCIPAL COMPONENT ANALYSIS\n",
    "\n",
    "pca = PCA(n_components=2)\n",
    "pca.fit(data)\n",
    "pca_transformed_data = pca.transform(data)\n",
    "\n",
    "print(\"Original data shape:\", data.shape)\n",
    "print(\"Transformed data shape:\", pca_transformed_data.shape)\n",
    "print(\"Transformed data:\", pca_transformed_data)"
   ]
  },
  {
   "cell_type": "code",
   "execution_count": null,
   "metadata": {},
   "outputs": [],
   "source": [
    "# LINEAR DISCRIMIMNANT ANALYSIS\n",
    "\n",
    "from sklearn.discriminant_analysis import LinearDiscriminantAnalysis\n",
    "\n",
    "lda = LinearDiscriminantAnalysis(n_components=2)\n",
    "lda.fit(data, [1, 0, 1])\n",
    "lda_transformed_data = lda.transform(data)\n",
    "\n",
    "print(\"Original data shape:\", data.shape)\n",
    "print(\"Transformed data shape:\", lda_transformed_data.shape)\n",
    "print(\"Transformed data:\", lda_transformed_data)"
   ]
  },
  {
   "cell_type": "code",
   "execution_count": 13,
   "metadata": {},
   "outputs": [
    {
     "name": "stdout",
     "output_type": "stream",
     "text": [
      "Original data shape: (4, 3)\n",
      "Singular values: [2.54624074e+01 1.29066168e+00 2.40694596e-15]\n",
      "Left singular vectors (U): [[-0.14087668 -0.82471435  0.53999635 -0.09167299]\n",
      " [-0.34394629 -0.42626394 -0.65166613  0.52472017]\n",
      " [-0.54701591 -0.02781353 -0.31665681 -0.77442137]\n",
      " [-0.75008553  0.37063688  0.42832658  0.34137419]]\n",
      "Right singular vectors (V): [[-0.50453315 -0.5745157  -0.64449826]\n",
      " [ 0.76077568  0.05714052 -0.64649464]\n",
      " [-0.40824829  0.81649658 -0.40824829]]\n",
      "[[ 3.58705934  1.06442721]\n",
      " [ 8.75770068  0.55016253]\n",
      " [13.92834202  0.03589786]\n",
      " [19.09898335 -0.47836682]]\n"
     ]
    }
   ],
   "source": [
    "# SINGULAR VALUE DECOMPOSITION\n",
    "\n",
    "from sklearn.decomposition import TruncatedSVD\n",
    "\n",
    "U, s, V = np.linalg.svd(data)\n",
    "\n",
    "print(\"Original data shape:\", data.shape)\n",
    "print(\"Singular values:\", s)\n",
    "print(\"Left singular vectors (U):\", U)\n",
    "print(\"Right singular vectors (V):\", V)\n",
    "\n",
    "\n",
    "# SVD ALTERNATE\n",
    "tsvd = TruncatedSVD(n_components=2)\n",
    "tsvd.fit(data)\n",
    "transformed_svd = tsvd.transform(data)\n",
    "print(transformed_svd)"
   ]
  },
  {
   "cell_type": "markdown",
   "metadata": {},
   "source": [
    "<hr>\n",
    "\n",
    "# BACKPROPAGATION"
   ]
  },
  {
   "cell_type": "code",
   "execution_count": null,
   "metadata": {},
   "outputs": [],
   "source": [
    "import numpy as np\n",
    "\n",
    "\n",
    "def sigmoid(x):\n",
    "    return 1 / (1 + np.exp(-x))\n",
    "\n",
    "\n",
    "def sigmoid_derivative(x):\n",
    "    return x * (1 - x)\n",
    "\n",
    "\n",
    "X = np.array([[0, 0, 1],\n",
    "              [0, 1, 1],\n",
    "              [1, 0, 1],\n",
    "              [1, 1, 1]])\n",
    "\n",
    "y = np.array([[0],\n",
    "              [1],\n",
    "              [1],\n",
    "              [0]])\n",
    "\n",
    "# RANDOM WEIGHTS\n",
    "w1 = 2 * np.random.random((3, 4)) - 1\n",
    "w2 = 2 * np.random.random((4, 1)) - 1\n",
    "\n",
    "num_iterations = 60000\n",
    "\n",
    "for i in range(num_iterations):\n",
    "\n",
    "    # Forward propagation\n",
    "    layer_0 = X\n",
    "    layer_1 = sigmoid(np.dot(layer_0, w1))\n",
    "    layer_2 = sigmoid(np.dot(layer_1, w2))\n",
    "\n",
    "    # Calculate error\n",
    "    layer_2_error = y - layer_2\n",
    "\n",
    "    # Backpropagation\n",
    "    layer_2_delta = layer_2_error * sigmoid_derivative(layer_2)\n",
    "    layer_1_error = layer_2_delta.dot(w1.T)\n",
    "    layer_1_delta = layer_1_error * sigmoid_derivative(layer_1)\n",
    "\n",
    "    # Update weights\n",
    "    w1 += layer_1.T.dot(layer_2_delta)\n",
    "    w2 += layer_0.T.dot(layer_1_delta)\n",
    "\n",
    "print(\"Output after training:\")\n",
    "print(layer_2)\n"
   ]
  },
  {
   "cell_type": "markdown",
   "metadata": {},
   "source": [
    "<hr>"
   ]
  }
 ],
 "metadata": {
  "kernelspec": {
   "display_name": "Python 3 (ipykernel)",
   "language": "python",
   "name": "python3"
  },
  "language_info": {
   "codemirror_mode": {
    "name": "ipython",
    "version": 3
   },
   "file_extension": ".py",
   "mimetype": "text/x-python",
   "name": "python",
   "nbconvert_exporter": "python",
   "pygments_lexer": "ipython3",
   "version": "3.9.13"
  }
 },
 "nbformat": 4,
 "nbformat_minor": 2
}
