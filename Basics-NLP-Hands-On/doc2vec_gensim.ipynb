{
 "cells": [
  {
   "cell_type": "markdown",
   "metadata": {
    "id": "RNHX8-hUTwR8"
   },
   "source": [
    "### Problem Statement\n",
    "\n",
    "  - Use the Gensim library to implement Doc2Vec for generating document embeddings from a set of paragraphs.\n"
   ]
  },
  {
   "cell_type": "markdown",
   "metadata": {
    "id": "AbEei4kbTwz7"
   },
   "source": [
    "### Importing Modules"
   ]
  },
  {
   "cell_type": "code",
   "execution_count": 11,
   "metadata": {
    "colab": {
     "base_uri": "https://localhost:8080/"
    },
    "executionInfo": {
     "elapsed": 3,
     "status": "ok",
     "timestamp": 1718699226467,
     "user": {
      "displayName": "AYUSHMAAN DAS BTech_AIML",
      "userId": "16690242712608209106"
     },
     "user_tz": -330
    },
    "id": "4nJBt8F-Tyam",
    "outputId": "5e1ebb70-f0a4-4ed0-f4cb-53eff0537d3b"
   },
   "outputs": [
    {
     "name": "stderr",
     "output_type": "stream",
     "text": [
      "[nltk_data] Downloading package punkt to /root/nltk_data...\n",
      "[nltk_data]   Package punkt is already up-to-date!\n",
      "[nltk_data] Downloading package wordnet to /root/nltk_data...\n",
      "[nltk_data]   Package wordnet is already up-to-date!\n",
      "[nltk_data] Downloading package stopwords to /root/nltk_data...\n",
      "[nltk_data]   Package stopwords is already up-to-date!\n"
     ]
    },
    {
     "data": {
      "text/plain": [
       "True"
      ]
     },
     "execution_count": 11,
     "metadata": {},
     "output_type": "execute_result"
    }
   ],
   "source": [
    "import gensim\n",
    "import nltk\n",
    "from nltk.tokenize import sent_tokenize, word_tokenize\n",
    "from nltk.corpus import stopwords\n",
    "from gensim.models.doc2vec import Doc2Vec, TaggedDocument\n",
    "\n",
    "nltk.download('punkt')\n",
    "nltk.download('wordnet')\n",
    "nltk.download('stopwords')"
   ]
  },
  {
   "cell_type": "markdown",
   "metadata": {
    "id": "8WR3PTukaOU7"
   },
   "source": [
    "### Creating Tagged Documents"
   ]
  },
  {
   "cell_type": "code",
   "execution_count": 17,
   "metadata": {
    "executionInfo": {
     "elapsed": 3,
     "status": "ok",
     "timestamp": 1718699326958,
     "user": {
      "displayName": "AYUSHMAAN DAS BTech_AIML",
      "userId": "16690242712608209106"
     },
     "user_tz": -330
    },
    "id": "bdZm5DcAURoM"
   },
   "outputs": [],
   "source": [
    "docs = [\"Ballspielverein Borussia 09 e. V. Dortmund, often known simply as Borussia Dortmund or by its initialism BVB, is a German professional sports club based in Dortmund, North Rhine-Westphalia.\",\n",
    "        \"Futbol Club Barcelona, commonly known as Barcelona and familiarly as Barça ([ˈbaɾsə]), is a professional football club based in Barcelona, Catalonia, Spain, that competes in La Liga, the top flight of Spanish football.\",\n",
    "        \"Manchester City Football Club is a professional football club based in Manchester, England. The club competes in the Premier League, the top tier of English football.\"]"
   ]
  },
  {
   "cell_type": "code",
   "execution_count": 18,
   "metadata": {
    "colab": {
     "base_uri": "https://localhost:8080/"
    },
    "executionInfo": {
     "elapsed": 4,
     "status": "ok",
     "timestamp": 1718699334717,
     "user": {
      "displayName": "AYUSHMAAN DAS BTech_AIML",
      "userId": "16690242712608209106"
     },
     "user_tz": -330
    },
    "id": "PcoJR376dic5",
    "outputId": "c8b7fdec-162b-4a35-8fee-a13f8f89a3d6"
   },
   "outputs": [
    {
     "data": {
      "text/plain": [
       "[TaggedDocument(words=['ballspielverein', 'borussia', '09', 'e.', 'v.', 'dortmund', ',', 'often', 'known', 'simply', 'as', 'borussia', 'dortmund', 'or', 'by', 'its', 'initialism', 'bvb', ',', 'is', 'a', 'german', 'professional', 'sports', 'club', 'based', 'in', 'dortmund', ',', 'north', 'rhine-westphalia', '.'], tags=['0']),\n",
       " TaggedDocument(words=['futbol', 'club', 'barcelona', ',', 'commonly', 'known', 'as', 'barcelona', 'and', 'familiarly', 'as', 'barça', '(', '[', 'ˈbaɾsə', ']', ')', ',', 'is', 'a', 'professional', 'football', 'club', 'based', 'in', 'barcelona', ',', 'catalonia', ',', 'spain', ',', 'that', 'competes', 'in', 'la', 'liga', ',', 'the', 'top', 'flight', 'of', 'spanish', 'football', '.'], tags=['1']),\n",
       " TaggedDocument(words=['manchester', 'city', 'football', 'club', 'is', 'a', 'professional', 'football', 'club', 'based', 'in', 'manchester', ',', 'england', '.', 'the', 'club', 'competes', 'in', 'the', 'premier', 'league', ',', 'the', 'top', 'tier', 'of', 'english', 'football', '.'], tags=['2'])]"
      ]
     },
     "execution_count": 18,
     "metadata": {},
     "output_type": "execute_result"
    }
   ],
   "source": [
    "tagged_data = [TaggedDocument(words=word_tokenize(doc.lower()),\n",
    "                              tags=[str(i)]) for i,\n",
    "               doc in enumerate(docs)]\n",
    "tagged_data"
   ]
  },
  {
   "cell_type": "markdown",
   "metadata": {
    "id": "ETOSXxqyaaDr"
   },
   "source": [
    "### Gensim's Word2Vec Model"
   ]
  },
  {
   "cell_type": "markdown",
   "metadata": {
    "id": "cTooO7I_eIYy"
   },
   "source": [
    "Model Loading and Training"
   ]
  },
  {
   "cell_type": "code",
   "execution_count": 20,
   "metadata": {
    "executionInfo": {
     "elapsed": 394,
     "status": "ok",
     "timestamp": 1718699386629,
     "user": {
      "displayName": "AYUSHMAAN DAS BTech_AIML",
      "userId": "16690242712608209106"
     },
     "user_tz": -330
    },
    "id": "dPXyBQqyVpzy"
   },
   "outputs": [],
   "source": [
    "model = Doc2Vec()\n",
    "model.build_vocab(tagged_data)\n",
    "model.train(tagged_data,\n",
    "            total_examples=model.corpus_count,\n",
    "            epochs=model.epochs)"
   ]
  },
  {
   "cell_type": "markdown",
   "metadata": {
    "id": "2cavNeNaeLWG"
   },
   "source": [
    "Predictions"
   ]
  },
  {
   "cell_type": "code",
   "execution_count": 22,
   "metadata": {
    "executionInfo": {
     "elapsed": 394,
     "status": "ok",
     "timestamp": 1718699410035,
     "user": {
      "displayName": "AYUSHMAAN DAS BTech_AIML",
      "userId": "16690242712608209106"
     },
     "user_tz": -330
    },
    "id": "7M_8X8XtZaPj"
   },
   "outputs": [],
   "source": [
    "document_vectors = [model.infer_vector(\n",
    "    word_tokenize(doc.lower())) for doc in docs]"
   ]
  },
  {
   "cell_type": "code",
   "execution_count": 24,
   "metadata": {
    "colab": {
     "base_uri": "https://localhost:8080/"
    },
    "executionInfo": {
     "elapsed": 398,
     "status": "ok",
     "timestamp": 1718699424545,
     "user": {
      "displayName": "AYUSHMAAN DAS BTech_AIML",
      "userId": "16690242712608209106"
     },
     "user_tz": -330
    },
    "id": "Xy1oFu68ZrNi",
    "outputId": "9bb1943f-6221-4dd4-b249-2a484f5b024e"
   },
   "outputs": [
    {
     "name": "stdout",
     "output_type": "stream",
     "text": [
      "Document 1 : Ballspielverein Borussia 09 e. V. Dortmund, often known simply as Borussia Dortmund or by its initialism BVB, is a German professional sports club based in Dortmund, North Rhine-Westphalia.\n",
      "Vector: [-3.7805834e-03 -4.5711710e-03 -4.8266998e-03  2.2331548e-03\n",
      " -1.3317827e-03 -2.3213839e-03 -3.0306876e-03 -3.5532808e-03\n",
      "  2.9661776e-03  3.1900082e-03  9.3555707e-04  3.0771566e-03\n",
      "  4.0184241e-03  4.1386541e-03 -2.2775665e-05 -3.4195499e-04\n",
      " -3.9196210e-03 -6.7737368e-05  1.5786339e-03 -1.0418436e-03\n",
      " -4.8898729e-03  4.6273433e-03  2.2956051e-03  4.0373481e-03\n",
      " -1.0116837e-03  3.4960478e-03  7.3933729e-04 -2.0626315e-03\n",
      "  2.9986303e-03  1.5712701e-03 -1.8408824e-03 -4.6567898e-03\n",
      " -1.8198629e-03 -3.0896266e-03  2.2764867e-03 -2.6385789e-03\n",
      " -4.9505071e-03 -6.2630410e-05  3.4139114e-03  1.0816329e-03\n",
      " -2.1662668e-03 -4.3310709e-03 -4.6909028e-03 -4.6007922e-03\n",
      "  4.2914557e-03 -4.3560523e-03 -3.2549927e-03  3.0186789e-03\n",
      "  1.2479740e-04  2.3577249e-04  1.9992024e-03  4.4294563e-03\n",
      "  5.8780273e-04  2.7586287e-03  3.4747731e-03  7.2717894e-04\n",
      " -3.3655369e-03  8.8979490e-04 -4.6071396e-03  2.3603726e-03\n",
      " -3.6967264e-03  2.8280821e-03  6.9425121e-04 -6.3846674e-04\n",
      " -1.5351317e-03 -3.4204097e-03 -1.4183493e-05 -1.5275077e-03\n",
      " -1.3840909e-03  2.9114401e-03 -2.1794799e-04  2.6072813e-03\n",
      " -4.4704522e-03 -1.5554513e-03  1.4653541e-04 -2.0609482e-03\n",
      "  2.7331840e-03  6.4711907e-04  2.0882243e-03 -2.3905621e-03\n",
      " -2.0698269e-03  3.5773108e-03  4.9620040e-04 -2.5983900e-03\n",
      " -4.3255608e-03  4.0000393e-03 -1.6550986e-03  4.2042448e-03\n",
      " -3.0481184e-03  3.9544450e-03 -3.9386372e-03  1.8340424e-03\n",
      "  4.9732737e-03 -4.1537727e-03 -3.1289160e-03 -2.0314215e-03\n",
      "  1.5087835e-03 -6.4095412e-04  1.9467319e-03 -9.8409667e-04]\n",
      "\n",
      "Document 2 : Futbol Club Barcelona, commonly known as Barcelona and familiarly as Barça ([ˈbaɾsə]), is a professional football club based in Barcelona, Catalonia, Spain, that competes in La Liga, the top flight of Spanish football.\n",
      "Vector: [ 3.3004272e-03  2.9102310e-03  1.8369060e-03 -1.7863845e-03\n",
      "  4.9761371e-03 -2.1752075e-03  1.5427707e-03  1.5668148e-03\n",
      "  1.7996055e-04 -4.1101305e-03 -3.1178386e-03 -3.5818876e-04\n",
      "  4.6270858e-03  4.1615181e-03  7.4992795e-04  2.7115841e-03\n",
      "  3.7647183e-03 -1.0102681e-03  3.5813747e-03  1.6256029e-04\n",
      "  2.0690595e-03  2.9159121e-03 -9.5696963e-04  3.9983663e-04\n",
      "  2.3683230e-03  1.6359431e-03  2.0876729e-03 -8.8825508e-04\n",
      " -2.6752015e-03 -3.1733646e-03 -1.0905974e-03 -4.4447952e-03\n",
      " -4.4429842e-03 -1.4505145e-03 -3.1854014e-03 -1.5617391e-03\n",
      " -1.7258328e-03 -4.9123634e-03 -8.3268527e-04 -4.9061771e-03\n",
      "  4.4121416e-03 -4.2676642e-03  2.0157087e-03  1.8938739e-03\n",
      "  4.3121213e-03 -2.8521442e-04  2.2576309e-03 -2.0025200e-03\n",
      " -4.8549362e-03  2.2284500e-03 -3.3762318e-03  3.1452032e-03\n",
      "  1.2930032e-03 -3.1092430e-03  4.1960967e-03  4.3339287e-03\n",
      " -2.1698843e-03 -3.9678556e-03  1.9249609e-03  2.1839126e-03\n",
      "  3.5854946e-03  3.3067307e-03  4.5990245e-03  2.4974525e-03\n",
      " -2.8947385e-05 -1.5241740e-03 -3.2180925e-03  7.0622133e-04\n",
      "  4.1773487e-03 -6.7937782e-04  4.4846311e-03  3.3605336e-03\n",
      "  4.1173538e-03 -3.8145182e-03 -3.0668923e-03 -1.7454611e-03\n",
      "  1.6900498e-04 -1.3480128e-03 -4.5193629e-03 -2.0775963e-03\n",
      "  3.8374881e-03 -4.3816716e-04  1.2634698e-03 -2.3977524e-03\n",
      " -4.9943822e-03 -4.7847340e-03 -2.8972372e-03 -4.3886355e-03\n",
      "  4.7173868e-05 -2.3067952e-03 -1.0518038e-03 -1.4271215e-03\n",
      " -2.8871233e-03  1.8163134e-03  3.0437273e-03  4.8835282e-03\n",
      " -1.1079558e-03  1.4701595e-03 -2.0978260e-03 -2.0656849e-03]\n",
      "\n",
      "Document 3 : Manchester City Football Club is a professional football club based in Manchester, England. The club competes in the Premier League, the top tier of English football.\n",
      "Vector: [-0.0010119  -0.00158011 -0.0009579   0.00454285 -0.00175423  0.00160704\n",
      "  0.0007904   0.0040356  -0.00342103 -0.00470267  0.00226277 -0.00394774\n",
      " -0.00090166  0.00227823  0.00207136  0.00033152 -0.00372314  0.00095136\n",
      " -0.00339136  0.00384108  0.00375813  0.00361511  0.00334257 -0.00044139\n",
      " -0.00345449 -0.00314256 -0.00010694 -0.00439766  0.00427909  0.0042479\n",
      " -0.00097343 -0.00336793  0.00466358  0.00248629  0.0030477  -0.00229614\n",
      "  0.00046325  0.00417453  0.00146859  0.00342604 -0.00147794 -0.00367466\n",
      "  0.00303943 -0.00344584 -0.00220612  0.00316248  0.00213521 -0.00456603\n",
      " -0.00283434 -0.00140389 -0.00113431 -0.001473   -0.0044883  -0.00352095\n",
      " -0.00441195 -0.00256104 -0.0048986  -0.00023899  0.00094461  0.00238665\n",
      "  0.00175661  0.00293721 -0.00058425  0.00176112 -0.00036496  0.00200164\n",
      " -0.00168544  0.00425296  0.00380067  0.00486027 -0.00072005  0.00313584\n",
      " -0.00342398 -0.00483002 -0.00456631 -0.00085416  0.00031284  0.00482562\n",
      "  0.00425305  0.00348737  0.00294244 -0.00359649 -0.0028649   0.00214903\n",
      "  0.00172182  0.00048492  0.00443519  0.0022666   0.00210929 -0.00182436\n",
      "  0.00090786  0.00402299  0.0008682   0.00248173  0.00315223 -0.00383932\n",
      " -0.00232937 -0.00319723  0.00280672 -0.00431536]\n",
      "\n"
     ]
    }
   ],
   "source": [
    "for i, doc in enumerate(docs):\n",
    "    print(\"Document\", i+1, \":\", doc)\n",
    "    print(\"Vector:\", document_vectors[i])\n",
    "    print()"
   ]
  },
  {
   "cell_type": "markdown",
   "metadata": {
    "id": "jYMdvA8Gf1zh"
   },
   "source": [
    "### Cosine Simiarity"
   ]
  },
  {
   "cell_type": "code",
   "execution_count": 28,
   "metadata": {
    "colab": {
     "base_uri": "https://localhost:8080/"
    },
    "executionInfo": {
     "elapsed": 423,
     "status": "ok",
     "timestamp": 1718699952033,
     "user": {
      "displayName": "AYUSHMAAN DAS BTech_AIML",
      "userId": "16690242712608209106"
     },
     "user_tz": -330
    },
    "id": "xqC_2A3Rezj8",
    "outputId": "c9bd08f1-6ab1-4799-ceb5-f5a0ec37f19e"
   },
   "outputs": [
    {
     "name": "stderr",
     "output_type": "stream",
     "text": [
      "<ipython-input-28-2e9dfdb8cf3c>:3: DeprecationWarning: Call to deprecated `docvecs` (The `docvecs` property has been renamed `dv`.).\n",
      "  model.docvecs.most_similar([model.infer_vector(test_doc)])\n"
     ]
    },
    {
     "data": {
      "text/plain": [
       "[('0', -0.03234893083572388),\n",
       " ('2', -0.09455051273107529),\n",
       " ('1', -0.13056692481040955)]"
      ]
     },
     "execution_count": 28,
     "metadata": {},
     "output_type": "execute_result"
    }
   ],
   "source": [
    "test_doc = [\"Barcelona is one of the most widely supported teams in the world, and the club has one of the largest social media following in the world among sports teams\"]\n",
    "\n",
    "model.docvecs.most_similar([model.infer_vector(test_doc)])"
   ]
  },
  {
   "cell_type": "markdown",
   "metadata": {
    "id": "R65plekbaxsD"
   },
   "source": [
    "<hr><hr>"
   ]
  }
 ],
 "metadata": {
  "accelerator": "GPU",
  "colab": {
   "authorship_tag": "ABX9TyMhV4DWaznFhDyc/xZv9xnN",
   "gpuType": "T4",
   "provenance": []
  },
  "kernelspec": {
   "display_name": "Python 3",
   "name": "python3"
  },
  "language_info": {
   "name": "python"
  }
 },
 "nbformat": 4,
 "nbformat_minor": 0
}
