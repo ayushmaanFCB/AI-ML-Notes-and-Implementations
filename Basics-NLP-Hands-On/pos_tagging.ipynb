{
 "cells": [
  {
   "cell_type": "markdown",
   "metadata": {
    "id": "XgwFEUufBXsZ"
   },
   "source": [
    "### Problem Statement\n",
    "\n",
    "  - Create a Python program that performs Part-of-Speech (POS)\n",
    "tagging on a given paragraph using the NLTK library."
   ]
  },
  {
   "cell_type": "markdown",
   "metadata": {
    "id": "nniRJSmjBgLU"
   },
   "source": [
    "### Importing the required Modules"
   ]
  },
  {
   "cell_type": "code",
   "execution_count": null,
   "metadata": {
    "id": "zNHyqvwkBZ34"
   },
   "outputs": [],
   "source": [
    "import nltk\n",
    "from nltk.corpus import stopwords\n",
    "from nltk.tokenize import word_tokenize, sent_tokenize"
   ]
  },
  {
   "cell_type": "code",
   "execution_count": null,
   "metadata": {
    "colab": {
     "base_uri": "https://localhost:8080/"
    },
    "executionInfo": {
     "elapsed": 443,
     "status": "ok",
     "timestamp": 1718440490105,
     "user": {
      "displayName": "AYUSHMAAN DAS BTech_AIML",
      "userId": "16690242712608209106"
     },
     "user_tz": -330
    },
    "id": "WObxn7lMBtnz",
    "outputId": "0ec2566f-9e02-4bde-c510-205d550b1e1c"
   },
   "outputs": [
    {
     "name": "stderr",
     "output_type": "stream",
     "text": [
      "[nltk_data] Downloading package stopwords to /root/nltk_data...\n",
      "[nltk_data]   Unzipping corpora/stopwords.zip.\n"
     ]
    },
    {
     "data": {
      "text/plain": [
       "True"
      ]
     },
     "execution_count": 3,
     "metadata": {},
     "output_type": "execute_result"
    }
   ],
   "source": [
    "nltk.download('stopwords')"
   ]
  },
  {
   "cell_type": "code",
   "execution_count": null,
   "metadata": {
    "colab": {
     "base_uri": "https://localhost:8080/"
    },
    "executionInfo": {
     "elapsed": 1052,
     "status": "ok",
     "timestamp": 1718440669447,
     "user": {
      "displayName": "AYUSHMAAN DAS BTech_AIML",
      "userId": "16690242712608209106"
     },
     "user_tz": -330
    },
    "id": "ObBgrYCOC4KV",
    "outputId": "72e0226d-4d6b-4049-de08-27287e28295b"
   },
   "outputs": [
    {
     "name": "stderr",
     "output_type": "stream",
     "text": [
      "[nltk_data] Downloading package punkt to /root/nltk_data...\n",
      "[nltk_data]   Unzipping tokenizers/punkt.zip.\n"
     ]
    },
    {
     "data": {
      "text/plain": [
       "True"
      ]
     },
     "execution_count": 11,
     "metadata": {},
     "output_type": "execute_result"
    }
   ],
   "source": [
    "nltk.download('punkt')"
   ]
  },
  {
   "cell_type": "code",
   "execution_count": null,
   "metadata": {
    "colab": {
     "base_uri": "https://localhost:8080/"
    },
    "executionInfo": {
     "elapsed": 385,
     "status": "ok",
     "timestamp": 1718440779376,
     "user": {
      "displayName": "AYUSHMAAN DAS BTech_AIML",
      "userId": "16690242712608209106"
     },
     "user_tz": -330
    },
    "id": "oIrDjRh5DQoV",
    "outputId": "21382e2d-3f62-47de-d1c0-6d71bf954297"
   },
   "outputs": [
    {
     "name": "stderr",
     "output_type": "stream",
     "text": [
      "[nltk_data] Downloading package averaged_perceptron_tagger to\n",
      "[nltk_data]     /root/nltk_data...\n",
      "[nltk_data]   Unzipping taggers/averaged_perceptron_tagger.zip.\n"
     ]
    },
    {
     "data": {
      "text/plain": [
       "True"
      ]
     },
     "execution_count": 12,
     "metadata": {},
     "output_type": "execute_result"
    }
   ],
   "source": [
    "nltk.download('averaged_perceptron_tagger')"
   ]
  },
  {
   "cell_type": "markdown",
   "metadata": {
    "id": "7KlWFjIACQHk"
   },
   "source": [
    "### Setting Stopwords"
   ]
  },
  {
   "cell_type": "code",
   "execution_count": null,
   "metadata": {
    "id": "gBp5n4csCVSU"
   },
   "outputs": [],
   "source": [
    "stop_words = stopwords.words('english')"
   ]
  },
  {
   "cell_type": "code",
   "execution_count": null,
   "metadata": {
    "id": "FNEZKlwHCtSd"
   },
   "outputs": [],
   "source": [
    "txt = \"\"\"FC Barcelona, Spanish professional football (soccer) club located in Barcelona.\n",
    "FC Barcelona is renowned for its historically skillful and attractive brand of attacking football that places an emphasis on flowing, open play.\n",
    "The team is part of a wider sports and social club with thousands of members.\"\"\""
   ]
  },
  {
   "cell_type": "markdown",
   "metadata": {
    "id": "Ewg17-P8CUqs"
   },
   "source": [
    "### Parts Of Speech (PoS) Tagging"
   ]
  },
  {
   "cell_type": "code",
   "execution_count": null,
   "metadata": {
    "colab": {
     "base_uri": "https://localhost:8080/"
    },
    "executionInfo": {
     "elapsed": 448,
     "status": "ok",
     "timestamp": 1718440958892,
     "user": {
      "displayName": "AYUSHMAAN DAS BTech_AIML",
      "userId": "16690242712608209106"
     },
     "user_tz": -330
    },
    "id": "tRpkB7h6Bm6s",
    "outputId": "eb4aa475-8caf-46dc-a763-c784412b2cb2"
   },
   "outputs": [
    {
     "data": {
      "text/plain": [
       "[[('FC', 'NNP'),\n",
       "  ('Barcelona', 'NNP'),\n",
       "  ('Spanish', 'NNP'),\n",
       "  ('professional', 'NN'),\n",
       "  ('football', 'NN'),\n",
       "  ('soccer', 'NN'),\n",
       "  ('club', 'NN'),\n",
       "  ('located', 'VBN'),\n",
       "  ('Barcelona', 'NNP')],\n",
       " [('FC', 'NNP'),\n",
       "  ('Barcelona', 'NNP'),\n",
       "  ('renowned', 'VBD'),\n",
       "  ('historically', 'RB'),\n",
       "  ('skillful', 'JJ'),\n",
       "  ('attractive', 'JJ'),\n",
       "  ('brand', 'NN'),\n",
       "  ('attacking', 'VBG'),\n",
       "  ('football', 'NN'),\n",
       "  ('places', 'NNS'),\n",
       "  ('emphasis', 'NN'),\n",
       "  ('flowing', 'VBG'),\n",
       "  ('open', 'JJ'),\n",
       "  ('play', 'NN')],\n",
       " [('The', 'DT'),\n",
       "  ('team', 'NN'),\n",
       "  ('part', 'NN'),\n",
       "  ('wider', 'NN'),\n",
       "  ('sports', 'NNS'),\n",
       "  ('social', 'JJ'),\n",
       "  ('club', 'NN'),\n",
       "  ('thousands', 'NNS'),\n",
       "  ('members', 'NNS')]]"
      ]
     },
     "execution_count": 17,
     "metadata": {},
     "output_type": "execute_result"
    }
   ],
   "source": [
    "tokenized = sent_tokenize(txt)\n",
    "tagged_list = []\n",
    "for i in tokenized:\n",
    "\n",
    "    wordsList = nltk.word_tokenize(i)\n",
    "\n",
    "    wordsList = [word for word in wordsList if word.isalnum()]\n",
    "\n",
    "    wordsList = [w for w in wordsList if not w in stop_words]\n",
    "\n",
    "    tagged_list.append(nltk.pos_tag(wordsList))\n",
    "\n",
    "tagged_list"
   ]
  },
  {
   "cell_type": "markdown",
   "metadata": {
    "id": "-CncHAP5DeZX"
   },
   "source": [
    "<hr><hr>"
   ]
  }
 ],
 "metadata": {
  "colab": {
   "authorship_tag": "ABX9TyMCtQR1yaYhSNtWmjeBlUUX",
   "provenance": []
  },
  "kernelspec": {
   "display_name": "Python 3",
   "name": "python3"
  },
  "language_info": {
   "name": "python"
  }
 },
 "nbformat": 4,
 "nbformat_minor": 0
}
