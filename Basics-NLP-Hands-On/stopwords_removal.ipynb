{
 "cells": [
  {
   "cell_type": "markdown",
   "metadata": {
    "id": "jIwyh9Ni2c9x"
   },
   "source": [
    "### Problem Statement\n",
    "\n",
    "  - Write a Python function that takes a text corpus as input, performs tokenization, and removes stop words using NLTK library.\n",
    "  - List out stop words for any 2 Indian Language.\n"
   ]
  },
  {
   "cell_type": "markdown",
   "metadata": {
    "id": "359EOV3i2jLI"
   },
   "source": [
    "### Importing the required Modules"
   ]
  },
  {
   "cell_type": "code",
   "execution_count": null,
   "metadata": {
    "id": "D8P9hBni2hyZ"
   },
   "outputs": [],
   "source": [
    "from nltk import (word_tokenize, TreebankWordTokenizer, WordPunctTokenizer)\n",
    "from nltk import sent_tokenize\n",
    "\n",
    "from nltk.corpus import stopwords\n",
    "\n",
    "import nltk"
   ]
  },
  {
   "cell_type": "code",
   "execution_count": null,
   "metadata": {
    "colab": {
     "base_uri": "https://localhost:8080/"
    },
    "executionInfo": {
     "elapsed": 7,
     "status": "ok",
     "timestamp": 1718440121702,
     "user": {
      "displayName": "AYUSHMAAN DAS BTech_AIML",
      "userId": "16690242712608209106"
     },
     "user_tz": -330
    },
    "id": "nCqBBxSd24In",
    "outputId": "046e1b23-3e60-4d53-81aa-7c63f8cfe4d9"
   },
   "outputs": [
    {
     "name": "stderr",
     "output_type": "stream",
     "text": [
      "[nltk_data] Downloading package stopwords to /root/nltk_data...\n",
      "[nltk_data]   Package stopwords is already up-to-date!\n"
     ]
    },
    {
     "data": {
      "text/plain": [
       "True"
      ]
     },
     "execution_count": 2,
     "metadata": {},
     "output_type": "execute_result"
    }
   ],
   "source": [
    "nltk.download('stopwords')"
   ]
  },
  {
   "cell_type": "code",
   "execution_count": null,
   "metadata": {
    "colab": {
     "base_uri": "https://localhost:8080/"
    },
    "executionInfo": {
     "elapsed": 6,
     "status": "ok",
     "timestamp": 1718440121702,
     "user": {
      "displayName": "AYUSHMAAN DAS BTech_AIML",
      "userId": "16690242712608209106"
     },
     "user_tz": -330
    },
    "id": "4mekT-Vo4hqJ",
    "outputId": "a713911a-3d5f-40de-8384-81890ca48ca1"
   },
   "outputs": [
    {
     "name": "stderr",
     "output_type": "stream",
     "text": [
      "[nltk_data] Downloading package punkt to /root/nltk_data...\n",
      "[nltk_data]   Package punkt is already up-to-date!\n"
     ]
    },
    {
     "data": {
      "text/plain": [
       "True"
      ]
     },
     "execution_count": 3,
     "metadata": {},
     "output_type": "execute_result"
    }
   ],
   "source": [
    "nltk.download('punkt')"
   ]
  },
  {
   "cell_type": "markdown",
   "metadata": {
    "id": "gx5fFDiF365T"
   },
   "source": [
    "### Word Tokenization"
   ]
  },
  {
   "cell_type": "code",
   "execution_count": null,
   "metadata": {
    "colab": {
     "base_uri": "https://localhost:8080/"
    },
    "executionInfo": {
     "elapsed": 2346,
     "status": "ok",
     "timestamp": 1718440134193,
     "user": {
      "displayName": "AYUSHMAAN DAS BTech_AIML",
      "userId": "16690242712608209106"
     },
     "user_tz": -330
    },
    "id": "YcoQhFm93jM5",
    "outputId": "a5fb26bf-16a7-49fd-8997-4057a02c5a17"
   },
   "outputs": [
    {
     "name": "stdout",
     "output_type": "stream",
     "text": [
      "FC Barcelona, Spanish professional football (soccer) club located in Barcelona. FC Barcelona is renowned for its historically skillful and attractive brand of attacking football that places an emphasis on flowing, open play. The team is part of a wider sports and social club with thousands of members.  FC Barcelona was formed in 1899 by businessman Joan Gamper, who advertised for players in a local Barcelona sports magazine. The club’s first trophy was the Copa Macaya (Catalan championship) in 1902, and in 1910 “Barça” won the Copa del Rey (“King’s Cup”)—Spain’s leading national football cup competition—for the first time. In total, Barcelona has won 30 Copas del Rey, more than any other team.  Serena Williams poses with the Daphne Akhurst Trophy after winning the Women's Singles final against Venus Williams of the United States on day 13 of the 2017 Australian Open at Melbourne Park on January 28, 2017 in Melbourne, Australia. (tennis, sports) Britannica Quiz Great Moments in Sports Quiz La Liga, the top Spanish football league, was formed in 1929, and Barcelona captured the title in the league’s inaugural season. The club has won La Liga 26 times and has never been relegated to a lower division. Abroad, Barcelona has won the European Cup Winners’ Cup four times (1979, 1982, 1989, and 1997), the European Cup/Champions League five times (1992, 2006, 2009, 2011, and 2015), and the Union of European Football Associations (UEFA) Super Cup three times (1992, 1997, and 2009). In 2008–09 it won the La Liga championship, the Copa del Rey, and the continental championship (Champions League) to become the first Spanish side to capture this “treble,” a feat it repeated in 2014–15.  Barcelona played its home matches from 1922 to 1957 at the Camp de Les Corts. After the increasingly popular club outgrew that facility, a giant new stadium, Camp Nou, was built in the western part of the city and opened in 1957. A stadium-record 120,000 fans watched the 1986 European Cup quarterfinal between Barcelona and Juventus.   Coutinho, Philippe Philippe Coutinho of FC Barcelona during a match against Boca Juniors, 2018. Barcelona’s local adversary is RCD Espanyol, but its biggest rival in Spain is Real Madrid. Games between the two teams are referred to as El Clásico (“The Classic”) and attract major interest throughout Spain, in large part because the two sides symbolize for many the ongoing political and cultural difficulties between Catalonian (Barcelona) and Castilian (Real Madrid) Spain. In addition to a long history of signing some of the football world’s biggest names—including Johan Cruyff in the 1970s, Diego Maradona in 1980s, Luis Figo and Rivaldo in the 1990s, and Ronaldinho and Samuel Eto’o in the 2000s—Barcelona also has developed a number of its own stars, such as Xavi and Argentinian forward Lionel Messi (a football prodigy who at age 24 became the club’s all-time leading goal scorer). Many of the club’s players have contributed to the Spanish national team’s greatest successes, including capturing the 2008 and 2012 European Championships and the 2010 World Cup. In the 2010 World Cup final, for example, 7 of Spain’s 11 starters were from Barça.\n"
     ]
    }
   ],
   "source": [
    "corpus = input()"
   ]
  },
  {
   "cell_type": "markdown",
   "metadata": {
    "id": "pxXYED6o4m1a"
   },
   "source": [
    "  - **word_tokenize**"
   ]
  },
  {
   "cell_type": "code",
   "execution_count": null,
   "metadata": {
    "colab": {
     "base_uri": "https://localhost:8080/"
    },
    "executionInfo": {
     "elapsed": 402,
     "status": "ok",
     "timestamp": 1718440141599,
     "user": {
      "displayName": "AYUSHMAAN DAS BTech_AIML",
      "userId": "16690242712608209106"
     },
     "user_tz": -330
    },
    "id": "XuLpGrKk4L3p",
    "outputId": "eed4fe54-9a0a-48a7-fca9-6ce0e3ca0a58"
   },
   "outputs": [
    {
     "name": "stdout",
     "output_type": "stream",
     "text": [
      "['FC', 'Barcelona', ',', 'Spanish', 'professional', 'football', '(', 'soccer', ')', 'club', 'located', 'in', 'Barcelona', '.', 'FC', 'Barcelona', 'is', 'renowned', 'for', 'its', 'historically', 'skillful', 'and', 'attractive', 'brand', 'of', 'attacking', 'football', 'that', 'places', 'an', 'emphasis', 'on', 'flowing', ',', 'open', 'play', '.', 'The', 'team', 'is', 'part', 'of', 'a', 'wider', 'sports', 'and', 'social', 'club', 'with', 'thousands', 'of', 'members', '.', 'FC', 'Barcelona', 'was', 'formed', 'in', '1899', 'by', 'businessman', 'Joan', 'Gamper', ',', 'who', 'advertised', 'for', 'players', 'in', 'a', 'local', 'Barcelona', 'sports', 'magazine', '.', 'The', 'club', '’', 's', 'first', 'trophy', 'was', 'the', 'Copa', 'Macaya', '(', 'Catalan', 'championship', ')', 'in', '1902', ',', 'and', 'in', '1910', '“', 'Barça', '”', 'won', 'the', 'Copa', 'del', 'Rey', '(', '“', 'King', '’', 's', 'Cup', '”', ')', '—Spain', '’', 's', 'leading', 'national', 'football', 'cup', 'competition—for', 'the', 'first', 'time', '.', 'In', 'total', ',', 'Barcelona', 'has', 'won', '30', 'Copas', 'del', 'Rey', ',', 'more', 'than', 'any', 'other', 'team', '.', 'Serena', 'Williams', 'poses', 'with', 'the', 'Daphne', 'Akhurst', 'Trophy', 'after', 'winning', 'the', 'Women', \"'s\", 'Singles', 'final', 'against', 'Venus', 'Williams', 'of', 'the', 'United', 'States', 'on', 'day', '13', 'of', 'the', '2017', 'Australian', 'Open', 'at', 'Melbourne', 'Park', 'on', 'January', '28', ',', '2017', 'in', 'Melbourne', ',', 'Australia', '.', '(', 'tennis', ',', 'sports', ')', 'Britannica', 'Quiz', 'Great', 'Moments', 'in', 'Sports', 'Quiz', 'La', 'Liga', ',', 'the', 'top', 'Spanish', 'football', 'league', ',', 'was', 'formed', 'in', '1929', ',', 'and', 'Barcelona', 'captured', 'the', 'title', 'in', 'the', 'league', '’', 's', 'inaugural', 'season', '.', 'The', 'club', 'has', 'won', 'La', 'Liga', '26', 'times', 'and', 'has', 'never', 'been', 'relegated', 'to', 'a', 'lower', 'division', '.', 'Abroad', ',', 'Barcelona', 'has', 'won', 'the', 'European', 'Cup', 'Winners', '’', 'Cup', 'four', 'times', '(', '1979', ',', '1982', ',', '1989', ',', 'and', '1997', ')', ',', 'the', 'European', 'Cup/Champions', 'League', 'five', 'times', '(', '1992', ',', '2006', ',', '2009', ',', '2011', ',', 'and', '2015', ')', ',', 'and', 'the', 'Union', 'of', 'European', 'Football', 'Associations', '(', 'UEFA', ')', 'Super', 'Cup', 'three', 'times', '(', '1992', ',', '1997', ',', 'and', '2009', ')', '.', 'In', '2008–09', 'it', 'won', 'the', 'La', 'Liga', 'championship', ',', 'the', 'Copa', 'del', 'Rey', ',', 'and', 'the', 'continental', 'championship', '(', 'Champions', 'League', ')', 'to', 'become', 'the', 'first', 'Spanish', 'side', 'to', 'capture', 'this', '“', 'treble', ',', '”', 'a', 'feat', 'it', 'repeated', 'in', '2014–15', '.', 'Barcelona', 'played', 'its', 'home', 'matches', 'from', '1922', 'to', '1957', 'at', 'the', 'Camp', 'de', 'Les', 'Corts', '.', 'After', 'the', 'increasingly', 'popular', 'club', 'outgrew', 'that', 'facility', ',', 'a', 'giant', 'new', 'stadium', ',', 'Camp', 'Nou', ',', 'was', 'built', 'in', 'the', 'western', 'part', 'of', 'the', 'city', 'and', 'opened', 'in', '1957', '.', 'A', 'stadium-record', '120,000', 'fans', 'watched', 'the', '1986', 'European', 'Cup', 'quarterfinal', 'between', 'Barcelona', 'and', 'Juventus', '.', 'Coutinho', ',', 'Philippe', 'Philippe', 'Coutinho', 'of', 'FC', 'Barcelona', 'during', 'a', 'match', 'against', 'Boca', 'Juniors', ',', '2018', '.', 'Barcelona', '’', 's', 'local', 'adversary', 'is', 'RCD', 'Espanyol', ',', 'but', 'its', 'biggest', 'rival', 'in', 'Spain', 'is', 'Real', 'Madrid', '.', 'Games', 'between', 'the', 'two', 'teams', 'are', 'referred', 'to', 'as', 'El', 'Clásico', '(', '“', 'The', 'Classic', '”', ')', 'and', 'attract', 'major', 'interest', 'throughout', 'Spain', ',', 'in', 'large', 'part', 'because', 'the', 'two', 'sides', 'symbolize', 'for', 'many', 'the', 'ongoing', 'political', 'and', 'cultural', 'difficulties', 'between', 'Catalonian', '(', 'Barcelona', ')', 'and', 'Castilian', '(', 'Real', 'Madrid', ')', 'Spain', '.', 'In', 'addition', 'to', 'a', 'long', 'history', 'of', 'signing', 'some', 'of', 'the', 'football', 'world', '’', 's', 'biggest', 'names—including', 'Johan', 'Cruyff', 'in', 'the', '1970s', ',', 'Diego', 'Maradona', 'in', '1980s', ',', 'Luis', 'Figo', 'and', 'Rivaldo', 'in', 'the', '1990s', ',', 'and', 'Ronaldinho', 'and', 'Samuel', 'Eto', '’', 'o', 'in', 'the', '2000s—Barcelona', 'also', 'has', 'developed', 'a', 'number', 'of', 'its', 'own', 'stars', ',', 'such', 'as', 'Xavi', 'and', 'Argentinian', 'forward', 'Lionel', 'Messi', '(', 'a', 'football', 'prodigy', 'who', 'at', 'age', '24', 'became', 'the', 'club', '’', 's', 'all-time', 'leading', 'goal', 'scorer', ')', '.', 'Many', 'of', 'the', 'club', '’', 's', 'players', 'have', 'contributed', 'to', 'the', 'Spanish', 'national', 'team', '’', 's', 'greatest', 'successes', ',', 'including', 'capturing', 'the', '2008', 'and', '2012', 'European', 'Championships', 'and', 'the', '2010', 'World', 'Cup', '.', 'In', 'the', '2010', 'World', 'Cup', 'final', ',', 'for', 'example', ',', '7', 'of', 'Spain', '’', 's', '11', 'starters', 'were', 'from', 'Barça', '.']\n"
     ]
    }
   ],
   "source": [
    "words = word_tokenize(corpus)\n",
    "\n",
    "print(words)"
   ]
  },
  {
   "cell_type": "markdown",
   "metadata": {
    "id": "esTatHrG5pr6"
   },
   "source": [
    "  - **WordPunctTokenizer**"
   ]
  },
  {
   "cell_type": "code",
   "execution_count": null,
   "metadata": {
    "colab": {
     "base_uri": "https://localhost:8080/"
    },
    "executionInfo": {
     "elapsed": 5,
     "status": "ok",
     "timestamp": 1718440142012,
     "user": {
      "displayName": "AYUSHMAAN DAS BTech_AIML",
      "userId": "16690242712608209106"
     },
     "user_tz": -330
    },
    "id": "jTKZABGL5p1S",
    "outputId": "f829328c-b39a-4b41-ca23-40c8f462f26f"
   },
   "outputs": [
    {
     "name": "stdout",
     "output_type": "stream",
     "text": [
      "['FC', 'Barcelona', ',', 'Spanish', 'professional', 'football', '(', 'soccer', ')', 'club', 'located', 'in', 'Barcelona', '.', 'FC', 'Barcelona', 'is', 'renowned', 'for', 'its', 'historically', 'skillful', 'and', 'attractive', 'brand', 'of', 'attacking', 'football', 'that', 'places', 'an', 'emphasis', 'on', 'flowing', ',', 'open', 'play', '.', 'The', 'team', 'is', 'part', 'of', 'a', 'wider', 'sports', 'and', 'social', 'club', 'with', 'thousands', 'of', 'members', '.', 'FC', 'Barcelona', 'was', 'formed', 'in', '1899', 'by', 'businessman', 'Joan', 'Gamper', ',', 'who', 'advertised', 'for', 'players', 'in', 'a', 'local', 'Barcelona', 'sports', 'magazine', '.', 'The', 'club', '’', 's', 'first', 'trophy', 'was', 'the', 'Copa', 'Macaya', '(', 'Catalan', 'championship', ')', 'in', '1902', ',', 'and', 'in', '1910', '“', 'Barça', '”', 'won', 'the', 'Copa', 'del', 'Rey', '(“', 'King', '’', 's', 'Cup', '”)—', 'Spain', '’', 's', 'leading', 'national', 'football', 'cup', 'competition', '—', 'for', 'the', 'first', 'time', '.', 'In', 'total', ',', 'Barcelona', 'has', 'won', '30', 'Copas', 'del', 'Rey', ',', 'more', 'than', 'any', 'other', 'team', '.', 'Serena', 'Williams', 'poses', 'with', 'the', 'Daphne', 'Akhurst', 'Trophy', 'after', 'winning', 'the', 'Women', \"'\", 's', 'Singles', 'final', 'against', 'Venus', 'Williams', 'of', 'the', 'United', 'States', 'on', 'day', '13', 'of', 'the', '2017', 'Australian', 'Open', 'at', 'Melbourne', 'Park', 'on', 'January', '28', ',', '2017', 'in', 'Melbourne', ',', 'Australia', '.', '(', 'tennis', ',', 'sports', ')', 'Britannica', 'Quiz', 'Great', 'Moments', 'in', 'Sports', 'Quiz', 'La', 'Liga', ',', 'the', 'top', 'Spanish', 'football', 'league', ',', 'was', 'formed', 'in', '1929', ',', 'and', 'Barcelona', 'captured', 'the', 'title', 'in', 'the', 'league', '’', 's', 'inaugural', 'season', '.', 'The', 'club', 'has', 'won', 'La', 'Liga', '26', 'times', 'and', 'has', 'never', 'been', 'relegated', 'to', 'a', 'lower', 'division', '.', 'Abroad', ',', 'Barcelona', 'has', 'won', 'the', 'European', 'Cup', 'Winners', '’', 'Cup', 'four', 'times', '(', '1979', ',', '1982', ',', '1989', ',', 'and', '1997', '),', 'the', 'European', 'Cup', '/', 'Champions', 'League', 'five', 'times', '(', '1992', ',', '2006', ',', '2009', ',', '2011', ',', 'and', '2015', '),', 'and', 'the', 'Union', 'of', 'European', 'Football', 'Associations', '(', 'UEFA', ')', 'Super', 'Cup', 'three', 'times', '(', '1992', ',', '1997', ',', 'and', '2009', ').', 'In', '2008', '–', '09', 'it', 'won', 'the', 'La', 'Liga', 'championship', ',', 'the', 'Copa', 'del', 'Rey', ',', 'and', 'the', 'continental', 'championship', '(', 'Champions', 'League', ')', 'to', 'become', 'the', 'first', 'Spanish', 'side', 'to', 'capture', 'this', '“', 'treble', ',”', 'a', 'feat', 'it', 'repeated', 'in', '2014', '–', '15', '.', 'Barcelona', 'played', 'its', 'home', 'matches', 'from', '1922', 'to', '1957', 'at', 'the', 'Camp', 'de', 'Les', 'Corts', '.', 'After', 'the', 'increasingly', 'popular', 'club', 'outgrew', 'that', 'facility', ',', 'a', 'giant', 'new', 'stadium', ',', 'Camp', 'Nou', ',', 'was', 'built', 'in', 'the', 'western', 'part', 'of', 'the', 'city', 'and', 'opened', 'in', '1957', '.', 'A', 'stadium', '-', 'record', '120', ',', '000', 'fans', 'watched', 'the', '1986', 'European', 'Cup', 'quarterfinal', 'between', 'Barcelona', 'and', 'Juventus', '.', 'Coutinho', ',', 'Philippe', 'Philippe', 'Coutinho', 'of', 'FC', 'Barcelona', 'during', 'a', 'match', 'against', 'Boca', 'Juniors', ',', '2018', '.', 'Barcelona', '’', 's', 'local', 'adversary', 'is', 'RCD', 'Espanyol', ',', 'but', 'its', 'biggest', 'rival', 'in', 'Spain', 'is', 'Real', 'Madrid', '.', 'Games', 'between', 'the', 'two', 'teams', 'are', 'referred', 'to', 'as', 'El', 'Clásico', '(“', 'The', 'Classic', '”)', 'and', 'attract', 'major', 'interest', 'throughout', 'Spain', ',', 'in', 'large', 'part', 'because', 'the', 'two', 'sides', 'symbolize', 'for', 'many', 'the', 'ongoing', 'political', 'and', 'cultural', 'difficulties', 'between', 'Catalonian', '(', 'Barcelona', ')', 'and', 'Castilian', '(', 'Real', 'Madrid', ')', 'Spain', '.', 'In', 'addition', 'to', 'a', 'long', 'history', 'of', 'signing', 'some', 'of', 'the', 'football', 'world', '’', 's', 'biggest', 'names', '—', 'including', 'Johan', 'Cruyff', 'in', 'the', '1970s', ',', 'Diego', 'Maradona', 'in', '1980s', ',', 'Luis', 'Figo', 'and', 'Rivaldo', 'in', 'the', '1990s', ',', 'and', 'Ronaldinho', 'and', 'Samuel', 'Eto', '’', 'o', 'in', 'the', '2000s', '—', 'Barcelona', 'also', 'has', 'developed', 'a', 'number', 'of', 'its', 'own', 'stars', ',', 'such', 'as', 'Xavi', 'and', 'Argentinian', 'forward', 'Lionel', 'Messi', '(', 'a', 'football', 'prodigy', 'who', 'at', 'age', '24', 'became', 'the', 'club', '’', 's', 'all', '-', 'time', 'leading', 'goal', 'scorer', ').', 'Many', 'of', 'the', 'club', '’', 's', 'players', 'have', 'contributed', 'to', 'the', 'Spanish', 'national', 'team', '’', 's', 'greatest', 'successes', ',', 'including', 'capturing', 'the', '2008', 'and', '2012', 'European', 'Championships', 'and', 'the', '2010', 'World', 'Cup', '.', 'In', 'the', '2010', 'World', 'Cup', 'final', ',', 'for', 'example', ',', '7', 'of', 'Spain', '’', 's', '11', 'starters', 'were', 'from', 'Barça', '.']\n"
     ]
    }
   ],
   "source": [
    "words2 = WordPunctTokenizer().tokenize(corpus)\n",
    "\n",
    "print(words2)"
   ]
  },
  {
   "cell_type": "markdown",
   "metadata": {
    "id": "E63r33iK5p6r"
   },
   "source": [
    "- **TreebankWordTokenizer**"
   ]
  },
  {
   "cell_type": "code",
   "execution_count": null,
   "metadata": {
    "colab": {
     "base_uri": "https://localhost:8080/"
    },
    "executionInfo": {
     "elapsed": 3,
     "status": "ok",
     "timestamp": 1718440143599,
     "user": {
      "displayName": "AYUSHMAAN DAS BTech_AIML",
      "userId": "16690242712608209106"
     },
     "user_tz": -330
    },
    "id": "Ch9-X2q05p_z",
    "outputId": "6437ef36-0d04-4b09-d731-1d8099dc90a1"
   },
   "outputs": [
    {
     "name": "stdout",
     "output_type": "stream",
     "text": [
      "['FC', 'Barcelona', ',', 'Spanish', 'professional', 'football', '(', 'soccer', ')', 'club', 'located', 'in', 'Barcelona.', 'FC', 'Barcelona', 'is', 'renowned', 'for', 'its', 'historically', 'skillful', 'and', 'attractive', 'brand', 'of', 'attacking', 'football', 'that', 'places', 'an', 'emphasis', 'on', 'flowing', ',', 'open', 'play.', 'The', 'team', 'is', 'part', 'of', 'a', 'wider', 'sports', 'and', 'social', 'club', 'with', 'thousands', 'of', 'members.', 'FC', 'Barcelona', 'was', 'formed', 'in', '1899', 'by', 'businessman', 'Joan', 'Gamper', ',', 'who', 'advertised', 'for', 'players', 'in', 'a', 'local', 'Barcelona', 'sports', 'magazine.', 'The', 'club’s', 'first', 'trophy', 'was', 'the', 'Copa', 'Macaya', '(', 'Catalan', 'championship', ')', 'in', '1902', ',', 'and', 'in', '1910', '“Barça”', 'won', 'the', 'Copa', 'del', 'Rey', '(', '“King’s', 'Cup”', ')', '—Spain’s', 'leading', 'national', 'football', 'cup', 'competition—for', 'the', 'first', 'time.', 'In', 'total', ',', 'Barcelona', 'has', 'won', '30', 'Copas', 'del', 'Rey', ',', 'more', 'than', 'any', 'other', 'team.', 'Serena', 'Williams', 'poses', 'with', 'the', 'Daphne', 'Akhurst', 'Trophy', 'after', 'winning', 'the', 'Women', \"'s\", 'Singles', 'final', 'against', 'Venus', 'Williams', 'of', 'the', 'United', 'States', 'on', 'day', '13', 'of', 'the', '2017', 'Australian', 'Open', 'at', 'Melbourne', 'Park', 'on', 'January', '28', ',', '2017', 'in', 'Melbourne', ',', 'Australia.', '(', 'tennis', ',', 'sports', ')', 'Britannica', 'Quiz', 'Great', 'Moments', 'in', 'Sports', 'Quiz', 'La', 'Liga', ',', 'the', 'top', 'Spanish', 'football', 'league', ',', 'was', 'formed', 'in', '1929', ',', 'and', 'Barcelona', 'captured', 'the', 'title', 'in', 'the', 'league’s', 'inaugural', 'season.', 'The', 'club', 'has', 'won', 'La', 'Liga', '26', 'times', 'and', 'has', 'never', 'been', 'relegated', 'to', 'a', 'lower', 'division.', 'Abroad', ',', 'Barcelona', 'has', 'won', 'the', 'European', 'Cup', 'Winners’', 'Cup', 'four', 'times', '(', '1979', ',', '1982', ',', '1989', ',', 'and', '1997', ')', ',', 'the', 'European', 'Cup/Champions', 'League', 'five', 'times', '(', '1992', ',', '2006', ',', '2009', ',', '2011', ',', 'and', '2015', ')', ',', 'and', 'the', 'Union', 'of', 'European', 'Football', 'Associations', '(', 'UEFA', ')', 'Super', 'Cup', 'three', 'times', '(', '1992', ',', '1997', ',', 'and', '2009', ')', '.', 'In', '2008–09', 'it', 'won', 'the', 'La', 'Liga', 'championship', ',', 'the', 'Copa', 'del', 'Rey', ',', 'and', 'the', 'continental', 'championship', '(', 'Champions', 'League', ')', 'to', 'become', 'the', 'first', 'Spanish', 'side', 'to', 'capture', 'this', '“treble', ',', '”', 'a', 'feat', 'it', 'repeated', 'in', '2014–15.', 'Barcelona', 'played', 'its', 'home', 'matches', 'from', '1922', 'to', '1957', 'at', 'the', 'Camp', 'de', 'Les', 'Corts.', 'After', 'the', 'increasingly', 'popular', 'club', 'outgrew', 'that', 'facility', ',', 'a', 'giant', 'new', 'stadium', ',', 'Camp', 'Nou', ',', 'was', 'built', 'in', 'the', 'western', 'part', 'of', 'the', 'city', 'and', 'opened', 'in', '1957.', 'A', 'stadium-record', '120,000', 'fans', 'watched', 'the', '1986', 'European', 'Cup', 'quarterfinal', 'between', 'Barcelona', 'and', 'Juventus.', 'Coutinho', ',', 'Philippe', 'Philippe', 'Coutinho', 'of', 'FC', 'Barcelona', 'during', 'a', 'match', 'against', 'Boca', 'Juniors', ',', '2018.', 'Barcelona’s', 'local', 'adversary', 'is', 'RCD', 'Espanyol', ',', 'but', 'its', 'biggest', 'rival', 'in', 'Spain', 'is', 'Real', 'Madrid.', 'Games', 'between', 'the', 'two', 'teams', 'are', 'referred', 'to', 'as', 'El', 'Clásico', '(', '“The', 'Classic”', ')', 'and', 'attract', 'major', 'interest', 'throughout', 'Spain', ',', 'in', 'large', 'part', 'because', 'the', 'two', 'sides', 'symbolize', 'for', 'many', 'the', 'ongoing', 'political', 'and', 'cultural', 'difficulties', 'between', 'Catalonian', '(', 'Barcelona', ')', 'and', 'Castilian', '(', 'Real', 'Madrid', ')', 'Spain.', 'In', 'addition', 'to', 'a', 'long', 'history', 'of', 'signing', 'some', 'of', 'the', 'football', 'world’s', 'biggest', 'names—including', 'Johan', 'Cruyff', 'in', 'the', '1970s', ',', 'Diego', 'Maradona', 'in', '1980s', ',', 'Luis', 'Figo', 'and', 'Rivaldo', 'in', 'the', '1990s', ',', 'and', 'Ronaldinho', 'and', 'Samuel', 'Eto’o', 'in', 'the', '2000s—Barcelona', 'also', 'has', 'developed', 'a', 'number', 'of', 'its', 'own', 'stars', ',', 'such', 'as', 'Xavi', 'and', 'Argentinian', 'forward', 'Lionel', 'Messi', '(', 'a', 'football', 'prodigy', 'who', 'at', 'age', '24', 'became', 'the', 'club’s', 'all-time', 'leading', 'goal', 'scorer', ')', '.', 'Many', 'of', 'the', 'club’s', 'players', 'have', 'contributed', 'to', 'the', 'Spanish', 'national', 'team’s', 'greatest', 'successes', ',', 'including', 'capturing', 'the', '2008', 'and', '2012', 'European', 'Championships', 'and', 'the', '2010', 'World', 'Cup.', 'In', 'the', '2010', 'World', 'Cup', 'final', ',', 'for', 'example', ',', '7', 'of', 'Spain’s', '11', 'starters', 'were', 'from', 'Barça', '.']\n"
     ]
    }
   ],
   "source": [
    "words3 = TreebankWordTokenizer().tokenize(corpus)\n",
    "\n",
    "print(words3)"
   ]
  },
  {
   "cell_type": "markdown",
   "metadata": {
    "id": "QT1XwNoC4pVh"
   },
   "source": [
    "### Sentence Tokenization"
   ]
  },
  {
   "cell_type": "code",
   "execution_count": null,
   "metadata": {
    "colab": {
     "base_uri": "https://localhost:8080/"
    },
    "executionInfo": {
     "elapsed": 2,
     "status": "ok",
     "timestamp": 1718440144019,
     "user": {
      "displayName": "AYUSHMAAN DAS BTech_AIML",
      "userId": "16690242712608209106"
     },
     "user_tz": -330
    },
    "id": "-iJJt_Qx4bGD",
    "outputId": "f6f4f11e-a200-4b3b-9571-d4cc43e7256a"
   },
   "outputs": [
    {
     "data": {
      "text/plain": [
       "['FC Barcelona, Spanish professional football (soccer) club located in Barcelona.',\n",
       " 'FC Barcelona is renowned for its historically skillful and attractive brand of attacking football that places an emphasis on flowing, open play.',\n",
       " 'The team is part of a wider sports and social club with thousands of members.',\n",
       " 'FC Barcelona was formed in 1899 by businessman Joan Gamper, who advertised for players in a local Barcelona sports magazine.',\n",
       " 'The club’s first trophy was the Copa Macaya (Catalan championship) in 1902, and in 1910 “Barça” won the Copa del Rey (“King’s Cup”)—Spain’s leading national football cup competition—for the first time.',\n",
       " 'In total, Barcelona has won 30 Copas del Rey, more than any other team.',\n",
       " \"Serena Williams poses with the Daphne Akhurst Trophy after winning the Women's Singles final against Venus Williams of the United States on day 13 of the 2017 Australian Open at Melbourne Park on January 28, 2017 in Melbourne, Australia.\",\n",
       " '(tennis, sports) Britannica Quiz Great Moments in Sports Quiz La Liga, the top Spanish football league, was formed in 1929, and Barcelona captured the title in the league’s inaugural season.',\n",
       " 'The club has won La Liga 26 times and has never been relegated to a lower division.',\n",
       " 'Abroad, Barcelona has won the European Cup Winners’ Cup four times (1979, 1982, 1989, and 1997), the European Cup/Champions League five times (1992, 2006, 2009, 2011, and 2015), and the Union of European Football Associations (UEFA) Super Cup three times (1992, 1997, and 2009).',\n",
       " 'In 2008–09 it won the La Liga championship, the Copa del Rey, and the continental championship (Champions League) to become the first Spanish side to capture this “treble,” a feat it repeated in 2014–15.',\n",
       " 'Barcelona played its home matches from 1922 to 1957 at the Camp de Les Corts.',\n",
       " 'After the increasingly popular club outgrew that facility, a giant new stadium, Camp Nou, was built in the western part of the city and opened in 1957.',\n",
       " 'A stadium-record 120,000 fans watched the 1986 European Cup quarterfinal between Barcelona and Juventus.',\n",
       " 'Coutinho, Philippe Philippe Coutinho of FC Barcelona during a match against Boca Juniors, 2018.',\n",
       " 'Barcelona’s local adversary is RCD Espanyol, but its biggest rival in Spain is Real Madrid.',\n",
       " 'Games between the two teams are referred to as El Clásico (“The Classic”) and attract major interest throughout Spain, in large part because the two sides symbolize for many the ongoing political and cultural difficulties between Catalonian (Barcelona) and Castilian (Real Madrid) Spain.',\n",
       " 'In addition to a long history of signing some of the football world’s biggest names—including Johan Cruyff in the 1970s, Diego Maradona in 1980s, Luis Figo and Rivaldo in the 1990s, and Ronaldinho and Samuel Eto’o in the 2000s—Barcelona also has developed a number of its own stars, such as Xavi and Argentinian forward Lionel Messi (a football prodigy who at age 24 became the club’s all-time leading goal scorer).',\n",
       " 'Many of the club’s players have contributed to the Spanish national team’s greatest successes, including capturing the 2008 and 2012 European Championships and the 2010 World Cup.',\n",
       " 'In the 2010 World Cup final, for example, 7 of Spain’s 11 starters were from Barça.']"
      ]
     },
     "execution_count": 11,
     "metadata": {},
     "output_type": "execute_result"
    }
   ],
   "source": [
    "sents = sent_tokenize(corpus)\n",
    "\n",
    "sents"
   ]
  },
  {
   "cell_type": "markdown",
   "metadata": {
    "id": "V18QJTZb6qyj"
   },
   "source": [
    "### Removal of Stopwords"
   ]
  },
  {
   "cell_type": "code",
   "execution_count": null,
   "metadata": {
    "colab": {
     "base_uri": "https://localhost:8080/"
    },
    "executionInfo": {
     "elapsed": 393,
     "status": "ok",
     "timestamp": 1718440148207,
     "user": {
      "displayName": "AYUSHMAAN DAS BTech_AIML",
      "userId": "16690242712608209106"
     },
     "user_tz": -330
    },
    "id": "SO37UY1P7HYC",
    "outputId": "934e16f5-1e18-4044-bedf-4f55aafc2d33"
   },
   "outputs": [
    {
     "name": "stdout",
     "output_type": "stream",
     "text": [
      "['FC', 'Barcelona', 'Spanish', 'professional', 'football', 'soccer', 'club', 'located', 'in', 'Barcelona', 'FC', 'Barcelona', 'is', 'renowned', 'for', 'its', 'historically', 'skillful', 'and', 'attractive', 'brand', 'of', 'attacking', 'football', 'that', 'places', 'an', 'emphasis', 'on', 'flowing', 'open', 'play', 'The', 'team', 'is', 'part', 'of', 'a', 'wider', 'sports', 'and', 'social', 'club', 'with', 'thousands', 'of', 'members', 'FC', 'Barcelona', 'was', 'formed', 'in', '1899', 'by', 'businessman', 'Joan', 'Gamper', 'who', 'advertised', 'for', 'players', 'in', 'a', 'local', 'Barcelona', 'sports', 'magazine', 'The', 'club', 's', 'first', 'trophy', 'was', 'the', 'Copa', 'Macaya', 'Catalan', 'championship', 'in', '1902', 'and', 'in', '1910', 'Barça', 'won', 'the', 'Copa', 'del', 'Rey', 'King', 's', 'Cup', 's', 'leading', 'national', 'football', 'cup', 'the', 'first', 'time', 'In', 'total', 'Barcelona', 'has', 'won', '30', 'Copas', 'del', 'Rey', 'more', 'than', 'any', 'other', 'team', 'Serena', 'Williams', 'poses', 'with', 'the', 'Daphne', 'Akhurst', 'Trophy', 'after', 'winning', 'the', 'Women', 'Singles', 'final', 'against', 'Venus', 'Williams', 'of', 'the', 'United', 'States', 'on', 'day', '13', 'of', 'the', '2017', 'Australian', 'Open', 'at', 'Melbourne', 'Park', 'on', 'January', '28', '2017', 'in', 'Melbourne', 'Australia', 'tennis', 'sports', 'Britannica', 'Quiz', 'Great', 'Moments', 'in', 'Sports', 'Quiz', 'La', 'Liga', 'the', 'top', 'Spanish', 'football', 'league', 'was', 'formed', 'in', '1929', 'and', 'Barcelona', 'captured', 'the', 'title', 'in', 'the', 'league', 's', 'inaugural', 'season', 'The', 'club', 'has', 'won', 'La', 'Liga', '26', 'times', 'and', 'has', 'never', 'been', 'relegated', 'to', 'a', 'lower', 'division', 'Abroad', 'Barcelona', 'has', 'won', 'the', 'European', 'Cup', 'Winners', 'Cup', 'four', 'times', '1979', '1982', '1989', 'and', '1997', 'the', 'European', 'League', 'five', 'times', '1992', '2006', '2009', '2011', 'and', '2015', 'and', 'the', 'Union', 'of', 'European', 'Football', 'Associations', 'UEFA', 'Super', 'Cup', 'three', 'times', '1992', '1997', 'and', '2009', 'In', 'it', 'won', 'the', 'La', 'Liga', 'championship', 'the', 'Copa', 'del', 'Rey', 'and', 'the', 'continental', 'championship', 'Champions', 'League', 'to', 'become', 'the', 'first', 'Spanish', 'side', 'to', 'capture', 'this', 'treble', 'a', 'feat', 'it', 'repeated', 'in', 'Barcelona', 'played', 'its', 'home', 'matches', 'from', '1922', 'to', '1957', 'at', 'the', 'Camp', 'de', 'Les', 'Corts', 'After', 'the', 'increasingly', 'popular', 'club', 'outgrew', 'that', 'facility', 'a', 'giant', 'new', 'stadium', 'Camp', 'Nou', 'was', 'built', 'in', 'the', 'western', 'part', 'of', 'the', 'city', 'and', 'opened', 'in', '1957', 'A', 'fans', 'watched', 'the', '1986', 'European', 'Cup', 'quarterfinal', 'between', 'Barcelona', 'and', 'Juventus', 'Coutinho', 'Philippe', 'Philippe', 'Coutinho', 'of', 'FC', 'Barcelona', 'during', 'a', 'match', 'against', 'Boca', 'Juniors', '2018', 'Barcelona', 's', 'local', 'adversary', 'is', 'RCD', 'Espanyol', 'but', 'its', 'biggest', 'rival', 'in', 'Spain', 'is', 'Real', 'Madrid', 'Games', 'between', 'the', 'two', 'teams', 'are', 'referred', 'to', 'as', 'El', 'Clásico', 'The', 'Classic', 'and', 'attract', 'major', 'interest', 'throughout', 'Spain', 'in', 'large', 'part', 'because', 'the', 'two', 'sides', 'symbolize', 'for', 'many', 'the', 'ongoing', 'political', 'and', 'cultural', 'difficulties', 'between', 'Catalonian', 'Barcelona', 'and', 'Castilian', 'Real', 'Madrid', 'Spain', 'In', 'addition', 'to', 'a', 'long', 'history', 'of', 'signing', 'some', 'of', 'the', 'football', 'world', 's', 'biggest', 'Johan', 'Cruyff', 'in', 'the', '1970s', 'Diego', 'Maradona', 'in', '1980s', 'Luis', 'Figo', 'and', 'Rivaldo', 'in', 'the', '1990s', 'and', 'Ronaldinho', 'and', 'Samuel', 'Eto', 'o', 'in', 'the', 'also', 'has', 'developed', 'a', 'number', 'of', 'its', 'own', 'stars', 'such', 'as', 'Xavi', 'and', 'Argentinian', 'forward', 'Lionel', 'Messi', 'a', 'football', 'prodigy', 'who', 'at', 'age', '24', 'became', 'the', 'club', 's', 'leading', 'goal', 'scorer', 'Many', 'of', 'the', 'club', 's', 'players', 'have', 'contributed', 'to', 'the', 'Spanish', 'national', 'team', 's', 'greatest', 'successes', 'including', 'capturing', 'the', '2008', 'and', '2012', 'European', 'Championships', 'and', 'the', '2010', 'World', 'Cup', 'In', 'the', '2010', 'World', 'Cup', 'final', 'for', 'example', '7', 'of', 'Spain', 's', '11', 'starters', 'were', 'from', 'Barça']\n",
      "519\n"
     ]
    }
   ],
   "source": [
    "words = [word for word in words if word.isalnum()]\n",
    "\n",
    "print(words)\n",
    "print(len(words))"
   ]
  },
  {
   "cell_type": "code",
   "execution_count": null,
   "metadata": {
    "colab": {
     "base_uri": "https://localhost:8080/"
    },
    "executionInfo": {
     "elapsed": 414,
     "status": "ok",
     "timestamp": 1718440155891,
     "user": {
      "displayName": "AYUSHMAAN DAS BTech_AIML",
      "userId": "16690242712608209106"
     },
     "user_tz": -330
    },
    "id": "MGoaP8tv7ng8",
    "outputId": "bcefee96-8e6e-4fac-b6bb-222cd9a554ca"
   },
   "outputs": [
    {
     "name": "stdout",
     "output_type": "stream",
     "text": [
      "['i', 'me', 'my', 'myself', 'we', 'our', 'ours', 'ourselves', 'you', \"you're\", \"you've\", \"you'll\", \"you'd\", 'your', 'yours', 'yourself', 'yourselves', 'he', 'him', 'his', 'himself', 'she', \"she's\", 'her', 'hers', 'herself', 'it', \"it's\", 'its', 'itself', 'they', 'them', 'their', 'theirs', 'themselves', 'what', 'which', 'who', 'whom', 'this', 'that', \"that'll\", 'these', 'those', 'am', 'is', 'are', 'was', 'were', 'be', 'been', 'being', 'have', 'has', 'had', 'having', 'do', 'does', 'did', 'doing', 'a', 'an', 'the', 'and', 'but', 'if', 'or', 'because', 'as', 'until', 'while', 'of', 'at', 'by', 'for', 'with', 'about', 'against', 'between', 'into', 'through', 'during', 'before', 'after', 'above', 'below', 'to', 'from', 'up', 'down', 'in', 'out', 'on', 'off', 'over', 'under', 'again', 'further', 'then', 'once', 'here', 'there', 'when', 'where', 'why', 'how', 'all', 'any', 'both', 'each', 'few', 'more', 'most', 'other', 'some', 'such', 'no', 'nor', 'not', 'only', 'own', 'same', 'so', 'than', 'too', 'very', 's', 't', 'can', 'will', 'just', 'don', \"don't\", 'should', \"should've\", 'now', 'd', 'll', 'm', 'o', 're', 've', 'y', 'ain', 'aren', \"aren't\", 'couldn', \"couldn't\", 'didn', \"didn't\", 'doesn', \"doesn't\", 'hadn', \"hadn't\", 'hasn', \"hasn't\", 'haven', \"haven't\", 'isn', \"isn't\", 'ma', 'mightn', \"mightn't\", 'mustn', \"mustn't\", 'needn', \"needn't\", 'shan', \"shan't\", 'shouldn', \"shouldn't\", 'wasn', \"wasn't\", 'weren', \"weren't\", 'won', \"won't\", 'wouldn', \"wouldn't\"]\n"
     ]
    }
   ],
   "source": [
    "eng_stopwords = stopwords.words('english')\n",
    "print(eng_stopwords)"
   ]
  },
  {
   "cell_type": "code",
   "execution_count": null,
   "metadata": {
    "colab": {
     "base_uri": "https://localhost:8080/"
    },
    "executionInfo": {
     "elapsed": 2,
     "status": "ok",
     "timestamp": 1718440156312,
     "user": {
      "displayName": "AYUSHMAAN DAS BTech_AIML",
      "userId": "16690242712608209106"
     },
     "user_tz": -330
    },
    "id": "GSc2s9I-7umR",
    "outputId": "0e2c3680-50d0-4b65-98b3-1ef8bd9203c1"
   },
   "outputs": [
    {
     "name": "stdout",
     "output_type": "stream",
     "text": [
      "['FC', 'Barcelona', 'Spanish', 'professional', 'football', 'soccer', 'club', 'located', 'Barcelona', 'FC', 'Barcelona', 'renowned', 'historically', 'skillful', 'attractive', 'brand', 'attacking', 'football', 'places', 'emphasis', 'flowing', 'open', 'play', 'The', 'team', 'part', 'wider', 'sports', 'social', 'club', 'thousands', 'members', 'FC', 'Barcelona', 'formed', '1899', 'businessman', 'Joan', 'Gamper', 'advertised', 'players', 'local', 'Barcelona', 'sports', 'magazine', 'The', 'club', 'first', 'trophy', 'Copa', 'Macaya', 'Catalan', 'championship', '1902', '1910', 'Barça', 'Copa', 'del', 'Rey', 'King', 'Cup', 'leading', 'national', 'football', 'cup', 'first', 'time', 'In', 'total', 'Barcelona', '30', 'Copas', 'del', 'Rey', 'team', 'Serena', 'Williams', 'poses', 'Daphne', 'Akhurst', 'Trophy', 'winning', 'Women', 'Singles', 'final', 'Venus', 'Williams', 'United', 'States', 'day', '13', '2017', 'Australian', 'Open', 'Melbourne', 'Park', 'January', '28', '2017', 'Melbourne', 'Australia', 'tennis', 'sports', 'Britannica', 'Quiz', 'Great', 'Moments', 'Sports', 'Quiz', 'La', 'Liga', 'top', 'Spanish', 'football', 'league', 'formed', '1929', 'Barcelona', 'captured', 'title', 'league', 'inaugural', 'season', 'The', 'club', 'La', 'Liga', '26', 'times', 'never', 'relegated', 'lower', 'division', 'Abroad', 'Barcelona', 'European', 'Cup', 'Winners', 'Cup', 'four', 'times', '1979', '1982', '1989', '1997', 'European', 'League', 'five', 'times', '1992', '2006', '2009', '2011', '2015', 'Union', 'European', 'Football', 'Associations', 'UEFA', 'Super', 'Cup', 'three', 'times', '1992', '1997', '2009', 'In', 'La', 'Liga', 'championship', 'Copa', 'del', 'Rey', 'continental', 'championship', 'Champions', 'League', 'become', 'first', 'Spanish', 'side', 'capture', 'treble', 'feat', 'repeated', 'Barcelona', 'played', 'home', 'matches', '1922', '1957', 'Camp', 'de', 'Les', 'Corts', 'After', 'increasingly', 'popular', 'club', 'outgrew', 'facility', 'giant', 'new', 'stadium', 'Camp', 'Nou', 'built', 'western', 'part', 'city', 'opened', '1957', 'A', 'fans', 'watched', '1986', 'European', 'Cup', 'quarterfinal', 'Barcelona', 'Juventus', 'Coutinho', 'Philippe', 'Philippe', 'Coutinho', 'FC', 'Barcelona', 'match', 'Boca', 'Juniors', '2018', 'Barcelona', 'local', 'adversary', 'RCD', 'Espanyol', 'biggest', 'rival', 'Spain', 'Real', 'Madrid', 'Games', 'two', 'teams', 'referred', 'El', 'Clásico', 'The', 'Classic', 'attract', 'major', 'interest', 'throughout', 'Spain', 'large', 'part', 'two', 'sides', 'symbolize', 'many', 'ongoing', 'political', 'cultural', 'difficulties', 'Catalonian', 'Barcelona', 'Castilian', 'Real', 'Madrid', 'Spain', 'In', 'addition', 'long', 'history', 'signing', 'football', 'world', 'biggest', 'Johan', 'Cruyff', '1970s', 'Diego', 'Maradona', '1980s', 'Luis', 'Figo', 'Rivaldo', '1990s', 'Ronaldinho', 'Samuel', 'Eto', 'also', 'developed', 'number', 'stars', 'Xavi', 'Argentinian', 'forward', 'Lionel', 'Messi', 'football', 'prodigy', 'age', '24', 'became', 'club', 'leading', 'goal', 'scorer', 'Many', 'club', 'players', 'contributed', 'Spanish', 'national', 'team', 'greatest', 'successes', 'including', 'capturing', '2008', '2012', 'European', 'Championships', '2010', 'World', 'Cup', 'In', '2010', 'World', 'Cup', 'final', 'example', '7', 'Spain', '11', 'starters', 'Barça']\n",
      "338\n"
     ]
    }
   ],
   "source": [
    "cleaned_words = [word for word in words if word not in eng_stopwords]\n",
    "\n",
    "print(cleaned_words)\n",
    "print(len(cleaned_words))"
   ]
  },
  {
   "cell_type": "markdown",
   "metadata": {
    "id": "hfimWFnk8zfs"
   },
   "source": [
    "### Indian Languages in NLTK"
   ]
  },
  {
   "cell_type": "code",
   "execution_count": 3,
   "metadata": {
    "executionInfo": {
     "elapsed": 1849,
     "status": "ok",
     "timestamp": 1718475994250,
     "user": {
      "displayName": "AYUSHMAAN DAS BTech_AIML",
      "userId": "16690242712608209106"
     },
     "user_tz": -330
    },
    "id": "2kj4kBgnDbAG"
   },
   "outputs": [],
   "source": [
    "from indicnlp.tokenize import sentence_tokenize"
   ]
  },
  {
   "cell_type": "markdown",
   "metadata": {
    "id": "yW6ffNvCKsbF"
   },
   "source": [
    "- **HINDI**"
   ]
  },
  {
   "cell_type": "code",
   "execution_count": null,
   "metadata": {
    "colab": {
     "base_uri": "https://localhost:8080/"
    },
    "executionInfo": {
     "elapsed": 404,
     "status": "ok",
     "timestamp": 1718443222757,
     "user": {
      "displayName": "AYUSHMAAN DAS BTech_AIML",
      "userId": "16690242712608209106"
     },
     "user_tz": -330
    },
    "id": "IBzwfOu5ENnW",
    "outputId": "bba5e9a3-50b9-4494-dd1a-5c4981e6b562"
   },
   "outputs": [
    {
     "data": {
      "text/plain": [
       "['तो क्या विश्व कप 2019 में मैच का बॉस टॉस है | यानी मैच में हार-जीत में टॉस की भूमिका अहम है?',\n",
       " 'आप ऐसा सोच सकते हैं ।']"
      ]
     },
     "execution_count": 64,
     "metadata": {},
     "output_type": "execute_result"
    }
   ],
   "source": [
    "hindi =\"तो क्या विश्व कप 2019 में मैच का बॉस टॉस है | यानी मैच में हार-जीत में टॉस की भूमिका अहम है? आप ऐसा सोच सकते हैं । \"\n",
    "\n",
    "hindi_stopwords = ['के', 'का', 'की', 'को', 'में', 'है', 'और', 'से', 'हो', 'पर']\n",
    "\n",
    "hindi_sents =sentence_tokenize.sentence_split(hindi, lang='hi')\n",
    "hindi_sents"
   ]
  },
  {
   "cell_type": "code",
   "execution_count": null,
   "metadata": {
    "colab": {
     "base_uri": "https://localhost:8080/"
    },
    "executionInfo": {
     "elapsed": 3,
     "status": "ok",
     "timestamp": 1718443224432,
     "user": {
      "displayName": "AYUSHMAAN DAS BTech_AIML",
      "userId": "16690242712608209106"
     },
     "user_tz": -330
    },
    "id": "y3_N4wKMKv1w",
    "outputId": "4804c52c-b5b6-43c3-91d0-c8e9ef488969"
   },
   "outputs": [
    {
     "name": "stdout",
     "output_type": "stream",
     "text": [
      "['तो', 'क्या', 'विश्व', 'कप', '2019', 'मैच', 'बॉस', 'टॉस', '|', 'यानी', 'मैच', 'हार-जीत', 'टॉस', 'भूमिका', 'अहम', 'है?']\n",
      "['आप', 'ऐसा', 'सोच', 'सकते', 'हैं', '।']\n"
     ]
    }
   ],
   "source": [
    "removed_stp = []\n",
    "for sent in hindi_sents:\n",
    "  pure = []\n",
    "  for word in sent.split(\" \"):\n",
    "    if word not in hindi_stopwords:\n",
    "      pure.append(word)\n",
    "  print(pure)"
   ]
  },
  {
   "cell_type": "markdown",
   "metadata": {
    "id": "Mvq26lqyJzTD"
   },
   "source": [
    "- **BENGALI**"
   ]
  },
  {
   "cell_type": "code",
   "execution_count": 4,
   "metadata": {
    "colab": {
     "base_uri": "https://localhost:8080/",
     "height": 0
    },
    "executionInfo": {
     "elapsed": 8,
     "status": "ok",
     "timestamp": 1718475994250,
     "user": {
      "displayName": "AYUSHMAAN DAS BTech_AIML",
      "userId": "16690242712608209106"
     },
     "user_tz": -330
    },
    "id": "dvlY6PkcK_vo",
    "outputId": "60cc56fe-ffc8-41b1-bbad-4e78b9986e6e"
   },
   "outputs": [
    {
     "name": "stdout",
     "output_type": "stream",
     "text": [
      "বিশ্বকাপ ২০১৯-এ ম্যাচের বস টস? ম্যাচের হার-জিতে টসের ভূমিকা গুরুত্বপূর্ণ? আপনি তাই ভাবতে পারেন।\n"
     ]
    }
   ],
   "source": [
    "bengali = \"তাহলে কি বিশ্বকাপ ২০১৯-এ ম্যাচের বস টস? অর্থাৎ ম্যাচের হার-জিতে টসের ভূমিকা গুরুত্বপূর্ণ? আপনি তাই ভাবতে পারেন।\"\n",
    "bengali_stopwords = ['এর', 'এ', 'কি', 'তে', 'তাহলে', 'অর্থাৎ', 'এবং', 'কিন্তু', 'যদি', 'হয়', 'যায়']\n",
    "\n",
    "def remove_stopwords(text, stopwords):\n",
    "    words = text.split()\n",
    "    filtered_words = [word for word in words if word not in stopwords]\n",
    "    return ' '.join(filtered_words)\n",
    "\n",
    "cleaned_bengali = remove_stopwords(bengali, bengali_stopwords)\n",
    "print(cleaned_bengali)"
   ]
  },
  {
   "cell_type": "markdown",
   "metadata": {
    "id": "NgAEdEtlJ3KN"
   },
   "source": [
    "- **TAMIL**"
   ]
  },
  {
   "cell_type": "code",
   "execution_count": 5,
   "metadata": {
    "colab": {
     "base_uri": "https://localhost:8080/",
     "height": 0
    },
    "executionInfo": {
     "elapsed": 620,
     "status": "ok",
     "timestamp": 1718476005819,
     "user": {
      "displayName": "AYUSHMAAN DAS BTech_AIML",
      "userId": "16690242712608209106"
     },
     "user_tz": -330
    },
    "id": "NLYpT0aIJph4",
    "outputId": "4541c3a9-6e9c-4f52-b7eb-9ef6f75d911f"
   },
   "outputs": [
    {
     "name": "stdout",
     "output_type": "stream",
     "text": [
      "2019 உலகக் கோப்பையில் டாஸ் முக்கியமானது என்றால், வெற்றியில் டாஸ் முக்கிய வகிக்கிறதா? நீங்கள் அவ்வாறு நினைக்கலாம்.\n"
     ]
    }
   ],
   "source": [
    "tamil = \"2019 உலகக் கோப்பையில் டாஸ் முக்கியமானது என்றால், வெற்றியில் டாஸ் முக்கிய பங்கு வகிக்கிறதா? நீங்கள் அவ்வாறு நினைக்கலாம்.\"\n",
    "tamil_stopwords = ['இல்', 'ஆக', 'என்றால்', 'உலக', 'பங்கு', 'வகிக்கிறதா', 'இது', 'அது', 'இங்கே', 'அங்கே']\n",
    "\n",
    "def remove_stopwords(text, stopwords):\n",
    "    words = text.split()\n",
    "    filtered_words = [word for word in words if word not in stopwords]\n",
    "    return ' '.join(filtered_words)\n",
    "\n",
    "cleaned_tamil = remove_stopwords(tamil, tamil_stopwords)\n",
    "print(cleaned_tamil)"
   ]
  },
  {
   "cell_type": "markdown",
   "metadata": {
    "id": "75IUt11ZJ4wx"
   },
   "source": [
    "- **SANSKRIT**"
   ]
  },
  {
   "cell_type": "code",
   "execution_count": 6,
   "metadata": {
    "colab": {
     "base_uri": "https://localhost:8080/",
     "height": 0
    },
    "executionInfo": {
     "elapsed": 516,
     "status": "ok",
     "timestamp": 1718476074101,
     "user": {
      "displayName": "AYUSHMAAN DAS BTech_AIML",
      "userId": "16690242712608209106"
     },
     "user_tz": -330
    },
    "id": "_krIjkiKML5l",
    "outputId": "df5865e3-9d42-4426-b5d2-6b39737b3c60"
   },
   "outputs": [
    {
     "name": "stdout",
     "output_type": "stream",
     "text": [
      "विश्वकप २०१९ स्पर्धायाम् टॉस निर्णायकः अस्ति? स्पर्धायाम् विजयाय टॉसः महत्वम् अस्ति? भवतः विचारयेत्।\n"
     ]
    }
   ],
   "source": [
    "sanskrit = \"किं तर्हि विश्वकप २०१९ स्पर्धायाम् टॉस निर्णायकः अस्ति? स्पर्धायाम् विजयाय टॉसः महत्वम् अस्ति? भवतः इति विचारयेत्।\"\n",
    "sanskrit_stopwords = ['अस्ति', 'च', 'तथा', 'हि', 'तर्हि', 'अपि', 'किं', 'सः', 'स्म', 'इति']\n",
    "\n",
    "def remove_stopwords(text, stopwords):\n",
    "    words = text.split()\n",
    "    filtered_words = [word for word in words if word not in stopwords]\n",
    "    return ' '.join(filtered_words)\n",
    "\n",
    "cleaned_sanskrit = remove_stopwords(sanskrit, sanskrit_stopwords)\n",
    "print(cleaned_sanskrit)"
   ]
  },
  {
   "cell_type": "markdown",
   "metadata": {
    "id": "a5saj_uLKAsJ"
   },
   "source": [
    "- **URDU**"
   ]
  },
  {
   "cell_type": "code",
   "execution_count": 7,
   "metadata": {
    "colab": {
     "base_uri": "https://localhost:8080/",
     "height": 0
    },
    "executionInfo": {
     "elapsed": 472,
     "status": "ok",
     "timestamp": 1718476110223,
     "user": {
      "displayName": "AYUSHMAAN DAS BTech_AIML",
      "userId": "16690242712608209106"
     },
     "user_tz": -330
    },
    "id": "BVx69hUJJ-ew",
    "outputId": "95e10d5f-eff2-4756-bf89-b40e1e2f6ec1"
   },
   "outputs": [
    {
     "name": "stdout",
     "output_type": "stream",
     "text": [
      "کیا ورلڈ کپ ۲۰۱۹ ٹاس کردار اہم ہے؟ یعنی میچ جیت ہار ٹاس اہمیت ہے؟ آپ ایسا سوچ سکتے ہیں۔\n"
     ]
    }
   ],
   "source": [
    "urdu = \"تو کیا ورلڈ کپ ۲۰۱۹ میں ٹاس کا کردار اہم ہے؟ یعنی میچ میں جیت ہار میں ٹاس کی اہمیت ہے؟ آپ ایسا سوچ سکتے ہیں۔\"\n",
    "urdu_stopwords = ['کا', 'کی', 'ہے', 'میں', 'اور', 'سے', 'کو', 'نے', 'پر', 'تو']\n",
    "\n",
    "def remove_stopwords(text, stopwords):\n",
    "    words = text.split()\n",
    "    filtered_words = [word for word in words if word not in stopwords]\n",
    "    return ' '.join(filtered_words)\n",
    "\n",
    "cleaned_urdu = remove_stopwords(urdu, urdu_stopwords)\n",
    "print(cleaned_urdu)"
   ]
  },
  {
   "cell_type": "markdown",
   "metadata": {
    "id": "FZ7fF8o5KDVz"
   },
   "source": [
    "<hr><hr>"
   ]
  }
 ],
 "metadata": {
  "colab": {
   "authorship_tag": "ABX9TyNKQ9Kl6k3659vRzuFoZQs/",
   "provenance": []
  },
  "kernelspec": {
   "display_name": "Python 3",
   "name": "python3"
  },
  "language_info": {
   "name": "python"
  }
 },
 "nbformat": 4,
 "nbformat_minor": 0
}
