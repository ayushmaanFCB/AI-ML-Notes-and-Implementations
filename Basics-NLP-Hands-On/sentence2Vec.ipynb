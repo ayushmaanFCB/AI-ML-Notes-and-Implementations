{
 "cells": [
  {
   "cell_type": "code",
   "execution_count": 2,
   "metadata": {},
   "outputs": [
    {
     "name": "stderr",
     "output_type": "stream",
     "text": [
      "[nltk_data] Downloading package punkt to C:\\Users\\Asus\n",
      "[nltk_data]     vivobook\\AppData\\Roaming\\nltk_data...\n",
      "[nltk_data]   Package punkt is already up-to-date!\n"
     ]
    },
    {
     "data": {
      "text/plain": [
       "True"
      ]
     },
     "execution_count": 2,
     "metadata": {},
     "output_type": "execute_result"
    }
   ],
   "source": [
    "import nltk\n",
    "from nltk import word_tokenize, sent_tokenize\n",
    "import numpy as np\n",
    "\n",
    "nltk.download('punkt')"
   ]
  },
  {
   "cell_type": "markdown",
   "metadata": {},
   "source": [
    "### Word Tokenization"
   ]
  },
  {
   "cell_type": "code",
   "execution_count": 23,
   "metadata": {},
   "outputs": [],
   "source": [
    "corpus = [\n",
    "    \"I love football, it is my religion.\",\n",
    "    \"Football Club Barcelona is the best club in the world.\",\n",
    "    \"The dinner at the mess was so trash.\",\n",
    "    \"Boys went to the turf to play football in the rain.\",\n",
    "    \"Where the mind lives without fear.\",\n",
    "    \"Messi is the best footballer ever born\"\n",
    "]"
   ]
  },
  {
   "cell_type": "code",
   "execution_count": 24,
   "metadata": {},
   "outputs": [
    {
     "name": "stdout",
     "output_type": "stream",
     "text": [
      "[['I', 'love', 'football', ',', 'it', 'is', 'my', 'religion', '.'], ['Football', 'Club', 'Barcelona', 'is', 'the', 'best', 'club', 'in', 'the', 'world', '.'], ['The', 'dinner', 'at', 'the', 'mess', 'was', 'so', 'trash', '.'], ['Boys', 'went', 'to', 'the', 'turf', 'to', 'play', 'football', 'in', 'the', 'rain', '.'], ['Where', 'the', 'mind', 'lives', 'without', 'fear', '.'], ['Messi', 'is', 'the', 'best', 'footballer', 'ever', 'born']]\n"
     ]
    }
   ],
   "source": [
    "tokenized = []\n",
    "for sent in corpus:\n",
    "    tokenized.append(word_tokenize(sent))\n",
    "    \n",
    "print(tokenized)"
   ]
  },
  {
   "cell_type": "code",
   "execution_count": 25,
   "metadata": {},
   "outputs": [
    {
     "name": "stdout",
     "output_type": "stream",
     "text": [
      "[['I', 'love', 'football', 'it', 'is', 'my', 'religion'], ['Football', 'Club', 'Barcelona', 'is', 'the', 'best', 'club', 'in', 'the', 'world'], ['The', 'dinner', 'at', 'the', 'mess', 'was', 'so', 'trash'], ['Boys', 'went', 'to', 'the', 'turf', 'to', 'play', 'football', 'in', 'the', 'rain'], ['Where', 'the', 'mind', 'lives', 'without', 'fear'], ['Messi', 'is', 'the', 'best', 'footballer', 'ever', 'born']]\n"
     ]
    }
   ],
   "source": [
    "def purify(sent):\n",
    "    return [word for word in sent if word.isalnum()]\n",
    "\n",
    "tokenized = [purify(sent) for sent in tokenized]\n",
    "\n",
    "print(tokenized)"
   ]
  },
  {
   "cell_type": "markdown",
   "metadata": {},
   "source": [
    "### Sentence2Vec"
   ]
  },
  {
   "cell_type": "code",
   "execution_count": 12,
   "metadata": {},
   "outputs": [
    {
     "data": {
      "application/vnd.jupyter.widget-view+json": {
       "model_id": "da29cc46a29149a0b3f48f8974528f9d",
       "version_major": 2,
       "version_minor": 0
      },
      "text/plain": [
       "Downloading .gitattributes:   0%|          | 0.00/445 [00:00<?, ?B/s]"
      ]
     },
     "metadata": {},
     "output_type": "display_data"
    },
    {
     "data": {
      "application/vnd.jupyter.widget-view+json": {
       "model_id": "5e45b83c2d4d4a36acb8e123a477418c",
       "version_major": 2,
       "version_minor": 0
      },
      "text/plain": [
       "Downloading 1_Pooling/config.json:   0%|          | 0.00/190 [00:00<?, ?B/s]"
      ]
     },
     "metadata": {},
     "output_type": "display_data"
    },
    {
     "data": {
      "application/vnd.jupyter.widget-view+json": {
       "model_id": "968069ad7ec94293be535032dd377e3a",
       "version_major": 2,
       "version_minor": 0
      },
      "text/plain": [
       "Downloading README.md:   0%|          | 0.00/3.99k [00:00<?, ?B/s]"
      ]
     },
     "metadata": {},
     "output_type": "display_data"
    },
    {
     "data": {
      "application/vnd.jupyter.widget-view+json": {
       "model_id": "b5238093b9ec4a81bf4b81d173043f1e",
       "version_major": 2,
       "version_minor": 0
      },
      "text/plain": [
       "Downloading added_tokens.json:   0%|          | 0.00/2.00 [00:00<?, ?B/s]"
      ]
     },
     "metadata": {},
     "output_type": "display_data"
    },
    {
     "data": {
      "application/vnd.jupyter.widget-view+json": {
       "model_id": "fc7140744bed4a9595b06b66f5768346",
       "version_major": 2,
       "version_minor": 0
      },
      "text/plain": [
       "Downloading config.json:   0%|          | 0.00/625 [00:00<?, ?B/s]"
      ]
     },
     "metadata": {},
     "output_type": "display_data"
    },
    {
     "data": {
      "application/vnd.jupyter.widget-view+json": {
       "model_id": "ff07316f195847deb5cc8f2bee0df150",
       "version_major": 2,
       "version_minor": 0
      },
      "text/plain": [
       "Downloading (…)ce_transformers.json:   0%|          | 0.00/122 [00:00<?, ?B/s]"
      ]
     },
     "metadata": {},
     "output_type": "display_data"
    },
    {
     "data": {
      "application/vnd.jupyter.widget-view+json": {
       "model_id": "ffa053199c5d4ad6841dcd1353768b09",
       "version_major": 2,
       "version_minor": 0
      },
      "text/plain": [
       "Downloading model.safetensors:   0%|          | 0.00/438M [00:00<?, ?B/s]"
      ]
     },
     "metadata": {},
     "output_type": "display_data"
    },
    {
     "data": {
      "application/vnd.jupyter.widget-view+json": {
       "model_id": "a51e434ba0e84967bae166eb73929136",
       "version_major": 2,
       "version_minor": 0
      },
      "text/plain": [
       "Downloading pytorch_model.bin:   0%|          | 0.00/438M [00:00<?, ?B/s]"
      ]
     },
     "metadata": {},
     "output_type": "display_data"
    },
    {
     "data": {
      "application/vnd.jupyter.widget-view+json": {
       "model_id": "af04db37f573467ca12de6de2cdaac7c",
       "version_major": 2,
       "version_minor": 0
      },
      "text/plain": [
       "Downloading (…)nce_bert_config.json:   0%|          | 0.00/53.0 [00:00<?, ?B/s]"
      ]
     },
     "metadata": {},
     "output_type": "display_data"
    },
    {
     "data": {
      "application/vnd.jupyter.widget-view+json": {
       "model_id": "b5e8af9468bc482286bbd07bcf7a7717",
       "version_major": 2,
       "version_minor": 0
      },
      "text/plain": [
       "Downloading (…)cial_tokens_map.json:   0%|          | 0.00/112 [00:00<?, ?B/s]"
      ]
     },
     "metadata": {},
     "output_type": "display_data"
    },
    {
     "data": {
      "application/vnd.jupyter.widget-view+json": {
       "model_id": "f9ccd6e5c3724e86975205ff2f803373",
       "version_major": 2,
       "version_minor": 0
      },
      "text/plain": [
       "Downloading tokenizer.json:   0%|          | 0.00/466k [00:00<?, ?B/s]"
      ]
     },
     "metadata": {},
     "output_type": "display_data"
    },
    {
     "data": {
      "application/vnd.jupyter.widget-view+json": {
       "model_id": "2b2e475a14c14247932107d59929f4d4",
       "version_major": 2,
       "version_minor": 0
      },
      "text/plain": [
       "Downloading tokenizer_config.json:   0%|          | 0.00/399 [00:00<?, ?B/s]"
      ]
     },
     "metadata": {},
     "output_type": "display_data"
    },
    {
     "data": {
      "application/vnd.jupyter.widget-view+json": {
       "model_id": "82800265ca824b03b8fee56a2efec56d",
       "version_major": 2,
       "version_minor": 0
      },
      "text/plain": [
       "Downloading vocab.txt:   0%|          | 0.00/232k [00:00<?, ?B/s]"
      ]
     },
     "metadata": {},
     "output_type": "display_data"
    },
    {
     "data": {
      "application/vnd.jupyter.widget-view+json": {
       "model_id": "62f7c423373d48f8b10bd4f9b66eb9e7",
       "version_major": 2,
       "version_minor": 0
      },
      "text/plain": [
       "Downloading modules.json:   0%|          | 0.00/229 [00:00<?, ?B/s]"
      ]
     },
     "metadata": {},
     "output_type": "display_data"
    }
   ],
   "source": [
    "from sentence_transformers import SentenceTransformer\n",
    "\n",
    "bert_model = SentenceTransformer(\"bert-base-nli-mean-tokens\")"
   ]
  },
  {
   "cell_type": "code",
   "execution_count": 26,
   "metadata": {},
   "outputs": [
    {
     "data": {
      "text/plain": [
       "array([[ 0.06396635,  0.12364558,  2.3319023 , ...,  0.15326898,\n",
       "         0.07822303,  0.3079915 ],\n",
       "       [-0.02136051, -0.10491474,  1.1553048 , ...,  0.84502804,\n",
       "        -0.34183973,  0.4001142 ],\n",
       "       [-0.08432085, -0.15017113,  1.968639  , ...,  0.24315207,\n",
       "         0.13914874, -0.4064048 ],\n",
       "       [ 0.2755115 , -0.01595745,  2.484733  , ...,  0.7336148 ,\n",
       "         0.1073312 , -0.509565  ],\n",
       "       [-0.02976563, -0.16026635,  1.7533039 , ...,  0.10653675,\n",
       "        -0.23722807, -0.21369162],\n",
       "       [ 0.07337339, -0.25923732,  1.5763798 , ..., -0.00909049,\n",
       "        -0.0516074 ,  0.12659615]], dtype=float32)"
      ]
     },
     "execution_count": 26,
     "metadata": {},
     "output_type": "execute_result"
    }
   ],
   "source": [
    "embeddings = bert_model.encode(tokenized)\n",
    "\n",
    "embeddings"
   ]
  },
  {
   "cell_type": "code",
   "execution_count": 27,
   "metadata": {},
   "outputs": [
    {
     "name": "stdout",
     "output_type": "stream",
     "text": [
      "LENGTH OF ENCODED VECTOR 6\n"
     ]
    }
   ],
   "source": [
    "print(\"LENGTH OF ENCODED VECTOR\",  len(embeddings))"
   ]
  },
  {
   "cell_type": "markdown",
   "metadata": {},
   "source": [
    "### Cosine Similarity"
   ]
  },
  {
   "cell_type": "code",
   "execution_count": 28,
   "metadata": {},
   "outputs": [],
   "source": [
    "def cosine_sim(u, v):\n",
    "    return (np.dot(u, v)) / (np.linalg.norm(u) * np.linalg.norm(v))"
   ]
  },
  {
   "cell_type": "code",
   "execution_count": 36,
   "metadata": {},
   "outputs": [],
   "source": [
    "test_case = \"Should be go to play football today?\"\n",
    "test_case = bert_model.encode(purify(test_case))[0]"
   ]
  },
  {
   "cell_type": "code",
   "execution_count": 37,
   "metadata": {},
   "outputs": [
    {
     "name": "stdout",
     "output_type": "stream",
     "text": [
      "Similarity score to sentence 1 :  0.83176315\n",
      "Similarity score to sentence 2 :  0.50169116\n",
      "Similarity score to sentence 3 :  0.62179047\n",
      "Similarity score to sentence 4 :  0.74473757\n",
      "Similarity score to sentence 5 :  0.8658289\n",
      "Similarity score to sentence 6 :  0.8429059\n"
     ]
    }
   ],
   "source": [
    "for i in range(0, 6):\n",
    "    print(f\"Similarity score to sentence {i+1} : \", cosine_sim(test_case, embeddings[i]))"
   ]
  }
 ],
 "metadata": {
  "kernelspec": {
   "display_name": "Python 3",
   "language": "python",
   "name": "python3"
  },
  "language_info": {
   "codemirror_mode": {
    "name": "ipython",
    "version": 3
   },
   "file_extension": ".py",
   "mimetype": "text/x-python",
   "name": "python",
   "nbconvert_exporter": "python",
   "pygments_lexer": "ipython3",
   "version": "3.10.10"
  }
 },
 "nbformat": 4,
 "nbformat_minor": 2
}
