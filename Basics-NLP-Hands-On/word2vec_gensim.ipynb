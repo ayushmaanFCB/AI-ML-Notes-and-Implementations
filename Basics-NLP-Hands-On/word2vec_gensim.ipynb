{
 "cells": [
  {
   "cell_type": "markdown",
   "metadata": {
    "id": "RNHX8-hUTwR8"
   },
   "source": [
    "### Problem Statement\n",
    "\n",
    "  - Implement Word2Vec using the Gensim library to generate word embeddings for\n",
    "a given text corpus."
   ]
  },
  {
   "cell_type": "markdown",
   "metadata": {
    "id": "AbEei4kbTwz7"
   },
   "source": [
    "### Importing Modules"
   ]
  },
  {
   "cell_type": "code",
   "execution_count": 86,
   "metadata": {
    "colab": {
     "base_uri": "https://localhost:8080/",
     "height": 0
    },
    "executionInfo": {
     "elapsed": 378,
     "status": "ok",
     "timestamp": 1718698636615,
     "user": {
      "displayName": "AYUSHMAAN DAS BTech_AIML",
      "userId": "16690242712608209106"
     },
     "user_tz": -330
    },
    "id": "4nJBt8F-Tyam",
    "outputId": "77ca0774-5d3a-4fe9-b6e1-8a483e622d58"
   },
   "outputs": [
    {
     "name": "stderr",
     "output_type": "stream",
     "text": [
      "[nltk_data] Downloading package punkt to /root/nltk_data...\n",
      "[nltk_data]   Package punkt is already up-to-date!\n",
      "[nltk_data] Downloading package wordnet to /root/nltk_data...\n",
      "[nltk_data]   Package wordnet is already up-to-date!\n",
      "[nltk_data] Downloading package stopwords to /root/nltk_data...\n",
      "[nltk_data]   Package stopwords is already up-to-date!\n"
     ]
    },
    {
     "data": {
      "text/plain": [
       "True"
      ]
     },
     "execution_count": 86,
     "metadata": {},
     "output_type": "execute_result"
    }
   ],
   "source": [
    "import gensim\n",
    "import nltk\n",
    "from nltk.tokenize import sent_tokenize, word_tokenize\n",
    "from nltk.corpus import stopwords\n",
    "from gensim.models import Word2Vec\n",
    "\n",
    "nltk.download('punkt')\n",
    "nltk.download('wordnet')\n",
    "nltk.download('stopwords')"
   ]
  },
  {
   "cell_type": "markdown",
   "metadata": {
    "id": "8WR3PTukaOU7"
   },
   "source": [
    "### Tokenization and Stopwords Removal"
   ]
  },
  {
   "cell_type": "code",
   "execution_count": 87,
   "metadata": {
    "executionInfo": {
     "elapsed": 1,
     "status": "ok",
     "timestamp": 1718698637060,
     "user": {
      "displayName": "AYUSHMAAN DAS BTech_AIML",
      "userId": "16690242712608209106"
     },
     "user_tz": -330
    },
    "id": "bdZm5DcAURoM"
   },
   "outputs": [],
   "source": [
    "text = \"\"\"Ballspielverein Borussia 09 e. V. Dortmund, often known simply as Borussia Dortmund or by its initialism BVB, is a German professional sports club based in Dortmund, North Rhine-Westphalia. It is best known for its men's professional football team, which plays in the Bundesliga, the top tier of the German football league system. The club have won eight league championships, five DFB-Pokals, one UEFA Champions League, one Intercontinental Cup, and one UEFA Cup Winners' Cup.\"\"\""
   ]
  },
  {
   "cell_type": "code",
   "execution_count": 88,
   "metadata": {
    "colab": {
     "base_uri": "https://localhost:8080/",
     "height": 0
    },
    "executionInfo": {
     "elapsed": 2,
     "status": "ok",
     "timestamp": 1718698637516,
     "user": {
      "displayName": "AYUSHMAAN DAS BTech_AIML",
      "userId": "16690242712608209106"
     },
     "user_tz": -330
    },
    "id": "dbPWDIjHUq8B",
    "outputId": "09b56d1b-5cfe-4a9b-efd5-424b1c9324db"
   },
   "outputs": [
    {
     "data": {
      "text/plain": [
       "['Ballspielverein Borussia 09 e. V. Dortmund, often known simply as Borussia Dortmund or by its initialism BVB, is a German professional sports club based in Dortmund, North Rhine-Westphalia.',\n",
       " \"It is best known for its men's professional football team, which plays in the Bundesliga, the top tier of the German football league system.\",\n",
       " \"The club have won eight league championships, five DFB-Pokals, one UEFA Champions League, one Intercontinental Cup, and one UEFA Cup Winners' Cup.\"]"
      ]
     },
     "execution_count": 88,
     "metadata": {},
     "output_type": "execute_result"
    }
   ],
   "source": [
    "sentences = sent_tokenize(text)\n",
    "sentences"
   ]
  },
  {
   "cell_type": "code",
   "execution_count": 89,
   "metadata": {
    "executionInfo": {
     "elapsed": 2,
     "status": "ok",
     "timestamp": 1718698639356,
     "user": {
      "displayName": "AYUSHMAAN DAS BTech_AIML",
      "userId": "16690242712608209106"
     },
     "user_tz": -330
    },
    "id": "vH4U2u7lXfcL"
   },
   "outputs": [],
   "source": [
    "stopwords = stopwords.words(\"english\")"
   ]
  },
  {
   "cell_type": "code",
   "execution_count": 90,
   "metadata": {
    "colab": {
     "base_uri": "https://localhost:8080/",
     "height": 0
    },
    "executionInfo": {
     "elapsed": 2,
     "status": "ok",
     "timestamp": 1718698641248,
     "user": {
      "displayName": "AYUSHMAAN DAS BTech_AIML",
      "userId": "16690242712608209106"
     },
     "user_tz": -330
    },
    "id": "3hFiNCesVImT",
    "outputId": "06cc3b14-0ff4-4064-d4b5-0ab9deab85ca"
   },
   "outputs": [
    {
     "data": {
      "text/plain": [
       "['Ballspielverein',\n",
       " 'Borussia',\n",
       " '09',\n",
       " 'Dortmund',\n",
       " 'often',\n",
       " 'known',\n",
       " 'simply',\n",
       " 'Borussia',\n",
       " 'Dortmund',\n",
       " 'initialism',\n",
       " 'BVB',\n",
       " 'German',\n",
       " 'professional',\n",
       " 'sports',\n",
       " 'club',\n",
       " 'based',\n",
       " 'Dortmund',\n",
       " 'North']"
      ]
     },
     "execution_count": 90,
     "metadata": {},
     "output_type": "execute_result"
    }
   ],
   "source": [
    "clean_sents = []\n",
    "for sent in sentences:\n",
    "  wordList = word_tokenize(sent)\n",
    "  wordList = [word for word in wordList if (word.isalnum()) and (word not in stopwords)]\n",
    "  clean_sents.append(wordList)\n",
    "\n",
    "clean_sents[0]"
   ]
  },
  {
   "cell_type": "markdown",
   "metadata": {
    "id": "ETOSXxqyaaDr"
   },
   "source": [
    "### Gensim's Word2Vec Model"
   ]
  },
  {
   "cell_type": "markdown",
   "metadata": {
    "id": "LeY4t0E6adM6"
   },
   "source": [
    "Generating the Model"
   ]
  },
  {
   "cell_type": "code",
   "execution_count": 91,
   "metadata": {
    "executionInfo": {
     "elapsed": 617,
     "status": "ok",
     "timestamp": 1718698644814,
     "user": {
      "displayName": "AYUSHMAAN DAS BTech_AIML",
      "userId": "16690242712608209106"
     },
     "user_tz": -330
    },
    "id": "dPXyBQqyVpzy"
   },
   "outputs": [],
   "source": [
    "model = Word2Vec(sentences=clean_sents, vector_size=100, window=5, min_count=1, workers=4)"
   ]
  },
  {
   "cell_type": "markdown",
   "metadata": {
    "id": "XSwxONEoae84"
   },
   "source": [
    "Saving the Model"
   ]
  },
  {
   "cell_type": "code",
   "execution_count": 92,
   "metadata": {
    "executionInfo": {
     "elapsed": 1,
     "status": "ok",
     "timestamp": 1718698645221,
     "user": {
      "displayName": "AYUSHMAAN DAS BTech_AIML",
      "userId": "16690242712608209106"
     },
     "user_tz": -330
    },
    "id": "7M_8X8XtZaPj"
   },
   "outputs": [],
   "source": [
    "model.save(\"word2vec.bin\")"
   ]
  },
  {
   "cell_type": "markdown",
   "metadata": {
    "id": "TDnWxEHJaghX"
   },
   "source": [
    "Loading and Predictions"
   ]
  },
  {
   "cell_type": "code",
   "execution_count": 93,
   "metadata": {
    "colab": {
     "base_uri": "https://localhost:8080/",
     "height": 0
    },
    "executionInfo": {
     "elapsed": 2,
     "status": "ok",
     "timestamp": 1718698645222,
     "user": {
      "displayName": "AYUSHMAAN DAS BTech_AIML",
      "userId": "16690242712608209106"
     },
     "user_tz": -330
    },
    "id": "Xy1oFu68ZrNi",
    "outputId": "7426c9ba-e033-4943-d5d2-d63d3f2d3700"
   },
   "outputs": [
    {
     "data": {
      "text/plain": [
       "array([-8.7285992e-03,  2.1308314e-03, -8.7997003e-04, -9.3094213e-03,\n",
       "       -9.4442023e-03, -1.4172612e-03,  4.4358550e-03,  3.7120164e-03,\n",
       "       -6.5057087e-03, -6.8811560e-03, -4.9921693e-03, -2.2841506e-03,\n",
       "       -7.2565223e-03, -9.5993383e-03, -2.7467555e-03, -8.3703566e-03,\n",
       "       -6.0418118e-03, -5.6872773e-03, -2.3438581e-03, -1.7123491e-03,\n",
       "       -8.9622727e-03, -7.3357276e-04,  8.1697078e-03,  7.6938346e-03,\n",
       "       -7.1973787e-03, -3.6777905e-03,  3.1199115e-03, -9.5713865e-03,\n",
       "        1.4695568e-03,  6.5334365e-03,  5.7690898e-03, -8.7826597e-03,\n",
       "       -4.5038909e-03, -8.1659770e-03,  4.6790839e-05,  9.2641562e-03,\n",
       "        5.9691351e-03,  5.0724158e-03,  5.0668078e-03, -3.2551985e-03,\n",
       "        9.5397616e-03, -7.3686596e-03, -7.2838929e-03, -2.2712594e-03,\n",
       "       -7.6921302e-04, -3.2213675e-03, -5.9523829e-04,  7.4973004e-03,\n",
       "       -6.9841626e-04, -1.6188443e-03,  2.7433424e-03, -8.3556585e-03,\n",
       "        7.8516593e-03,  8.5396161e-03, -9.5815444e-03,  2.4403918e-03,\n",
       "        9.9130170e-03, -7.6750820e-03, -6.9836667e-03, -7.7402270e-03,\n",
       "        8.3909864e-03, -6.8380567e-04,  9.1561144e-03, -8.1593283e-03,\n",
       "        3.7318098e-03,  2.6407707e-03,  7.4413494e-04,  2.3379033e-03,\n",
       "       -7.4815201e-03, -9.3568098e-03,  2.3614378e-03,  6.1580469e-03,\n",
       "        7.9970649e-03,  5.7364455e-03, -7.6776644e-04,  8.3044805e-03,\n",
       "       -9.3505867e-03,  3.4067421e-03,  2.6783641e-04,  3.8565102e-03,\n",
       "        7.3907636e-03, -6.7494675e-03,  5.5900495e-03, -9.5200576e-03,\n",
       "       -7.9938595e-04, -8.7004760e-03, -5.0990344e-03,  9.2855617e-03,\n",
       "       -1.8456677e-03,  2.9348203e-03,  9.0733217e-03,  8.9437440e-03,\n",
       "       -8.2011670e-03, -3.0266698e-03,  9.8954821e-03,  5.1138164e-03,\n",
       "       -1.5936786e-03, -8.6947093e-03,  2.9702806e-03, -6.6873347e-03],\n",
       "      dtype=float32)"
      ]
     },
     "execution_count": 93,
     "metadata": {},
     "output_type": "execute_result"
    }
   ],
   "source": [
    "load = Word2Vec.load(\"word2vec.bin\")\n",
    "\n",
    "model.wv[\"Borussia\"]"
   ]
  },
  {
   "cell_type": "markdown",
   "metadata": {
    "id": "R65plekbaxsD"
   },
   "source": [
    "<hr><hr>"
   ]
  }
 ],
 "metadata": {
  "accelerator": "GPU",
  "colab": {
   "authorship_tag": "ABX9TyPOhO+Qrvi/hgIKOFm9HQUG",
   "gpuType": "T4",
   "provenance": []
  },
  "kernelspec": {
   "display_name": "Python 3",
   "name": "python3"
  },
  "language_info": {
   "name": "python"
  }
 },
 "nbformat": 4,
 "nbformat_minor": 0
}
