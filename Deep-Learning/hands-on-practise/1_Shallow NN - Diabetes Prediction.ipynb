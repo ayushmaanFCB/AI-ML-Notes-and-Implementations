{
  "cells": [
    {
      "cell_type": "markdown",
      "metadata": {},
      "source": [
        "### PROBLEM STATEMENT\n",
        "*\"Implement a Shallow Neural Network for the diagnosis of diabetes (Indian Diabetes Dataset)\"*\n",
        "\n",
        "- Ayushmaan Das (E0121037)\n"
      ]
    },
    {
      "cell_type": "markdown",
      "metadata": {
        "id": "XKUUhMKhx0-e"
      },
      "source": [
        "### Mounting Drive and Importing Libraries"
      ]
    },
    {
      "cell_type": "code",
      "execution_count": 1,
      "metadata": {
        "id": "9Zbt1j9SvxoF"
      },
      "outputs": [],
      "source": [
        "import numpy as np\n",
        "import pandas as pd"
      ]
    },
    {
      "cell_type": "code",
      "execution_count": 2,
      "metadata": {
        "colab": {
          "base_uri": "https://localhost:8080/",
          "height": 206
        },
        "id": "2RkGFgQ6wbcC",
        "outputId": "7dca465a-1ed2-49a1-f1cb-c3b0eb57b963"
      },
      "outputs": [
        {
          "data": {
            "text/html": [
              "<div>\n",
              "<style scoped>\n",
              "    .dataframe tbody tr th:only-of-type {\n",
              "        vertical-align: middle;\n",
              "    }\n",
              "\n",
              "    .dataframe tbody tr th {\n",
              "        vertical-align: top;\n",
              "    }\n",
              "\n",
              "    .dataframe thead th {\n",
              "        text-align: right;\n",
              "    }\n",
              "</style>\n",
              "<table border=\"1\" class=\"dataframe\">\n",
              "  <thead>\n",
              "    <tr style=\"text-align: right;\">\n",
              "      <th></th>\n",
              "      <th>Pregnancies</th>\n",
              "      <th>Glucose</th>\n",
              "      <th>BloodPressure</th>\n",
              "      <th>SkinThickness</th>\n",
              "      <th>Insulin</th>\n",
              "      <th>BMI</th>\n",
              "      <th>DiabetesPedigreeFunction</th>\n",
              "      <th>Age</th>\n",
              "      <th>Outcome</th>\n",
              "    </tr>\n",
              "  </thead>\n",
              "  <tbody>\n",
              "    <tr>\n",
              "      <th>0</th>\n",
              "      <td>6</td>\n",
              "      <td>148</td>\n",
              "      <td>72</td>\n",
              "      <td>35</td>\n",
              "      <td>0</td>\n",
              "      <td>33.6</td>\n",
              "      <td>0.627</td>\n",
              "      <td>50</td>\n",
              "      <td>1</td>\n",
              "    </tr>\n",
              "    <tr>\n",
              "      <th>1</th>\n",
              "      <td>1</td>\n",
              "      <td>85</td>\n",
              "      <td>66</td>\n",
              "      <td>29</td>\n",
              "      <td>0</td>\n",
              "      <td>26.6</td>\n",
              "      <td>0.351</td>\n",
              "      <td>31</td>\n",
              "      <td>0</td>\n",
              "    </tr>\n",
              "    <tr>\n",
              "      <th>2</th>\n",
              "      <td>8</td>\n",
              "      <td>183</td>\n",
              "      <td>64</td>\n",
              "      <td>0</td>\n",
              "      <td>0</td>\n",
              "      <td>23.3</td>\n",
              "      <td>0.672</td>\n",
              "      <td>32</td>\n",
              "      <td>1</td>\n",
              "    </tr>\n",
              "    <tr>\n",
              "      <th>3</th>\n",
              "      <td>1</td>\n",
              "      <td>89</td>\n",
              "      <td>66</td>\n",
              "      <td>23</td>\n",
              "      <td>94</td>\n",
              "      <td>28.1</td>\n",
              "      <td>0.167</td>\n",
              "      <td>21</td>\n",
              "      <td>0</td>\n",
              "    </tr>\n",
              "    <tr>\n",
              "      <th>4</th>\n",
              "      <td>0</td>\n",
              "      <td>137</td>\n",
              "      <td>40</td>\n",
              "      <td>35</td>\n",
              "      <td>168</td>\n",
              "      <td>43.1</td>\n",
              "      <td>2.288</td>\n",
              "      <td>33</td>\n",
              "      <td>1</td>\n",
              "    </tr>\n",
              "  </tbody>\n",
              "</table>\n",
              "</div>"
            ],
            "text/plain": [
              "   Pregnancies  Glucose  BloodPressure  SkinThickness  Insulin   BMI  \\\n",
              "0            6      148             72             35        0  33.6   \n",
              "1            1       85             66             29        0  26.6   \n",
              "2            8      183             64              0        0  23.3   \n",
              "3            1       89             66             23       94  28.1   \n",
              "4            0      137             40             35      168  43.1   \n",
              "\n",
              "   DiabetesPedigreeFunction  Age  Outcome  \n",
              "0                     0.627   50        1  \n",
              "1                     0.351   31        0  \n",
              "2                     0.672   32        1  \n",
              "3                     0.167   21        0  \n",
              "4                     2.288   33        1  "
            ]
          },
          "execution_count": 2,
          "metadata": {},
          "output_type": "execute_result"
        }
      ],
      "source": [
        "df = pd.read_csv(\"../data/Diabetes.csv\")\n",
        "\n",
        "df.head(5)"
      ]
    },
    {
      "cell_type": "markdown",
      "metadata": {
        "id": "I2__rGWhyDjI"
      },
      "source": [
        "<hr>\n",
        "\n",
        "### Basic Analysis of the Dataframe"
      ]
    },
    {
      "cell_type": "code",
      "execution_count": 3,
      "metadata": {
        "colab": {
          "base_uri": "https://localhost:8080/"
        },
        "id": "drLWk2kowvDf",
        "outputId": "50d11918-9240-490e-e638-9378bfc64bcc"
      },
      "outputs": [
        {
          "name": "stdout",
          "output_type": "stream",
          "text": [
            "ROWS: 768 \t COLUMNS : 9\n"
          ]
        }
      ],
      "source": [
        "print(f\"ROWS: {df.shape[0]} \\t COLUMNS : {df.shape[1]}\")"
      ]
    },
    {
      "cell_type": "code",
      "execution_count": 10,
      "metadata": {
        "colab": {
          "base_uri": "https://localhost:8080/"
        },
        "id": "ubPNGL9iyjZr",
        "outputId": "955c6a2d-d76e-4bd6-e08f-04a682e6111f"
      },
      "outputs": [
        {
          "name": "stdout",
          "output_type": "stream",
          "text": [
            "FEATURES ARE :  Index(['Pregnancies', 'Glucose', 'BloodPressure', 'SkinThickness', 'Insulin',\n",
            "       'BMI', 'DiabetesPedigreeFunction', 'Age', 'Outcome'],\n",
            "      dtype='object')\n"
          ]
        }
      ],
      "source": [
        "print(\"FEATURES ARE : \", df.columns)"
      ]
    },
    {
      "cell_type": "code",
      "execution_count": 11,
      "metadata": {
        "colab": {
          "base_uri": "https://localhost:8080/"
        },
        "id": "XHMuqaYbw6bf",
        "outputId": "f8d576ff-ee24-43fe-d9e0-ae8b31c15ed7"
      },
      "outputs": [
        {
          "name": "stdout",
          "output_type": "stream",
          "text": [
            "<class 'pandas.core.frame.DataFrame'>\n",
            "RangeIndex: 768 entries, 0 to 767\n",
            "Data columns (total 9 columns):\n",
            " #   Column                    Non-Null Count  Dtype  \n",
            "---  ------                    --------------  -----  \n",
            " 0   Pregnancies               768 non-null    int64  \n",
            " 1   Glucose                   768 non-null    int64  \n",
            " 2   BloodPressure             768 non-null    int64  \n",
            " 3   SkinThickness             768 non-null    int64  \n",
            " 4   Insulin                   768 non-null    int64  \n",
            " 5   BMI                       768 non-null    float64\n",
            " 6   DiabetesPedigreeFunction  768 non-null    float64\n",
            " 7   Age                       768 non-null    int64  \n",
            " 8   Outcome                   768 non-null    int64  \n",
            "dtypes: float64(2), int64(7)\n",
            "memory usage: 54.1 KB\n",
            "None\n"
          ]
        }
      ],
      "source": [
        "print(df.info())"
      ]
    },
    {
      "cell_type": "code",
      "execution_count": 12,
      "metadata": {
        "colab": {
          "base_uri": "https://localhost:8080/"
        },
        "id": "C6PEfuxEyU8T",
        "outputId": "08321314-a3e3-4647-87db-50b6883ae7c0"
      },
      "outputs": [
        {
          "name": "stdout",
          "output_type": "stream",
          "text": [
            "       Pregnancies     Glucose  BloodPressure  SkinThickness     Insulin  \\\n",
            "count   768.000000  768.000000     768.000000     768.000000  768.000000   \n",
            "mean      3.845052  120.894531      69.105469      20.536458   79.799479   \n",
            "std       3.369578   31.972618      19.355807      15.952218  115.244002   \n",
            "min       0.000000    0.000000       0.000000       0.000000    0.000000   \n",
            "25%       1.000000   99.000000      62.000000       0.000000    0.000000   \n",
            "50%       3.000000  117.000000      72.000000      23.000000   30.500000   \n",
            "75%       6.000000  140.250000      80.000000      32.000000  127.250000   \n",
            "max      17.000000  199.000000     122.000000      99.000000  846.000000   \n",
            "\n",
            "              BMI  DiabetesPedigreeFunction         Age     Outcome  \n",
            "count  768.000000                768.000000  768.000000  768.000000  \n",
            "mean    31.992578                  0.471876   33.240885    0.348958  \n",
            "std      7.884160                  0.331329   11.760232    0.476951  \n",
            "min      0.000000                  0.078000   21.000000    0.000000  \n",
            "25%     27.300000                  0.243750   24.000000    0.000000  \n",
            "50%     32.000000                  0.372500   29.000000    0.000000  \n",
            "75%     36.600000                  0.626250   41.000000    1.000000  \n",
            "max     67.100000                  2.420000   81.000000    1.000000  \n"
          ]
        }
      ],
      "source": [
        "print(df.describe())"
      ]
    },
    {
      "cell_type": "markdown",
      "metadata": {
        "id": "1cZDeK2Q0EQO"
      },
      "source": [
        "<hr>\n",
        "\n",
        "### Feature Selection"
      ]
    },
    {
      "cell_type": "code",
      "execution_count": 13,
      "metadata": {
        "colab": {
          "base_uri": "https://localhost:8080/"
        },
        "id": "eZU-ctOJ0m3S",
        "outputId": "9f6a4eb4-8341-473c-b894-3e6c8bb67a26"
      },
      "outputs": [
        {
          "name": "stdout",
          "output_type": "stream",
          "text": [
            "(768, 8)\n"
          ]
        },
        {
          "data": {
            "text/plain": [
              "array([[  6.   , 148.   ,  72.   , ...,  33.6  ,   0.627,  50.   ],\n",
              "       [  1.   ,  85.   ,  66.   , ...,  26.6  ,   0.351,  31.   ],\n",
              "       [  8.   , 183.   ,  64.   , ...,  23.3  ,   0.672,  32.   ],\n",
              "       ...,\n",
              "       [  5.   , 121.   ,  72.   , ...,  26.2  ,   0.245,  30.   ],\n",
              "       [  1.   , 126.   ,  60.   , ...,  30.1  ,   0.349,  47.   ],\n",
              "       [  1.   ,  93.   ,  70.   , ...,  30.4  ,   0.315,  23.   ]])"
            ]
          },
          "execution_count": 13,
          "metadata": {},
          "output_type": "execute_result"
        }
      ],
      "source": [
        "X = df.iloc[:, :-1].values\n",
        "print(X.shape)\n",
        "X"
      ]
    },
    {
      "cell_type": "code",
      "execution_count": 15,
      "metadata": {
        "colab": {
          "base_uri": "https://localhost:8080/"
        },
        "id": "qKiyykB_ya-T",
        "outputId": "3df0b777-92ed-4ba6-8250-f71892f7598d"
      },
      "outputs": [
        {
          "name": "stdout",
          "output_type": "stream",
          "text": [
            "(768,)\n"
          ]
        }
      ],
      "source": [
        "Y = df.iloc[:, -1].values\n",
        "print(Y.shape)"
      ]
    },
    {
      "cell_type": "markdown",
      "metadata": {
        "id": "pFXy-G7p1cn6"
      },
      "source": [
        "<hr>\n",
        "\n",
        "### Model Building\n",
        "\n",
        "Importing Libraries"
      ]
    },
    {
      "cell_type": "code",
      "execution_count": 16,
      "metadata": {
        "id": "SCK96ZgA0J9V"
      },
      "outputs": [],
      "source": [
        "from keras.models import Sequential\n",
        "from keras.layers import Dense\n",
        "from sklearn.model_selection import train_test_split\n",
        "from tensorflow.keras.optimizers import SGD             "
      ]
    },
    {
      "cell_type": "markdown",
      "metadata": {
        "id": "078o6z282jEE"
      },
      "source": [
        "Splitting the Dataset"
      ]
    },
    {
      "cell_type": "code",
      "execution_count": 17,
      "metadata": {
        "id": "eJVp26F61huU"
      },
      "outputs": [],
      "source": [
        "X_train, X_test, y_train, y_test = train_test_split(X, Y, test_size=0.2, random_state=42)"
      ]
    },
    {
      "cell_type": "code",
      "execution_count": 19,
      "metadata": {
        "colab": {
          "base_uri": "https://localhost:8080/"
        },
        "id": "ulTxaJ_m7WfF",
        "outputId": "e326d72c-5bcc-4094-db8c-19f1a064ff95"
      },
      "outputs": [
        {
          "name": "stdout",
          "output_type": "stream",
          "text": [
            "(614, 8)\n",
            "(614,)\n"
          ]
        }
      ],
      "source": [
        "print(X_train.shape)\n",
        "print(y_train.shape)"
      ]
    },
    {
      "cell_type": "markdown",
      "metadata": {
        "id": "y4u3sZWV2ytA"
      },
      "source": [
        "Defining the Model"
      ]
    },
    {
      "cell_type": "code",
      "execution_count": 22,
      "metadata": {
        "id": "ohUE6CVm2ta7"
      },
      "outputs": [],
      "source": [
        "model = Sequential()\n",
        "\n",
        "# INPUT LAYER\n",
        "model.add(Dense(8, input_dim=8, activation='relu'))\n",
        "\n",
        "# HIDDEN LAYER\n",
        "model.add(Dense(8, activation='relu'))\n",
        "\n",
        "# OUTPUT LAYER\n",
        "model.add(Dense(1, activation='sigmoid'))\n",
        "\n",
        "model.compile(loss='binary_crossentropy', optimizer=SGD(learning_rate=0.01, momentum=0.9), metrics=['accuracy'])"
      ]
    },
    {
      "cell_type": "code",
      "execution_count": 23,
      "metadata": {
        "colab": {
          "base_uri": "https://localhost:8080/"
        },
        "id": "fklw79hS3UCF",
        "outputId": "d50e70b6-9dc9-460b-b45e-8b524d7224a4"
      },
      "outputs": [
        {
          "name": "stdout",
          "output_type": "stream",
          "text": [
            "Epoch 1/100\n",
            "20/20 [==============================] - 2s 27ms/step - loss: 1.7229 - accuracy: 0.5765 - val_loss: 0.6704 - val_accuracy: 0.6494\n",
            "Epoch 2/100\n",
            "20/20 [==============================] - 0s 9ms/step - loss: 0.6882 - accuracy: 0.6368 - val_loss: 0.6756 - val_accuracy: 0.6104\n",
            "Epoch 3/100\n",
            "20/20 [==============================] - 0s 6ms/step - loss: 0.7096 - accuracy: 0.5863 - val_loss: 0.6683 - val_accuracy: 0.6234\n",
            "Epoch 4/100\n",
            "20/20 [==============================] - 0s 7ms/step - loss: 0.6747 - accuracy: 0.6287 - val_loss: 0.6956 - val_accuracy: 0.6429\n",
            "Epoch 5/100\n",
            "20/20 [==============================] - 0s 7ms/step - loss: 0.6587 - accuracy: 0.6450 - val_loss: 0.6400 - val_accuracy: 0.6558\n",
            "Epoch 6/100\n",
            "20/20 [==============================] - 0s 7ms/step - loss: 0.6428 - accuracy: 0.6515 - val_loss: 0.6730 - val_accuracy: 0.6429\n",
            "Epoch 7/100\n",
            "20/20 [==============================] - 0s 7ms/step - loss: 0.6424 - accuracy: 0.6498 - val_loss: 0.6628 - val_accuracy: 0.6429\n",
            "Epoch 8/100\n",
            "20/20 [==============================] - 0s 7ms/step - loss: 0.6453 - accuracy: 0.6466 - val_loss: 0.6447 - val_accuracy: 0.6429\n",
            "Epoch 9/100\n",
            "20/20 [==============================] - 0s 13ms/step - loss: 0.6293 - accuracy: 0.6515 - val_loss: 0.6361 - val_accuracy: 0.6429\n",
            "Epoch 10/100\n",
            "20/20 [==============================] - 0s 7ms/step - loss: 0.6322 - accuracy: 0.6466 - val_loss: 0.6255 - val_accuracy: 0.6429\n",
            "Epoch 11/100\n",
            "20/20 [==============================] - 0s 7ms/step - loss: 0.6213 - accuracy: 0.6531 - val_loss: 0.6627 - val_accuracy: 0.6429\n",
            "Epoch 12/100\n",
            "20/20 [==============================] - 0s 7ms/step - loss: 0.6244 - accuracy: 0.6547 - val_loss: 0.6272 - val_accuracy: 0.6429\n",
            "Epoch 13/100\n",
            "20/20 [==============================] - 0s 7ms/step - loss: 0.6214 - accuracy: 0.6547 - val_loss: 0.6331 - val_accuracy: 0.6429\n",
            "Epoch 14/100\n",
            "20/20 [==============================] - 0s 7ms/step - loss: 0.6176 - accuracy: 0.6515 - val_loss: 0.6829 - val_accuracy: 0.6429\n",
            "Epoch 15/100\n",
            "20/20 [==============================] - 0s 7ms/step - loss: 0.6218 - accuracy: 0.6498 - val_loss: 0.6215 - val_accuracy: 0.6429\n",
            "Epoch 16/100\n",
            "20/20 [==============================] - 0s 7ms/step - loss: 0.6091 - accuracy: 0.6531 - val_loss: 0.6202 - val_accuracy: 0.6429\n",
            "Epoch 17/100\n",
            "20/20 [==============================] - 0s 7ms/step - loss: 0.6174 - accuracy: 0.6531 - val_loss: 0.6362 - val_accuracy: 0.6429\n",
            "Epoch 18/100\n",
            "20/20 [==============================] - 0s 7ms/step - loss: 0.6173 - accuracy: 0.6482 - val_loss: 0.6430 - val_accuracy: 0.6429\n",
            "Epoch 19/100\n",
            "20/20 [==============================] - 0s 7ms/step - loss: 0.6148 - accuracy: 0.6498 - val_loss: 0.6436 - val_accuracy: 0.6429\n",
            "Epoch 20/100\n",
            "20/20 [==============================] - 0s 7ms/step - loss: 0.6150 - accuracy: 0.6531 - val_loss: 0.6356 - val_accuracy: 0.6429\n",
            "Epoch 21/100\n",
            "20/20 [==============================] - 0s 7ms/step - loss: 0.6097 - accuracy: 0.6547 - val_loss: 0.6406 - val_accuracy: 0.6429\n",
            "Epoch 22/100\n",
            "20/20 [==============================] - 0s 7ms/step - loss: 0.6108 - accuracy: 0.6547 - val_loss: 0.6434 - val_accuracy: 0.6364\n",
            "Epoch 23/100\n",
            "20/20 [==============================] - 0s 7ms/step - loss: 0.6123 - accuracy: 0.6547 - val_loss: 0.6301 - val_accuracy: 0.6429\n",
            "Epoch 24/100\n",
            "20/20 [==============================] - 0s 7ms/step - loss: 0.6109 - accuracy: 0.6515 - val_loss: 0.6445 - val_accuracy: 0.6429\n",
            "Epoch 25/100\n",
            "20/20 [==============================] - 0s 7ms/step - loss: 0.6122 - accuracy: 0.6515 - val_loss: 0.6383 - val_accuracy: 0.6429\n",
            "Epoch 26/100\n",
            "20/20 [==============================] - 0s 11ms/step - loss: 0.6199 - accuracy: 0.6547 - val_loss: 0.6491 - val_accuracy: 0.6169\n",
            "Epoch 27/100\n",
            "20/20 [==============================] - 0s 6ms/step - loss: 0.6153 - accuracy: 0.6433 - val_loss: 0.6421 - val_accuracy: 0.6429\n",
            "Epoch 28/100\n",
            "20/20 [==============================] - 0s 7ms/step - loss: 0.6052 - accuracy: 0.6531 - val_loss: 0.6518 - val_accuracy: 0.6429\n",
            "Epoch 29/100\n",
            "20/20 [==============================] - 0s 7ms/step - loss: 0.6092 - accuracy: 0.6498 - val_loss: 0.6434 - val_accuracy: 0.6429\n",
            "Epoch 30/100\n",
            "20/20 [==============================] - 0s 7ms/step - loss: 0.6085 - accuracy: 0.6515 - val_loss: 0.6219 - val_accuracy: 0.6429\n",
            "Epoch 31/100\n",
            "20/20 [==============================] - 0s 6ms/step - loss: 0.6067 - accuracy: 0.6482 - val_loss: 0.6431 - val_accuracy: 0.6429\n",
            "Epoch 32/100\n",
            "20/20 [==============================] - 0s 6ms/step - loss: 0.6097 - accuracy: 0.6482 - val_loss: 0.6454 - val_accuracy: 0.6429\n",
            "Epoch 33/100\n",
            "20/20 [==============================] - 0s 7ms/step - loss: 0.6045 - accuracy: 0.6515 - val_loss: 0.6398 - val_accuracy: 0.6429\n",
            "Epoch 34/100\n",
            "20/20 [==============================] - 0s 7ms/step - loss: 0.6074 - accuracy: 0.6482 - val_loss: 0.6377 - val_accuracy: 0.6429\n",
            "Epoch 35/100\n",
            "20/20 [==============================] - 0s 7ms/step - loss: 0.6057 - accuracy: 0.6515 - val_loss: 0.6407 - val_accuracy: 0.6429\n",
            "Epoch 36/100\n",
            "20/20 [==============================] - 0s 7ms/step - loss: 0.6109 - accuracy: 0.6498 - val_loss: 0.6492 - val_accuracy: 0.6429\n",
            "Epoch 37/100\n",
            "20/20 [==============================] - 0s 7ms/step - loss: 0.6096 - accuracy: 0.6531 - val_loss: 0.6316 - val_accuracy: 0.6429\n",
            "Epoch 38/100\n",
            "20/20 [==============================] - 0s 8ms/step - loss: 0.5999 - accuracy: 0.6498 - val_loss: 0.6341 - val_accuracy: 0.6429\n",
            "Epoch 39/100\n",
            "20/20 [==============================] - 0s 7ms/step - loss: 0.6048 - accuracy: 0.6531 - val_loss: 0.6336 - val_accuracy: 0.6429\n",
            "Epoch 40/100\n",
            "20/20 [==============================] - 0s 7ms/step - loss: 0.6061 - accuracy: 0.6482 - val_loss: 0.6399 - val_accuracy: 0.6429\n",
            "Epoch 41/100\n",
            "20/20 [==============================] - 0s 7ms/step - loss: 0.6035 - accuracy: 0.6515 - val_loss: 0.6369 - val_accuracy: 0.6429\n",
            "Epoch 42/100\n",
            "20/20 [==============================] - 0s 7ms/step - loss: 0.6053 - accuracy: 0.6498 - val_loss: 0.6321 - val_accuracy: 0.6429\n",
            "Epoch 43/100\n",
            "20/20 [==============================] - 0s 8ms/step - loss: 0.6021 - accuracy: 0.6531 - val_loss: 0.6561 - val_accuracy: 0.6429\n",
            "Epoch 44/100\n",
            "20/20 [==============================] - 0s 7ms/step - loss: 0.6053 - accuracy: 0.6466 - val_loss: 0.6576 - val_accuracy: 0.6429\n",
            "Epoch 45/100\n",
            "20/20 [==============================] - 0s 7ms/step - loss: 0.6002 - accuracy: 0.6531 - val_loss: 0.6406 - val_accuracy: 0.6429\n",
            "Epoch 46/100\n",
            "20/20 [==============================] - 0s 7ms/step - loss: 0.6033 - accuracy: 0.6531 - val_loss: 0.6277 - val_accuracy: 0.6429\n",
            "Epoch 47/100\n",
            "20/20 [==============================] - 0s 7ms/step - loss: 0.6078 - accuracy: 0.6531 - val_loss: 0.6369 - val_accuracy: 0.6429\n",
            "Epoch 48/100\n",
            "20/20 [==============================] - 0s 7ms/step - loss: 0.6028 - accuracy: 0.6515 - val_loss: 0.6469 - val_accuracy: 0.6429\n",
            "Epoch 49/100\n",
            "20/20 [==============================] - 0s 7ms/step - loss: 0.6034 - accuracy: 0.6515 - val_loss: 0.6336 - val_accuracy: 0.6429\n",
            "Epoch 50/100\n",
            "20/20 [==============================] - 0s 6ms/step - loss: 0.6062 - accuracy: 0.6531 - val_loss: 0.6320 - val_accuracy: 0.6429\n",
            "Epoch 51/100\n",
            "20/20 [==============================] - 0s 7ms/step - loss: 0.6039 - accuracy: 0.6531 - val_loss: 0.6328 - val_accuracy: 0.6429\n",
            "Epoch 52/100\n",
            "20/20 [==============================] - 0s 7ms/step - loss: 0.6066 - accuracy: 0.6531 - val_loss: 0.6345 - val_accuracy: 0.6429\n",
            "Epoch 53/100\n",
            "20/20 [==============================] - 0s 7ms/step - loss: 0.5965 - accuracy: 0.6531 - val_loss: 0.6373 - val_accuracy: 0.6429\n",
            "Epoch 54/100\n",
            "20/20 [==============================] - 0s 6ms/step - loss: 0.6136 - accuracy: 0.6531 - val_loss: 0.6372 - val_accuracy: 0.6429\n",
            "Epoch 55/100\n",
            "20/20 [==============================] - 0s 7ms/step - loss: 0.6049 - accuracy: 0.6515 - val_loss: 0.6339 - val_accuracy: 0.6429\n",
            "Epoch 56/100\n",
            "20/20 [==============================] - 0s 7ms/step - loss: 0.6055 - accuracy: 0.6531 - val_loss: 0.6373 - val_accuracy: 0.6429\n",
            "Epoch 57/100\n",
            "20/20 [==============================] - 0s 7ms/step - loss: 0.6087 - accuracy: 0.6531 - val_loss: 0.6345 - val_accuracy: 0.6429\n",
            "Epoch 58/100\n",
            "20/20 [==============================] - 0s 11ms/step - loss: 0.6040 - accuracy: 0.6531 - val_loss: 0.6403 - val_accuracy: 0.6429\n",
            "Epoch 59/100\n",
            "20/20 [==============================] - 0s 7ms/step - loss: 0.6012 - accuracy: 0.6531 - val_loss: 0.6486 - val_accuracy: 0.6429\n",
            "Epoch 60/100\n",
            "20/20 [==============================] - 0s 6ms/step - loss: 0.6056 - accuracy: 0.6531 - val_loss: 0.6312 - val_accuracy: 0.6429\n",
            "Epoch 61/100\n",
            "20/20 [==============================] - 0s 7ms/step - loss: 0.6049 - accuracy: 0.6531 - val_loss: 0.6376 - val_accuracy: 0.6104\n",
            "Epoch 62/100\n",
            "20/20 [==============================] - 0s 7ms/step - loss: 0.6025 - accuracy: 0.6482 - val_loss: 0.6395 - val_accuracy: 0.6429\n",
            "Epoch 63/100\n",
            "20/20 [==============================] - 0s 7ms/step - loss: 0.6057 - accuracy: 0.6531 - val_loss: 0.6220 - val_accuracy: 0.6429\n",
            "Epoch 64/100\n",
            "20/20 [==============================] - 0s 7ms/step - loss: 0.6020 - accuracy: 0.6515 - val_loss: 0.6319 - val_accuracy: 0.6429\n",
            "Epoch 65/100\n",
            "20/20 [==============================] - 0s 8ms/step - loss: 0.6075 - accuracy: 0.6498 - val_loss: 0.6269 - val_accuracy: 0.6429\n",
            "Epoch 66/100\n",
            "20/20 [==============================] - 0s 7ms/step - loss: 0.6008 - accuracy: 0.6531 - val_loss: 0.6343 - val_accuracy: 0.6429\n",
            "Epoch 67/100\n",
            "20/20 [==============================] - 0s 8ms/step - loss: 0.6048 - accuracy: 0.6531 - val_loss: 0.6477 - val_accuracy: 0.6234\n",
            "Epoch 68/100\n",
            "20/20 [==============================] - 0s 8ms/step - loss: 0.6041 - accuracy: 0.6433 - val_loss: 0.6450 - val_accuracy: 0.6429\n",
            "Epoch 69/100\n",
            "20/20 [==============================] - 0s 9ms/step - loss: 0.6026 - accuracy: 0.6564 - val_loss: 0.6533 - val_accuracy: 0.6429\n",
            "Epoch 70/100\n",
            "20/20 [==============================] - 0s 8ms/step - loss: 0.6020 - accuracy: 0.6531 - val_loss: 0.6510 - val_accuracy: 0.6429\n",
            "Epoch 71/100\n",
            "20/20 [==============================] - 0s 8ms/step - loss: 0.6005 - accuracy: 0.6531 - val_loss: 0.6389 - val_accuracy: 0.6429\n",
            "Epoch 72/100\n",
            "20/20 [==============================] - 0s 8ms/step - loss: 0.6081 - accuracy: 0.6531 - val_loss: 0.6389 - val_accuracy: 0.6429\n",
            "Epoch 73/100\n",
            "20/20 [==============================] - 0s 14ms/step - loss: 0.6073 - accuracy: 0.6531 - val_loss: 0.6404 - val_accuracy: 0.6429\n",
            "Epoch 74/100\n",
            "20/20 [==============================] - 0s 8ms/step - loss: 0.6091 - accuracy: 0.6531 - val_loss: 0.6797 - val_accuracy: 0.6429\n",
            "Epoch 75/100\n",
            "20/20 [==============================] - 0s 8ms/step - loss: 0.6092 - accuracy: 0.6531 - val_loss: 0.6553 - val_accuracy: 0.6429\n",
            "Epoch 76/100\n",
            "20/20 [==============================] - 0s 11ms/step - loss: 0.6016 - accuracy: 0.6531 - val_loss: 0.6407 - val_accuracy: 0.6429\n",
            "Epoch 77/100\n",
            "20/20 [==============================] - 0s 7ms/step - loss: 0.6056 - accuracy: 0.6531 - val_loss: 0.6436 - val_accuracy: 0.6429\n",
            "Epoch 78/100\n",
            "20/20 [==============================] - 0s 7ms/step - loss: 0.6074 - accuracy: 0.6531 - val_loss: 0.6436 - val_accuracy: 0.6429\n",
            "Epoch 79/100\n",
            "20/20 [==============================] - 0s 7ms/step - loss: 0.6075 - accuracy: 0.6515 - val_loss: 0.6613 - val_accuracy: 0.6429\n",
            "Epoch 80/100\n",
            "20/20 [==============================] - 0s 8ms/step - loss: 0.6009 - accuracy: 0.6531 - val_loss: 0.6443 - val_accuracy: 0.6429\n",
            "Epoch 81/100\n",
            "20/20 [==============================] - 0s 8ms/step - loss: 0.6016 - accuracy: 0.6531 - val_loss: 0.6450 - val_accuracy: 0.6429\n",
            "Epoch 82/100\n",
            "20/20 [==============================] - 0s 8ms/step - loss: 0.6014 - accuracy: 0.6531 - val_loss: 0.6499 - val_accuracy: 0.6429\n",
            "Epoch 83/100\n",
            "20/20 [==============================] - 0s 7ms/step - loss: 0.6065 - accuracy: 0.6515 - val_loss: 0.6419 - val_accuracy: 0.6429\n",
            "Epoch 84/100\n",
            "20/20 [==============================] - 0s 7ms/step - loss: 0.6017 - accuracy: 0.6515 - val_loss: 0.6503 - val_accuracy: 0.6429\n",
            "Epoch 85/100\n",
            "20/20 [==============================] - 0s 7ms/step - loss: 0.6055 - accuracy: 0.6531 - val_loss: 0.6506 - val_accuracy: 0.6234\n",
            "Epoch 86/100\n",
            "20/20 [==============================] - 0s 7ms/step - loss: 0.6053 - accuracy: 0.6482 - val_loss: 0.6420 - val_accuracy: 0.6429\n",
            "Epoch 87/100\n",
            "20/20 [==============================] - 0s 15ms/step - loss: 0.6043 - accuracy: 0.6515 - val_loss: 0.6605 - val_accuracy: 0.6429\n",
            "Epoch 88/100\n",
            "20/20 [==============================] - 0s 12ms/step - loss: 0.6011 - accuracy: 0.6531 - val_loss: 0.6493 - val_accuracy: 0.6429\n",
            "Epoch 89/100\n",
            "20/20 [==============================] - 0s 8ms/step - loss: 0.5990 - accuracy: 0.6531 - val_loss: 0.6483 - val_accuracy: 0.6429\n",
            "Epoch 90/100\n",
            "20/20 [==============================] - 0s 9ms/step - loss: 0.5922 - accuracy: 0.6531 - val_loss: 0.6385 - val_accuracy: 0.6429\n",
            "Epoch 91/100\n",
            "20/20 [==============================] - 0s 12ms/step - loss: 0.5940 - accuracy: 0.6531 - val_loss: 0.6431 - val_accuracy: 0.6429\n",
            "Epoch 92/100\n",
            "20/20 [==============================] - 0s 12ms/step - loss: 0.6007 - accuracy: 0.6531 - val_loss: 0.6361 - val_accuracy: 0.6429\n",
            "Epoch 93/100\n",
            "20/20 [==============================] - 0s 11ms/step - loss: 0.5991 - accuracy: 0.6531 - val_loss: 0.6313 - val_accuracy: 0.6429\n",
            "Epoch 94/100\n",
            "20/20 [==============================] - 0s 8ms/step - loss: 0.5984 - accuracy: 0.6531 - val_loss: 0.6333 - val_accuracy: 0.6429\n",
            "Epoch 95/100\n",
            "20/20 [==============================] - 0s 7ms/step - loss: 0.5972 - accuracy: 0.6531 - val_loss: 0.6480 - val_accuracy: 0.6429\n",
            "Epoch 96/100\n",
            "20/20 [==============================] - 0s 7ms/step - loss: 0.5976 - accuracy: 0.6531 - val_loss: 0.6669 - val_accuracy: 0.6429\n",
            "Epoch 97/100\n",
            "20/20 [==============================] - 0s 7ms/step - loss: 0.6026 - accuracy: 0.6531 - val_loss: 0.6413 - val_accuracy: 0.6429\n",
            "Epoch 98/100\n",
            "20/20 [==============================] - 0s 8ms/step - loss: 0.6003 - accuracy: 0.6531 - val_loss: 0.6499 - val_accuracy: 0.6429\n",
            "Epoch 99/100\n",
            "20/20 [==============================] - 0s 12ms/step - loss: 0.6039 - accuracy: 0.6531 - val_loss: 0.6452 - val_accuracy: 0.6429\n",
            "Epoch 100/100\n",
            "20/20 [==============================] - 0s 7ms/step - loss: 0.6002 - accuracy: 0.6531 - val_loss: 0.6586 - val_accuracy: 0.6429\n",
            "5/5 [==============================] - 0s 4ms/step - loss: 0.6586 - accuracy: 0.6429\n",
            "\n",
            "\n",
            "Test loss: 0.6585562825202942, Test accuracy: 0.6428571343421936\n"
          ]
        }
      ],
      "source": [
        "model.compile(optimizer=SGD(learning_rate=0.01), loss='binary_crossentropy', metrics=['accuracy'])\n",
        "\n",
        "model.fit(X_train, y_train, epochs=100, batch_size=32, validation_data=(X_test, y_test))\n",
        "\n",
        "loss, accuracy = model.evaluate(X_test, y_test)\n",
        "\n",
        "print(f\"\\n\\nTest loss: {loss}, Test accuracy: {accuracy}\")"
      ]
    },
    {
      "cell_type": "markdown",
      "metadata": {
        "id": "ATznVsBo-zcY"
      },
      "source": [
        "Predicting for test data"
      ]
    },
    {
      "cell_type": "code",
      "execution_count": 24,
      "metadata": {
        "colab": {
          "base_uri": "https://localhost:8080/"
        },
        "id": "FslX9ZlO4z_w",
        "outputId": "4e26e21a-89bb-456a-a657-de8a6b1605fa"
      },
      "outputs": [
        {
          "name": "stdout",
          "output_type": "stream",
          "text": [
            "5/5 [==============================] - 0s 3ms/step\n"
          ]
        }
      ],
      "source": [
        "y_pred = model.predict(X_test)"
      ]
    },
    {
      "cell_type": "markdown",
      "metadata": {
        "id": "V2fo5iYM_ANA"
      },
      "source": [
        "<hr>\n",
        "\n",
        "### Model Performance Evaluation"
      ]
    },
    {
      "cell_type": "code",
      "execution_count": 25,
      "metadata": {
        "colab": {
          "base_uri": "https://localhost:8080/"
        },
        "id": "3TAI29Fu-Esf",
        "outputId": "63123cc9-e24b-4e34-ead2-f39e7ffafcc3"
      },
      "outputs": [
        {
          "name": "stdout",
          "output_type": "stream",
          "text": [
            "ACCURACY :  0.6428571428571429\n",
            "RECALL :  0.0\n",
            "PRECISION :  0.0\n",
            "F1 :  0.0\n"
          ]
        },
        {
          "name": "stderr",
          "output_type": "stream",
          "text": [
            "C:\\Users\\Asus vivobook\\AppData\\Roaming\\Python\\Python310\\site-packages\\sklearn\\metrics\\_classification.py:1344: UndefinedMetricWarning: Precision is ill-defined and being set to 0.0 due to no predicted samples. Use `zero_division` parameter to control this behavior.\n",
            "  _warn_prf(average, modifier, msg_start, len(result))\n"
          ]
        },
        {
          "data": {
            "text/plain": [
              "array([[99,  0],\n",
              "       [55,  0]], dtype=int64)"
            ]
          },
          "execution_count": 25,
          "metadata": {},
          "output_type": "execute_result"
        }
      ],
      "source": [
        "from sklearn.metrics import confusion_matrix, accuracy_score, recall_score,  f1_score, precision_score\n",
        "\n",
        "print(\"ACCURACY : \", accuracy_score(y_test.astype(\"int32\"), y_pred.astype(\"int32\")))\n",
        "\n",
        "print(\"RECALL : \", recall_score(y_test.astype(\"int32\"), y_pred.astype(\"int32\")))\n",
        "\n",
        "print(\"PRECISION : \", precision_score(y_test.astype(\"int32\"), y_pred.astype(\"int32\")))\n",
        "\n",
        "print(\"F1 : \", f1_score(y_test.astype(\"int32\"), y_pred.astype(\"int32\")))\n",
        "\n",
        "confusion_matrix(y_test.astype(\"int32\"), y_pred.astype(\"int32\"))"
      ]
    },
    {
      "cell_type": "markdown",
      "metadata": {},
      "source": [
        "ROC Curve for the Binary Classification"
      ]
    },
    {
      "cell_type": "code",
      "execution_count": 30,
      "metadata": {},
      "outputs": [
        {
          "data": {
            "image/png": "[encoded data removed]",
            "text/plain": [
              "<Figure size 640x480 with 1 Axes>"
            ]
          },
          "metadata": {},
          "output_type": "display_data"
        }
      ],
      "source": [
        "import matplotlib.pyplot as plt\n",
        "from sklearn.metrics import roc_curve, precision_recall_curve\n",
        "\n",
        "fpr, tpr, thresholds = roc_curve(y_test, y_pred)\n",
        "\n",
        "plt.plot(fpr, tpr)\n",
        "plt.xlabel('False Positive Rate')\n",
        "plt.ylabel('True Positive Rate')\n",
        "plt.title('ROC Curve')\n",
        "plt.show()\n"
      ]
    },
    {
      "cell_type": "markdown",
      "metadata": {},
      "source": [
        "Precision Recall Curve for the Binary Classification"
      ]
    },
    {
      "cell_type": "code",
      "execution_count": 32,
      "metadata": {},
      "outputs": [
        {
          "data": {
            "image/png": "[encoded data removed]",
            "text/plain": [
              "<Figure size 640x480 with 1 Axes>"
            ]
          },
          "metadata": {},
          "output_type": "display_data"
        }
      ],
      "source": [
        "fpr, tpr, thresholds = precision_recall_curve(y_test, y_pred)\n",
        "\n",
        "plt.plot(fpr, tpr)\n",
        "plt.title('Precision Recall Curve')\n",
        "plt.show()\n"
      ]
    },
    {
      "cell_type": "markdown",
      "metadata": {
        "id": "fl7Vo4DQA7X9"
      },
      "source": [
        "<hr><hr>"
      ]
    }
  ],
  "metadata": {
    "colab": {
      "provenance": [],
      "toc_visible": true
    },
    "kernelspec": {
      "display_name": "Python 3",
      "name": "python3"
    },
    "language_info": {
      "codemirror_mode": {
        "name": "ipython",
        "version": 3
      },
      "file_extension": ".py",
      "mimetype": "text/x-python",
      "name": "python",
      "nbconvert_exporter": "python",
      "pygments_lexer": "ipython3",
      "version": "3.10.10"
    }
  },
  "nbformat": 4,
  "nbformat_minor": 0
}
