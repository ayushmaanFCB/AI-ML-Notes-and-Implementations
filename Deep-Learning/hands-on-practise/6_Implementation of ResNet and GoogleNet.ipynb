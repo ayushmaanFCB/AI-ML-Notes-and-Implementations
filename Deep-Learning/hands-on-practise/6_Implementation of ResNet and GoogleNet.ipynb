{
  "cells": [
    {
      "cell_type": "markdown",
      "metadata": {
        "id": "MSjiUJT97-dM"
      },
      "source": [
        "### PROBLEM STATEMENT\n",
        "*\"Implement pre-trained GoogleNet, and ResNet to perform classification\n",
        "using with and without trainable layers\"*\n",
        "\n",
        "- Ayushmaan Das (E0121037)"
      ]
    },
    {
      "cell_type": "markdown",
      "metadata": {
        "id": "yMFsaDNfQCtZ"
      },
      "source": [
        "### Importing the Modules"
      ]
    },
    {
      "cell_type": "code",
      "execution_count": 44,
      "metadata": {
        "id": "rYxUfrW5Z7fE"
      },
      "outputs": [],
      "source": [
        "from keras.applications import ResNet50\n",
        "from keras.applications.inception_v3 import InceptionV3\n",
        "\n",
        "import numpy as np, pandas as pd, matplotlib.pyplot as plt, random\n",
        "\n",
        "from keras.preprocessing.image import ImageDataGenerator, load_img\n",
        "from keras.utils import to_categorical\n",
        "from keras.preprocessing.image import ImageDataGenerator\n",
        "from keras.applications.resnet import preprocess_input\n",
        "\n",
        "from sklearn.model_selection import train_test_split\n",
        "\n",
        "from sklearn.metrics import confusion_matrix, classification_report, accuracy_score"
      ]
    },
    {
      "cell_type": "markdown",
      "metadata": {
        "id": "4C0rSFHTQHKf"
      },
      "source": [
        "<hr>\n",
        "\n",
        "### Loading the Cifar10 Dataset"
      ]
    },
    {
      "cell_type": "code",
      "execution_count": 45,
      "metadata": {
        "id": "oyZsHKCAaHDF"
      },
      "outputs": [],
      "source": [
        "from keras.datasets import cifar10\n",
        "\n",
        "(X_train, y_train), (X_test, y_test) = cifar10.load_data()"
      ]
    },
    {
      "cell_type": "code",
      "execution_count": 46,
      "metadata": {
        "colab": {
          "base_uri": "https://localhost:8080/"
        },
        "id": "KRjCzHjhazoP",
        "outputId": "c6d4817e-5e80-44bc-95cd-9ad9103d016a"
      },
      "outputs": [
        {
          "name": "stdout",
          "output_type": "stream",
          "text": [
            "(35000, 32, 32, 3)\n",
            "(15000, 32, 32, 3)\n",
            "(35000, 1)\n",
            "(15000, 1)\n"
          ]
        }
      ],
      "source": [
        "X_train, X_val, y_train, y_val = train_test_split(X_train, y_train, test_size=0.3)\n",
        "\n",
        "print(X_train.shape)\n",
        "print(X_val.shape)\n",
        "\n",
        "print(y_train.shape)\n",
        "print(y_val.shape)"
      ]
    },
    {
      "cell_type": "markdown",
      "metadata": {
        "id": "G_ByOulWQJzs"
      },
      "source": [
        "<hr>\n",
        "\n",
        "### Pre-Processing of the Dataset"
      ]
    },
    {
      "cell_type": "code",
      "execution_count": 47,
      "metadata": {
        "id": "ZiBtbRxUMHVp"
      },
      "outputs": [],
      "source": [
        "X_train = preprocess_input(X_train)\n",
        "X_test = preprocess_input(X_test)"
      ]
    },
    {
      "cell_type": "markdown",
      "metadata": {
        "id": "bxHLkDOxQNu_"
      },
      "source": [
        "One Hot Encoding of target column"
      ]
    },
    {
      "cell_type": "code",
      "execution_count": 48,
      "metadata": {
        "colab": {
          "base_uri": "https://localhost:8080/"
        },
        "id": "bW-KeZzZcHFz",
        "outputId": "38cf3eda-a8f6-4c01-ca17-482257c63b7b"
      },
      "outputs": [
        {
          "data": {
            "text/plain": [
              "array([[0., 0., 0., ..., 0., 0., 0.],\n",
              "       [0., 0., 0., ..., 0., 1., 0.],\n",
              "       [0., 0., 0., ..., 0., 1., 0.],\n",
              "       ...,\n",
              "       [0., 0., 0., ..., 0., 0., 0.],\n",
              "       [0., 1., 0., ..., 0., 0., 0.],\n",
              "       [0., 0., 0., ..., 1., 0., 0.]], dtype=float32)"
            ]
          },
          "execution_count": 48,
          "metadata": {},
          "output_type": "execute_result"
        }
      ],
      "source": [
        "y_train = to_categorical(y_train,10)\n",
        "y_val = to_categorical(y_val,10)\n",
        "y_test = to_categorical(y_test,10)\n",
        "\n",
        "y_test"
      ]
    },
    {
      "cell_type": "markdown",
      "metadata": {
        "id": "V3w80jxhQRxs"
      },
      "source": [
        "### Loading the pre-built models"
      ]
    },
    {
      "cell_type": "markdown",
      "metadata": {
        "id": "QBbY1cE_8GhA"
      },
      "source": [
        "Resnet 50 Model"
      ]
    },
    {
      "cell_type": "code",
      "execution_count": 49,
      "metadata": {
        "id": "IOYYc18JcUSH"
      },
      "outputs": [],
      "source": [
        "resnet_model = ResNet50(weights='imagenet', include_top=False, input_shape=(32, 32, 3))"
      ]
    },
    {
      "cell_type": "markdown",
      "metadata": {
        "id": "gpEbMQgf8Kf5"
      },
      "source": [
        "Inception V3 (Google Net)"
      ]
    },
    {
      "cell_type": "code",
      "execution_count": 50,
      "metadata": {
        "id": "qdaifOfG8J0b"
      },
      "outputs": [],
      "source": [
        "inception_model = InceptionV3(weights='imagenet', include_top=False, input_shape=(75, 75, 3))"
      ]
    },
    {
      "cell_type": "markdown",
      "metadata": {
        "id": "nM0xnWIkQXyV"
      },
      "source": [
        "<hr>\n",
        "\n",
        "### Without Trainable Layers\n",
        "\n",
        "- using the existing Keras VGG-16 Model\n",
        "- can't update or customize weights and parameters at various layers"
      ]
    },
    {
      "cell_type": "markdown",
      "metadata": {
        "id": "6PD3131f-Swy"
      },
      "source": [
        "Freezing the pre-built layers"
      ]
    },
    {
      "cell_type": "code",
      "execution_count": 53,
      "metadata": {
        "id": "H2LmhypzMM0U"
      },
      "outputs": [],
      "source": [
        "for layer in resnet_model.layers:\n",
        "    layer.trainable = False"
      ]
    },
    {
      "cell_type": "code",
      "execution_count": 54,
      "metadata": {
        "id": "F6s3iNEc-Z00"
      },
      "outputs": [],
      "source": [
        "for layer in inception_model.layers:\n",
        "    layer.trainable = False"
      ]
    },
    {
      "cell_type": "markdown",
      "metadata": {
        "id": "MizVH4rSQc-H"
      },
      "source": [
        "Defining our New Architecture"
      ]
    },
    {
      "cell_type": "code",
      "execution_count": 55,
      "metadata": {
        "id": "815QM55AMQd1"
      },
      "outputs": [],
      "source": [
        "from keras.layers import Dense, Flatten\n",
        "from keras.models import Sequential\n",
        "from keras.optimizers import Adam\n",
        "\n",
        "model_resnet = Sequential()\n",
        "\n",
        "model_resnet.add(resnet_model)\n",
        "\n",
        "model_resnet.add(Flatten())\n",
        "\n",
        "model_resnet.add(Dense(512, activation='relu'))\n",
        "\n",
        "model_resnet.add(Dense(10, activation='softmax'))  # Output layer with 10 classes for CIFAR-10\n",
        "\n",
        "model_resnet.compile(optimizer=Adam(), loss='categorical_crossentropy', metrics=['accuracy'])"
      ]
    },
    {
      "cell_type": "code",
      "execution_count": 56,
      "metadata": {
        "id": "vezBI1fF-lRB"
      },
      "outputs": [],
      "source": [
        "model_inception = Sequential()\n",
        "\n",
        "model_inception.add(inception_model)\n",
        "\n",
        "model_inception.add(Flatten())\n",
        "\n",
        "model_inception.add(Dense(1024, activation='relu'))\n",
        "\n",
        "model_inception.add(Dense(10, activation='softmax'))  # Output layer with 10 classes for CIFAR-10\n",
        "\n",
        "model_inception.compile(optimizer=Adam(), loss='categorical_crossentropy', metrics=['accuracy'])"
      ]
    },
    {
      "cell_type": "markdown",
      "metadata": {
        "id": "OQpztFE2QlxU"
      },
      "source": [
        "Model Training"
      ]
    },
    {
      "cell_type": "code",
      "execution_count": 67,
      "metadata": {
        "colab": {
          "base_uri": "https://localhost:8080/"
        },
        "id": "iEc6a_fmNF8v",
        "outputId": "2cd82662-777f-4016-f893-f2c6f101e127"
      },
      "outputs": [
        {
          "name": "stdout",
          "output_type": "stream",
          "text": [
            "Epoch 1/10\n",
            "547/547 [==============================] - 10s 18ms/step - loss: 0.1295 - accuracy: 0.9553 - val_loss: 2.1207 - val_accuracy: 0.6383\n",
            "Epoch 2/10\n",
            "547/547 [==============================] - 9s 16ms/step - loss: 0.1029 - accuracy: 0.9652 - val_loss: 2.3201 - val_accuracy: 0.6330\n",
            "Epoch 3/10\n",
            "547/547 [==============================] - 9s 16ms/step - loss: 0.0992 - accuracy: 0.9673 - val_loss: 2.5295 - val_accuracy: 0.6384\n",
            "Epoch 4/10\n",
            "547/547 [==============================] - 10s 18ms/step - loss: 0.1078 - accuracy: 0.9643 - val_loss: 2.5449 - val_accuracy: 0.6320\n",
            "Epoch 5/10\n",
            "547/547 [==============================] - 10s 18ms/step - loss: 0.1106 - accuracy: 0.9633 - val_loss: 2.5829 - val_accuracy: 0.6378\n",
            "Epoch 6/10\n",
            "547/547 [==============================] - 10s 18ms/step - loss: 0.0764 - accuracy: 0.9738 - val_loss: 2.6730 - val_accuracy: 0.6430\n",
            "Epoch 7/10\n",
            "547/547 [==============================] - 9s 17ms/step - loss: 0.0621 - accuracy: 0.9797 - val_loss: 2.8896 - val_accuracy: 0.6382\n",
            "Epoch 8/10\n",
            "547/547 [==============================] - 9s 16ms/step - loss: 0.0794 - accuracy: 0.9742 - val_loss: 2.9882 - val_accuracy: 0.6326\n",
            "Epoch 9/10\n",
            "547/547 [==============================] - 9s 16ms/step - loss: 0.0702 - accuracy: 0.9772 - val_loss: 3.1189 - val_accuracy: 0.6386\n",
            "Epoch 10/10\n",
            "547/547 [==============================] - 10s 18ms/step - loss: 0.0818 - accuracy: 0.9746 - val_loss: 3.0771 - val_accuracy: 0.6348\n"
          ]
        }
      ],
      "source": [
        "hist1 = model_resnet.fit(X_train, y_train, batch_size=64, epochs=10, validation_data=(X_test, y_test))"
      ]
    },
    {
      "cell_type": "markdown",
      "metadata": {
        "id": "pYO3fFwSD8Vx"
      },
      "source": [
        "Resizing because Inception Models need a minimum 75 x 75 dimension"
      ]
    },
    {
      "cell_type": "code",
      "execution_count": 59,
      "metadata": {
        "colab": {
          "base_uri": "https://localhost:8080/"
        },
        "id": "tUw6FsEF_pBE",
        "outputId": "c1c8b1f7-3278-4947-9858-5b6566fc702f"
      },
      "outputs": [
        {
          "data": {
            "text/plain": [
              "TensorShape([35000, 75, 75, 3])"
            ]
          },
          "execution_count": 59,
          "metadata": {},
          "output_type": "execute_result"
        }
      ],
      "source": [
        "from tensorflow.image import resize\n",
        "\n",
        "X_train_resized = resize(X_train, size=(75, 75))\n",
        "X_test_resized = resize(X_test, size=(75, 75))\n",
        "X_val_resized = resize(X_val, size=(75, 75))\n",
        "\n",
        "X_train_resized.shape"
      ]
    },
    {
      "cell_type": "code",
      "execution_count": 66,
      "metadata": {
        "colab": {
          "base_uri": "https://localhost:8080/"
        },
        "id": "Ak0DN-A-EHw6",
        "outputId": "538297bc-bacf-42be-9e0f-2a0cb35741e0"
      },
      "outputs": [
        {
          "name": "stdout",
          "output_type": "stream",
          "text": [
            "Epoch 1/10\n",
            "547/547 [==============================] - 16s 29ms/step - loss: 1.7861 - accuracy: 0.3643 - val_loss: 3.2159 - val_accuracy: 0.1508\n",
            "Epoch 2/10\n",
            "547/547 [==============================] - 15s 28ms/step - loss: 1.7709 - accuracy: 0.3691 - val_loss: 3.8889 - val_accuracy: 0.1296\n",
            "Epoch 3/10\n",
            "547/547 [==============================] - 16s 30ms/step - loss: 1.7681 - accuracy: 0.3687 - val_loss: 2.6803 - val_accuracy: 0.1564\n",
            "Epoch 4/10\n",
            "547/547 [==============================] - 16s 30ms/step - loss: 1.7620 - accuracy: 0.3689 - val_loss: 3.1941 - val_accuracy: 0.1541\n",
            "Epoch 5/10\n",
            "547/547 [==============================] - 16s 30ms/step - loss: 1.7542 - accuracy: 0.3738 - val_loss: 3.3074 - val_accuracy: 0.1492\n",
            "Epoch 6/10\n",
            "547/547 [==============================] - 15s 28ms/step - loss: 1.7452 - accuracy: 0.3760 - val_loss: 3.4007 - val_accuracy: 0.1355\n",
            "Epoch 7/10\n",
            "547/547 [==============================] - 16s 30ms/step - loss: 1.7365 - accuracy: 0.3819 - val_loss: 3.4765 - val_accuracy: 0.1452\n",
            "Epoch 8/10\n",
            "547/547 [==============================] - 16s 30ms/step - loss: 1.7338 - accuracy: 0.3822 - val_loss: 3.8961 - val_accuracy: 0.1510\n",
            "Epoch 9/10\n",
            "547/547 [==============================] - 16s 29ms/step - loss: 1.7272 - accuracy: 0.3851 - val_loss: 3.6514 - val_accuracy: 0.1410\n",
            "Epoch 10/10\n",
            "547/547 [==============================] - 16s 30ms/step - loss: 1.7207 - accuracy: 0.3889 - val_loss: 3.2632 - val_accuracy: 0.1489\n"
          ]
        }
      ],
      "source": [
        "hist2 = model_inception.fit(X_train_resized, y_train, batch_size=64, epochs=10, validation_data=(X_val_resized, y_val))"
      ]
    },
    {
      "cell_type": "markdown",
      "metadata": {
        "id": "Xfc4J3MuQrkj"
      },
      "source": [
        "Accuracy and Predictions"
      ]
    },
    {
      "cell_type": "code",
      "execution_count": 68,
      "metadata": {
        "colab": {
          "base_uri": "https://localhost:8080/"
        },
        "id": "521CTU2nNL6i",
        "outputId": "efc4b000-3d6a-463f-8473-84722f0a3af9"
      },
      "outputs": [
        {
          "name": "stdout",
          "output_type": "stream",
          "text": [
            "Test loss: 3.0770623683929443\n",
            "Test accuracy: 0.6348000168800354\n"
          ]
        }
      ],
      "source": [
        "score = model_resnet.evaluate(X_test, y_test, verbose=0)\n",
        "\n",
        "print('Test loss:', score[0])\n",
        "\n",
        "print('Test accuracy:', score[1])"
      ]
    },
    {
      "cell_type": "code",
      "execution_count": 69,
      "metadata": {
        "colab": {
          "base_uri": "https://localhost:8080/"
        },
        "id": "bMWFlCXOHblP",
        "outputId": "e2808264-bdc3-449d-b8e8-36b050f3dfba"
      },
      "outputs": [
        {
          "name": "stdout",
          "output_type": "stream",
          "text": [
            "Test loss: 1.8781983852386475\n",
            "Test accuracy: 0.33809998631477356\n"
          ]
        }
      ],
      "source": [
        "score = model_inception.evaluate(X_test_resized, y_test, verbose=0)\n",
        "\n",
        "print('Test loss:', score[0])\n",
        "\n",
        "print('Test accuracy:', score[1])"
      ]
    },
    {
      "cell_type": "code",
      "execution_count": 70,
      "metadata": {
        "colab": {
          "base_uri": "https://localhost:8080/",
          "height": 472
        },
        "id": "GHZCqsygKTNa",
        "outputId": "a2858e0d-5c1d-4853-c40e-89fefc3c3d05"
      },
      "outputs": [
        {
          "data": {
            "image/png": "[encoded data removed]",
            "text/plain": [
              "<Figure size 640x480 with 2 Axes>"
            ]
          },
          "metadata": {},
          "output_type": "display_data"
        }
      ],
      "source": [
        "plt.subplot(1,2,1)\n",
        "plt.plot(hist1.history['loss'], label='Training Loss')\n",
        "plt.plot(hist1.history['val_loss'], label='Validation Loss')\n",
        "plt.xlabel('Epochs')\n",
        "plt.ylabel('Loss')\n",
        "plt.title('Model Training History')\n",
        "plt.legend()\n",
        "\n",
        "plt.subplot(1,2,2)\n",
        "plt.plot(hist2.history['loss'], label='Training Loss')\n",
        "plt.plot(hist2.history['val_loss'], label='Validation Loss')\n",
        "plt.xlabel('Epochs')\n",
        "plt.ylabel('Loss')\n",
        "plt.title('Model Training History')\n",
        "plt.legend()\n",
        "plt.show()"
      ]
    },
    {
      "cell_type": "markdown",
      "metadata": {
        "id": "mxwneTVjHvD6"
      },
      "source": [
        "<hr>\n",
        "\n",
        "### Making few selective layers trainable\n",
        "\n",
        "\n",
        "- Unfreezing few base layers\n",
        "- The selcted layers of the frozen model will undergo weight updation"
      ]
    },
    {
      "cell_type": "code",
      "execution_count": 77,
      "metadata": {
        "id": "ThG8aEqHMmb5"
      },
      "outputs": [],
      "source": [
        "trainable_layers_resnet = ['conv2_block1_1_relu', 'conv2_block1_1_relu', 'conv2_block1_1_relu', 'conv2_block1_1_relu', 'conv4_block6_2_conv']\n",
        "\n",
        "trainable_layers_inception = ['conv2d_156', 'conv2d_95', 'conv2d_111', 'conv2d_130', 'conv2d_169']"
      ]
    },
    {
      "cell_type": "code",
      "execution_count": 78,
      "metadata": {
        "id": "l1m8rRlNL_jo"
      },
      "outputs": [],
      "source": [
        "for layer in resnet_model.layers:\n",
        "  if layer.name in trainable_layers_resnet:\n",
        "    layer.set_trainable = True"
      ]
    },
    {
      "cell_type": "code",
      "execution_count": 79,
      "metadata": {
        "id": "1tDzkaT5No3U"
      },
      "outputs": [],
      "source": [
        "for layer in inception_model.layers:\n",
        "  if layer.name in trainable_layers_inception:\n",
        "    layer.set_trainable = True"
      ]
    },
    {
      "cell_type": "markdown",
      "metadata": {
        "id": "pMEBAYflOFm-"
      },
      "source": [
        "Model building and training"
      ]
    },
    {
      "cell_type": "code",
      "execution_count": 80,
      "metadata": {
        "colab": {
          "base_uri": "https://localhost:8080/"
        },
        "id": "aqP0tgujOEha",
        "outputId": "4e301dbc-e4f6-4c30-ae21-a9c485787ea8"
      },
      "outputs": [
        {
          "name": "stdout",
          "output_type": "stream",
          "text": [
            "Epoch 1/10\n",
            "547/547 [==============================] - 14s 20ms/step - loss: 1.2363 - accuracy: 0.5956 - val_loss: 1.0227 - val_accuracy: 0.6404\n",
            "Epoch 2/10\n",
            "547/547 [==============================] - 10s 18ms/step - loss: 0.8607 - accuracy: 0.6986 - val_loss: 1.0237 - val_accuracy: 0.6504\n",
            "Epoch 3/10\n",
            "547/547 [==============================] - 9s 16ms/step - loss: 0.7088 - accuracy: 0.7480 - val_loss: 1.0878 - val_accuracy: 0.6479\n",
            "Epoch 4/10\n",
            "547/547 [==============================] - 10s 18ms/step - loss: 0.5703 - accuracy: 0.7977 - val_loss: 1.1414 - val_accuracy: 0.6523\n",
            "Epoch 5/10\n",
            "547/547 [==============================] - 10s 18ms/step - loss: 0.4439 - accuracy: 0.8431 - val_loss: 1.2259 - val_accuracy: 0.6431\n",
            "Epoch 6/10\n",
            "547/547 [==============================] - 9s 16ms/step - loss: 0.3315 - accuracy: 0.8825 - val_loss: 1.3653 - val_accuracy: 0.6414\n",
            "Epoch 7/10\n",
            "547/547 [==============================] - 10s 19ms/step - loss: 0.2534 - accuracy: 0.9106 - val_loss: 1.4935 - val_accuracy: 0.6502\n",
            "Epoch 8/10\n",
            "547/547 [==============================] - 10s 18ms/step - loss: 0.2025 - accuracy: 0.9304 - val_loss: 1.6760 - val_accuracy: 0.6371\n",
            "Epoch 9/10\n",
            "547/547 [==============================] - 10s 17ms/step - loss: 0.1580 - accuracy: 0.9464 - val_loss: 1.8476 - val_accuracy: 0.6373\n",
            "Epoch 10/10\n",
            "547/547 [==============================] - 9s 16ms/step - loss: 0.1272 - accuracy: 0.9563 - val_loss: 1.9866 - val_accuracy: 0.6429\n"
          ]
        }
      ],
      "source": [
        "model_resnet_a = Sequential()\n",
        "\n",
        "model_resnet_a.add(resnet_model)\n",
        "\n",
        "model_resnet_a.add(Flatten())\n",
        "\n",
        "model_resnet_a.add(Dense(512, activation='relu'))\n",
        "\n",
        "model_resnet_a.add(Dense(10, activation='softmax'))  # Output layer with 10 classes for CIFAR-10\n",
        "\n",
        "model_resnet_a.compile(optimizer=Adam(), loss='categorical_crossentropy', metrics=['accuracy'])\n",
        "\n",
        "hist1_a = model_resnet_a.fit(X_train, y_train, batch_size=64, epochs=10, validation_data=(X_test, y_test))"
      ]
    },
    {
      "cell_type": "code",
      "execution_count": 83,
      "metadata": {
        "colab": {
          "base_uri": "https://localhost:8080/"
        },
        "id": "IvCXnGAYOaKW",
        "outputId": "96af440d-0dfb-42bc-fb18-b706f6d93629"
      },
      "outputs": [
        {
          "name": "stdout",
          "output_type": "stream",
          "text": [
            "Epoch 1/10\n",
            "547/547 [==============================] - 17s 31ms/step - loss: 1.7162 - accuracy: 0.3882 - val_loss: 3.4165 - val_accuracy: 0.1525\n",
            "Epoch 2/10\n",
            "547/547 [==============================] - 17s 31ms/step - loss: 1.7153 - accuracy: 0.3863 - val_loss: 3.2350 - val_accuracy: 0.1521\n",
            "Epoch 3/10\n",
            "547/547 [==============================] - 17s 30ms/step - loss: 1.7119 - accuracy: 0.3918 - val_loss: 3.1980 - val_accuracy: 0.1513\n",
            "Epoch 4/10\n",
            "547/547 [==============================] - 16s 29ms/step - loss: 1.7040 - accuracy: 0.3940 - val_loss: 3.1837 - val_accuracy: 0.1488\n",
            "Epoch 5/10\n",
            "547/547 [==============================] - 17s 30ms/step - loss: 1.7015 - accuracy: 0.3934 - val_loss: 3.2987 - val_accuracy: 0.1497\n",
            "Epoch 6/10\n",
            "547/547 [==============================] - 17s 30ms/step - loss: 1.6974 - accuracy: 0.3960 - val_loss: 4.0520 - val_accuracy: 0.1339\n",
            "Epoch 7/10\n",
            "547/547 [==============================] - 16s 30ms/step - loss: 1.6908 - accuracy: 0.4003 - val_loss: 3.8680 - val_accuracy: 0.1426\n",
            "Epoch 8/10\n",
            "547/547 [==============================] - 15s 28ms/step - loss: 1.6964 - accuracy: 0.3944 - val_loss: 3.6682 - val_accuracy: 0.1422\n",
            "Epoch 9/10\n",
            "547/547 [==============================] - 16s 30ms/step - loss: 1.6935 - accuracy: 0.3957 - val_loss: 3.2406 - val_accuracy: 0.1390\n",
            "Epoch 10/10\n",
            "547/547 [==============================] - 16s 30ms/step - loss: 1.6880 - accuracy: 0.3939 - val_loss: 3.4994 - val_accuracy: 0.1501\n"
          ]
        }
      ],
      "source": [
        "model_inception_a = Sequential()\n",
        "\n",
        "model_inception_a.add(inception_model)\n",
        "\n",
        "model_inception_a.add(Flatten())\n",
        "\n",
        "model_inception_a.add(Dense(1024, activation='relu'))\n",
        "\n",
        "model_inception_a.add(Dense(10, activation='softmax'))  # Output layer with 10 classes for CIFAR-10\n",
        "\n",
        "model_inception_a.compile(optimizer=Adam(), loss='categorical_crossentropy', metrics=['accuracy'])\n",
        "\n",
        "hist2_a = model_inception.fit(X_train_resized, y_train, batch_size=64, epochs=10, validation_data=(X_val_resized, y_val))"
      ]
    },
    {
      "cell_type": "markdown",
      "metadata": {
        "id": "nABLaMsBOncm"
      },
      "source": [
        "Accuracy and Predictions"
      ]
    },
    {
      "cell_type": "code",
      "execution_count": 82,
      "metadata": {
        "colab": {
          "base_uri": "https://localhost:8080/"
        },
        "id": "bufzQa44OsG_",
        "outputId": "9f9625bb-16e7-46da-cff6-7f89addbd629"
      },
      "outputs": [
        {
          "name": "stdout",
          "output_type": "stream",
          "text": [
            "Test loss: 1.9866441488265991\n",
            "Test accuracy: 0.6428999900817871\n"
          ]
        }
      ],
      "source": [
        "score = model_resnet_a.evaluate(X_test, y_test, verbose=0)\n",
        "\n",
        "print('Test loss:', score[0])\n",
        "\n",
        "print('Test accuracy:', score[1])"
      ]
    },
    {
      "cell_type": "code",
      "execution_count": 84,
      "metadata": {
        "colab": {
          "base_uri": "https://localhost:8080/"
        },
        "id": "qP-LvQCfOpSi",
        "outputId": "a1b4f44b-e250-48ff-d28a-336d3a172fed"
      },
      "outputs": [
        {
          "name": "stdout",
          "output_type": "stream",
          "text": [
            "Test loss: 1.9178259372711182\n",
            "Test accuracy: 0.33399999141693115\n"
          ]
        }
      ],
      "source": [
        "score = model_inception.evaluate(X_test_resized, y_test, verbose=0)\n",
        "\n",
        "print('Test loss:', score[0])\n",
        "\n",
        "print('Test accuracy:', score[1])"
      ]
    },
    {
      "cell_type": "code",
      "execution_count": 85,
      "metadata": {
        "colab": {
          "base_uri": "https://localhost:8080/",
          "height": 472
        },
        "id": "1rZkitAJOoi-",
        "outputId": "9587d8a6-73db-42a5-fd8f-05da6eab7f5a"
      },
      "outputs": [
        {
          "data": {
            "image/png": "[encoded data removed]",
            "text/plain": [
              "<Figure size 640x480 with 2 Axes>"
            ]
          },
          "metadata": {},
          "output_type": "display_data"
        }
      ],
      "source": [
        "plt.subplot(1,2,1)\n",
        "plt.plot(hist1_a.history['loss'], label='Training Loss')\n",
        "plt.plot(hist1_a.history['val_loss'], label='Validation Loss')\n",
        "plt.xlabel('Epochs')\n",
        "plt.ylabel('Loss')\n",
        "plt.title('Model Training History')\n",
        "plt.legend()\n",
        "\n",
        "plt.subplot(1,2,2)\n",
        "plt.plot(hist2_a.history['loss'], label='Training Loss')\n",
        "plt.plot(hist2_a.history['val_loss'], label='Validation Loss')\n",
        "plt.xlabel('Epochs')\n",
        "plt.ylabel('Loss')\n",
        "plt.title('Model Training History')\n",
        "plt.legend()\n",
        "plt.show()"
      ]
    },
    {
      "cell_type": "markdown",
      "metadata": {
        "id": "OcQKo-kMPtXY"
      },
      "source": [
        "<hr><hr>"
      ]
    }
  ],
  "metadata": {
    "accelerator": "GPU",
    "colab": {
      "gpuType": "T4",
      "provenance": []
    },
    "kernelspec": {
      "display_name": "Python 3",
      "name": "python3"
    },
    "language_info": {
      "name": "python"
    }
  },
  "nbformat": 4,
  "nbformat_minor": 0
}
